{
 "cells": [
  {
   "cell_type": "code",
   "execution_count": 1,
   "metadata": {
    "collapsed": true
   },
   "outputs": [
    {
     "data": {
      "text/plain": "Manim Community \u001B[32mv0.\u001B[0m\u001B[32m8.0\u001B[0m\n\n",
      "text/html": "<pre style=\"white-space:pre;overflow-x:auto;line-height:normal;font-family:Menlo,'DejaVu Sans Mono',consolas,'Courier New',monospace\">Manim Community <span style=\"color: #008000; text-decoration-color: #008000\">v0.8.0</span>\n\n</pre>\n"
     },
     "metadata": {},
     "output_type": "display_data"
    }
   ],
   "source": [
    "from manim import *"
   ]
  },
  {
   "cell_type": "code",
   "execution_count": 24,
   "outputs": [
    {
     "data": {
      "text/plain": "\u001B[2;36m[07/27/21 00:31:31]\u001B[0m\u001B[2;36m \u001B[0m\u001B[32mINFO    \u001B[0m Animation \u001B[32m0\u001B[0m : Using cached data \u001B[1m(\u001B[0mhash :    \u001B[2mcairo_renderer.py\u001B[0m\u001B[2m:100\u001B[0m\n                             3163782288_4095789078_3689423530\u001B[1m)\u001B[0m                               \n",
      "text/html": "<pre style=\"white-space:pre;overflow-x:auto;line-height:normal;font-family:Menlo,'DejaVu Sans Mono',consolas,'Courier New',monospace\"><span style=\"color: #7fbfbf; text-decoration-color: #7fbfbf\">[07/27/21 00:31:31] </span><span style=\"color: #008000; text-decoration-color: #008000\">INFO    </span> Animation <span style=\"color: #008000; text-decoration-color: #008000\">0</span> : Using cached data <span style=\"font-weight: bold\">(</span>hash :    <span style=\"color: #7f7f7f; text-decoration-color: #7f7f7f\">cairo_renderer.py:100</span>\n                             3163782288_4095789078_3689423530<span style=\"font-weight: bold\">)</span>                               \n</pre>\n"
     },
     "metadata": {},
     "output_type": "display_data"
    },
    {
     "name": "stderr",
     "output_type": "stream",
     "text": [
      "                                                                  \r"
     ]
    },
    {
     "data": {
      "text/plain": "\u001B[2;36m                   \u001B[0m\u001B[2;36m \u001B[0m\u001B[32mINFO    \u001B[0m Animation \u001B[32m1\u001B[0m : Using cached data \u001B[1m(\u001B[0mhash :    \u001B[2mcairo_renderer.py\u001B[0m\u001B[2m:100\u001B[0m\n                             607903841_2246932712_3689423530\u001B[1m)\u001B[0m                                \n",
      "text/html": "<pre style=\"white-space:pre;overflow-x:auto;line-height:normal;font-family:Menlo,'DejaVu Sans Mono',consolas,'Courier New',monospace\"><span style=\"color: #7fbfbf; text-decoration-color: #7fbfbf\">                    </span><span style=\"color: #008000; text-decoration-color: #008000\">INFO    </span> Animation <span style=\"color: #008000; text-decoration-color: #008000\">1</span> : Using cached data <span style=\"font-weight: bold\">(</span>hash :    <span style=\"color: #7f7f7f; text-decoration-color: #7f7f7f\">cairo_renderer.py:100</span>\n                             607903841_2246932712_3689423530<span style=\"font-weight: bold\">)</span>                                \n</pre>\n"
     },
     "metadata": {},
     "output_type": "display_data"
    },
    {
     "name": "stderr",
     "output_type": "stream",
     "text": [
      "                                                                     \r"
     ]
    },
    {
     "data": {
      "text/plain": "\u001B[2;36m                   \u001B[0m\u001B[2;36m \u001B[0m\u001B[32mINFO    \u001B[0m Animation \u001B[32m2\u001B[0m : Using cached data \u001B[1m(\u001B[0mhash :    \u001B[2mcairo_renderer.py\u001B[0m\u001B[2m:100\u001B[0m\n                             607903841_1842625628_3689423530\u001B[1m)\u001B[0m                                \n",
      "text/html": "<pre style=\"white-space:pre;overflow-x:auto;line-height:normal;font-family:Menlo,'DejaVu Sans Mono',consolas,'Courier New',monospace\"><span style=\"color: #7fbfbf; text-decoration-color: #7fbfbf\">                    </span><span style=\"color: #008000; text-decoration-color: #008000\">INFO    </span> Animation <span style=\"color: #008000; text-decoration-color: #008000\">2</span> : Using cached data <span style=\"font-weight: bold\">(</span>hash :    <span style=\"color: #7f7f7f; text-decoration-color: #7f7f7f\">cairo_renderer.py:100</span>\n                             607903841_1842625628_3689423530<span style=\"font-weight: bold\">)</span>                                \n</pre>\n"
     },
     "metadata": {},
     "output_type": "display_data"
    },
    {
     "name": "stderr",
     "output_type": "stream",
     "text": [
      "                                                                   \r"
     ]
    },
    {
     "data": {
      "text/plain": "\u001B[2;36m                   \u001B[0m\u001B[2;36m \u001B[0m\u001B[32mINFO    \u001B[0m                                         \u001B[2mscene_file_writer.py\u001B[0m\u001B[2m:597\u001B[0m\n                             \u001B[1;33mFile\u001B[0m ready at \u001B[32m'D:\\COURSES\\python\\code\\F\u001B[0m                         \n                             \u001B[32morier_Transform\\media\\videos\\Forier_Tra\u001B[0m                         \n                             \u001B[32mnsform\\480p15\\SquareToCircle.mp4'\u001B[0m                               \n                                                                                             \n",
      "text/html": "<pre style=\"white-space:pre;overflow-x:auto;line-height:normal;font-family:Menlo,'DejaVu Sans Mono',consolas,'Courier New',monospace\"><span style=\"color: #7fbfbf; text-decoration-color: #7fbfbf\">                    </span><span style=\"color: #008000; text-decoration-color: #008000\">INFO    </span>                                         <span style=\"color: #7f7f7f; text-decoration-color: #7f7f7f\">scene_file_writer.py:597</span>\n                             <span style=\"color: #808000; text-decoration-color: #808000; font-weight: bold\">File</span> ready at <span style=\"color: #008000; text-decoration-color: #008000\">'D:\\COURSES\\python\\code\\F</span>                         \n                             <span style=\"color: #008000; text-decoration-color: #008000\">orier_Transform\\media\\videos\\Forier_Tra</span>                         \n                             <span style=\"color: #008000; text-decoration-color: #008000\">nsform\\480p15\\SquareToCircle.mp4'</span>                               \n                                                                                             \n</pre>\n"
     },
     "metadata": {},
     "output_type": "display_data"
    },
    {
     "data": {
      "text/plain": "\u001B[2;36m                   \u001B[0m\u001B[2;36m \u001B[0m\u001B[32mINFO    \u001B[0m \u001B[1;33mRendered\u001B[0m SquareToCircle                             \u001B[2mscene.py\u001B[0m\u001B[2m:228\u001B[0m\n                             \u001B[1;33mPlayed\u001B[0m \u001B[32m3\u001B[0m \u001B[1;33manimations\u001B[0m                                             \n",
      "text/html": "<pre style=\"white-space:pre;overflow-x:auto;line-height:normal;font-family:Menlo,'DejaVu Sans Mono',consolas,'Courier New',monospace\"><span style=\"color: #7fbfbf; text-decoration-color: #7fbfbf\">                    </span><span style=\"color: #008000; text-decoration-color: #008000\">INFO    </span> <span style=\"color: #808000; text-decoration-color: #808000; font-weight: bold\">Rendered</span> SquareToCircle                             <span style=\"color: #7f7f7f; text-decoration-color: #7f7f7f\">scene.py:228</span>\n                             <span style=\"color: #808000; text-decoration-color: #808000; font-weight: bold\">Played</span> <span style=\"color: #008000; text-decoration-color: #008000\">3</span> <span style=\"color: #808000; text-decoration-color: #808000; font-weight: bold\">animations</span>                                             \n</pre>\n"
     },
     "metadata": {},
     "output_type": "display_data"
    },
    {
     "data": {
      "text/plain": "\u001B[2;36m                   \u001B[0m\u001B[2;36m \u001B[0m\u001B[32mINFO    \u001B[0m Previewed \u001B[1;33mFile\u001B[0m at: \u001B[32m'D:\\COURSES\\python\\code\\Forie\u001B[0m \u001B[2mfile_ops.py\u001B[0m\u001B[2m:193\u001B[0m\n                             \u001B[32mr_Transform\\media\\videos\\Forier_Transform\\480p15\u001B[0m                \n                             \u001B[32m\\SquareToCircle.mp4'\u001B[0m                                            \n",
      "text/html": "<pre style=\"white-space:pre;overflow-x:auto;line-height:normal;font-family:Menlo,'DejaVu Sans Mono',consolas,'Courier New',monospace\"><span style=\"color: #7fbfbf; text-decoration-color: #7fbfbf\">                    </span><span style=\"color: #008000; text-decoration-color: #008000\">INFO    </span> Previewed <span style=\"color: #808000; text-decoration-color: #808000; font-weight: bold\">File</span> at: <span style=\"color: #008000; text-decoration-color: #008000\">'D:\\COURSES\\python\\code\\Forie</span> <span style=\"color: #7f7f7f; text-decoration-color: #7f7f7f\">file_ops.py:193</span>\n                             <span style=\"color: #008000; text-decoration-color: #008000\">r_Transform\\media\\videos\\Forier_Transform\\480p15</span>                \n                             <span style=\"color: #008000; text-decoration-color: #008000\">\\SquareToCircle.mp4'</span>                                            \n</pre>\n"
     },
     "metadata": {},
     "output_type": "display_data"
    },
    {
     "data": {
      "text/plain": "<IPython.core.display.Video object>",
      "text/html": "<video src=\"media\\jupyter\\SquareToCircle@2021-07-27@00-31-31.mp4\" controls autoplay loop style=\"max-width: 25vw;\"  >\n      Your browser does not support the <code>video</code> element.\n    </video>"
     },
     "metadata": {},
     "output_type": "display_data"
    }
   ],
   "source": [
    "% % manim -pql SquareToCircle\n",
    "\n",
    "class SquareToCircle(Scene):\n",
    "    def construct(self):\n",
    "        circle = Circle()  # create a circle\n",
    "        circle.set_fill(PINK, opacity=0.5)  # set color and transparency\n",
    "\n",
    "        square = Square()  # create a square\n",
    "        square.rotate(PI / 4)  # rotate a certain amount\n",
    "\n",
    "        self.play(Create(square))  # animate the creation of the square\n",
    "        self.play(Transform(square, circle))  # interpolate the square into the circle\n",
    "        self.play(FadeOut(square))  # fade out animation"
   ],
   "metadata": {
    "collapsed": false,
    "pycharm": {
     "name": "#%%\n"
    }
   }
  },
  {
   "cell_type": "code",
   "execution_count": 33,
   "outputs": [
    {
     "name": "stderr",
     "output_type": "stream",
     "text": [
      "                                                                           \r"
     ]
    },
    {
     "data": {
      "text/plain": "\u001B[2;36m[07/27/21 00:33:15]\u001B[0m\u001B[2;36m \u001B[0m\u001B[32mINFO    \u001B[0m Animation \u001B[32m0\u001B[0m : Partial movie file        \u001B[2mscene_file_writer.py\u001B[0m\u001B[2m:413\u001B[0m\n                             written in \u001B[32m'D:\\COURSES\\python\\code\\Fori\u001B[0m                         \n                             \u001B[32mer_Transform\\media\\videos\\Forier_Transf\u001B[0m                         \n                             \u001B[32morm\\480p15\\partial_movie_files\\SquareTo\u001B[0m                         \n                             \u001B[32mCircle\\3163782288_1276161395_3322524042\u001B[0m                         \n                             \u001B[32m.mp4'\u001B[0m                                                           \n",
      "text/html": "<pre style=\"white-space:pre;overflow-x:auto;line-height:normal;font-family:Menlo,'DejaVu Sans Mono',consolas,'Courier New',monospace\"><span style=\"color: #7fbfbf; text-decoration-color: #7fbfbf\">[07/27/21 00:33:15] </span><span style=\"color: #008000; text-decoration-color: #008000\">INFO    </span> Animation <span style=\"color: #008000; text-decoration-color: #008000\">0</span> : Partial movie file        <span style=\"color: #7f7f7f; text-decoration-color: #7f7f7f\">scene_file_writer.py:413</span>\n                             written in <span style=\"color: #008000; text-decoration-color: #008000\">'D:\\COURSES\\python\\code\\Fori</span>                         \n                             <span style=\"color: #008000; text-decoration-color: #008000\">er_Transform\\media\\videos\\Forier_Transf</span>                         \n                             <span style=\"color: #008000; text-decoration-color: #008000\">orm\\480p15\\partial_movie_files\\SquareTo</span>                         \n                             <span style=\"color: #008000; text-decoration-color: #008000\">Circle\\3163782288_1276161395_3322524042</span>                         \n                             <span style=\"color: #008000; text-decoration-color: #008000\">.mp4'</span>                                                           \n</pre>\n"
     },
     "metadata": {},
     "output_type": "display_data"
    },
    {
     "data": {
      "text/plain": "\u001B[2;36m                   \u001B[0m\u001B[2;36m \u001B[0m\u001B[32mINFO    \u001B[0m                                         \u001B[2mscene_file_writer.py\u001B[0m\u001B[2m:597\u001B[0m\n                             \u001B[1;33mFile\u001B[0m ready at \u001B[32m'D:\\COURSES\\python\\code\\F\u001B[0m                         \n                             \u001B[32morier_Transform\\media\\videos\\Forier_Tra\u001B[0m                         \n                             \u001B[32mnsform\\480p15\\SquareToCircle.mp4'\u001B[0m                               \n                                                                                             \n",
      "text/html": "<pre style=\"white-space:pre;overflow-x:auto;line-height:normal;font-family:Menlo,'DejaVu Sans Mono',consolas,'Courier New',monospace\"><span style=\"color: #7fbfbf; text-decoration-color: #7fbfbf\">                    </span><span style=\"color: #008000; text-decoration-color: #008000\">INFO    </span>                                         <span style=\"color: #7f7f7f; text-decoration-color: #7f7f7f\">scene_file_writer.py:597</span>\n                             <span style=\"color: #808000; text-decoration-color: #808000; font-weight: bold\">File</span> ready at <span style=\"color: #008000; text-decoration-color: #008000\">'D:\\COURSES\\python\\code\\F</span>                         \n                             <span style=\"color: #008000; text-decoration-color: #008000\">orier_Transform\\media\\videos\\Forier_Tra</span>                         \n                             <span style=\"color: #008000; text-decoration-color: #008000\">nsform\\480p15\\SquareToCircle.mp4'</span>                               \n                                                                                             \n</pre>\n"
     },
     "metadata": {},
     "output_type": "display_data"
    },
    {
     "data": {
      "text/plain": "\u001B[2;36m                   \u001B[0m\u001B[2;36m \u001B[0m\u001B[32mINFO    \u001B[0m \u001B[1;33mRendered\u001B[0m SquareToCircle                             \u001B[2mscene.py\u001B[0m\u001B[2m:228\u001B[0m\n                             \u001B[1;33mPlayed\u001B[0m \u001B[32m1\u001B[0m \u001B[1;33manimations\u001B[0m                                             \n",
      "text/html": "<pre style=\"white-space:pre;overflow-x:auto;line-height:normal;font-family:Menlo,'DejaVu Sans Mono',consolas,'Courier New',monospace\"><span style=\"color: #7fbfbf; text-decoration-color: #7fbfbf\">                    </span><span style=\"color: #008000; text-decoration-color: #008000\">INFO    </span> <span style=\"color: #808000; text-decoration-color: #808000; font-weight: bold\">Rendered</span> SquareToCircle                             <span style=\"color: #7f7f7f; text-decoration-color: #7f7f7f\">scene.py:228</span>\n                             <span style=\"color: #808000; text-decoration-color: #808000; font-weight: bold\">Played</span> <span style=\"color: #008000; text-decoration-color: #008000\">1</span> <span style=\"color: #808000; text-decoration-color: #808000; font-weight: bold\">animations</span>                                             \n</pre>\n"
     },
     "metadata": {},
     "output_type": "display_data"
    },
    {
     "data": {
      "text/plain": "\u001B[2;36m[07/27/21 00:33:16]\u001B[0m\u001B[2;36m \u001B[0m\u001B[32mINFO    \u001B[0m Previewed \u001B[1;33mFile\u001B[0m at: \u001B[32m'D:\\COURSES\\python\\code\\Forie\u001B[0m \u001B[2mfile_ops.py\u001B[0m\u001B[2m:193\u001B[0m\n                             \u001B[32mr_Transform\\media\\videos\\Forier_Transform\\480p15\u001B[0m                \n                             \u001B[32m\\SquareToCircle.mp4'\u001B[0m                                            \n",
      "text/html": "<pre style=\"white-space:pre;overflow-x:auto;line-height:normal;font-family:Menlo,'DejaVu Sans Mono',consolas,'Courier New',monospace\"><span style=\"color: #7fbfbf; text-decoration-color: #7fbfbf\">[07/27/21 00:33:16] </span><span style=\"color: #008000; text-decoration-color: #008000\">INFO    </span> Previewed <span style=\"color: #808000; text-decoration-color: #808000; font-weight: bold\">File</span> at: <span style=\"color: #008000; text-decoration-color: #008000\">'D:\\COURSES\\python\\code\\Forie</span> <span style=\"color: #7f7f7f; text-decoration-color: #7f7f7f\">file_ops.py:193</span>\n                             <span style=\"color: #008000; text-decoration-color: #008000\">r_Transform\\media\\videos\\Forier_Transform\\480p15</span>                \n                             <span style=\"color: #008000; text-decoration-color: #008000\">\\SquareToCircle.mp4'</span>                                            \n</pre>\n"
     },
     "metadata": {},
     "output_type": "display_data"
    },
    {
     "data": {
      "text/plain": "<IPython.core.display.Video object>",
      "text/html": "<video src=\"media\\jupyter\\SquareToCircle@2021-07-27@00-33-16.mp4\" controls autoplay loop style=\"max-width: 25vw;\"  >\n      Your browser does not support the <code>video</code> element.\n    </video>"
     },
     "metadata": {},
     "output_type": "display_data"
    }
   ],
   "source": [
    "% % manim -pql SquareToCircle\n",
    "\n",
    "class SquareToCircle(Scene):\n",
    "    def construct(self):\n",
    "        circle = Circle()  # create a circle\n",
    "        circle.set_fill(BLUE_E, opacity=1)  # set the color and transparency\n",
    "        self.play(Create(circle))  # show the circle on screen"
   ],
   "metadata": {
    "collapsed": false,
    "pycharm": {
     "name": "#%%\n"
    }
   }
  },
  {
   "cell_type": "code",
   "execution_count": 49,
   "outputs": [
    {
     "data": {
      "text/plain": "\u001B[2;36m[07/27/21 00:44:50]\u001B[0m\u001B[2;36m \u001B[0m\u001B[32mINFO    \u001B[0m Animation \u001B[32m0\u001B[0m : Using cached data \u001B[1m(\u001B[0mhash :    \u001B[2mcairo_renderer.py\u001B[0m\u001B[2m:100\u001B[0m\n                             3163782288_4095789078_3689423530\u001B[1m)\u001B[0m                               \n",
      "text/html": "<pre style=\"white-space:pre;overflow-x:auto;line-height:normal;font-family:Menlo,'DejaVu Sans Mono',consolas,'Courier New',monospace\"><span style=\"color: #7fbfbf; text-decoration-color: #7fbfbf\">[07/27/21 00:44:50] </span><span style=\"color: #008000; text-decoration-color: #008000\">INFO    </span> Animation <span style=\"color: #008000; text-decoration-color: #008000\">0</span> : Using cached data <span style=\"font-weight: bold\">(</span>hash :    <span style=\"color: #7f7f7f; text-decoration-color: #7f7f7f\">cairo_renderer.py:100</span>\n                             3163782288_4095789078_3689423530<span style=\"font-weight: bold\">)</span>                               \n</pre>\n"
     },
     "metadata": {},
     "output_type": "display_data"
    },
    {
     "name": "stderr",
     "output_type": "stream",
     "text": [
      "                                                                  \r"
     ]
    },
    {
     "data": {
      "text/plain": "\u001B[2;36m                   \u001B[0m\u001B[2;36m \u001B[0m\u001B[32mINFO    \u001B[0m Animation \u001B[32m1\u001B[0m : Using cached data \u001B[1m(\u001B[0mhash :    \u001B[2mcairo_renderer.py\u001B[0m\u001B[2m:100\u001B[0m\n                             607903841_2246932712_3689423530\u001B[1m)\u001B[0m                                \n",
      "text/html": "<pre style=\"white-space:pre;overflow-x:auto;line-height:normal;font-family:Menlo,'DejaVu Sans Mono',consolas,'Courier New',monospace\"><span style=\"color: #7fbfbf; text-decoration-color: #7fbfbf\">                    </span><span style=\"color: #008000; text-decoration-color: #008000\">INFO    </span> Animation <span style=\"color: #008000; text-decoration-color: #008000\">1</span> : Using cached data <span style=\"font-weight: bold\">(</span>hash :    <span style=\"color: #7f7f7f; text-decoration-color: #7f7f7f\">cairo_renderer.py:100</span>\n                             607903841_2246932712_3689423530<span style=\"font-weight: bold\">)</span>                                \n</pre>\n"
     },
     "metadata": {},
     "output_type": "display_data"
    },
    {
     "name": "stderr",
     "output_type": "stream",
     "text": [
      "                                                                     \r"
     ]
    },
    {
     "data": {
      "text/plain": "\u001B[2;36m                   \u001B[0m\u001B[2;36m \u001B[0m\u001B[32mINFO    \u001B[0m                                         \u001B[2mscene_file_writer.py\u001B[0m\u001B[2m:597\u001B[0m\n                             \u001B[1;33mFile\u001B[0m ready at \u001B[32m'D:\\COURSES\\python\\code\\F\u001B[0m                         \n                             \u001B[32morier_Transform\\media\\videos\\Forier_Tra\u001B[0m                         \n                             \u001B[32mnsform\\480p15\\SquareToCirclee.mp4'\u001B[0m                              \n                                                                                             \n",
      "text/html": "<pre style=\"white-space:pre;overflow-x:auto;line-height:normal;font-family:Menlo,'DejaVu Sans Mono',consolas,'Courier New',monospace\"><span style=\"color: #7fbfbf; text-decoration-color: #7fbfbf\">                    </span><span style=\"color: #008000; text-decoration-color: #008000\">INFO    </span>                                         <span style=\"color: #7f7f7f; text-decoration-color: #7f7f7f\">scene_file_writer.py:597</span>\n                             <span style=\"color: #808000; text-decoration-color: #808000; font-weight: bold\">File</span> ready at <span style=\"color: #008000; text-decoration-color: #008000\">'D:\\COURSES\\python\\code\\F</span>                         \n                             <span style=\"color: #008000; text-decoration-color: #008000\">orier_Transform\\media\\videos\\Forier_Tra</span>                         \n                             <span style=\"color: #008000; text-decoration-color: #008000\">nsform\\480p15\\SquareToCirclee.mp4'</span>                              \n                                                                                             \n</pre>\n"
     },
     "metadata": {},
     "output_type": "display_data"
    },
    {
     "data": {
      "text/plain": "\u001B[2;36m                   \u001B[0m\u001B[2;36m \u001B[0m\u001B[32mINFO    \u001B[0m \u001B[1;33mRendered\u001B[0m SquareToCirclee                            \u001B[2mscene.py\u001B[0m\u001B[2m:228\u001B[0m\n                             \u001B[1;33mPlayed\u001B[0m \u001B[32m2\u001B[0m \u001B[1;33manimations\u001B[0m                                             \n",
      "text/html": "<pre style=\"white-space:pre;overflow-x:auto;line-height:normal;font-family:Menlo,'DejaVu Sans Mono',consolas,'Courier New',monospace\"><span style=\"color: #7fbfbf; text-decoration-color: #7fbfbf\">                    </span><span style=\"color: #008000; text-decoration-color: #008000\">INFO    </span> <span style=\"color: #808000; text-decoration-color: #808000; font-weight: bold\">Rendered</span> SquareToCirclee                            <span style=\"color: #7f7f7f; text-decoration-color: #7f7f7f\">scene.py:228</span>\n                             <span style=\"color: #808000; text-decoration-color: #808000; font-weight: bold\">Played</span> <span style=\"color: #008000; text-decoration-color: #008000\">2</span> <span style=\"color: #808000; text-decoration-color: #808000; font-weight: bold\">animations</span>                                             \n</pre>\n"
     },
     "metadata": {},
     "output_type": "display_data"
    },
    {
     "data": {
      "text/plain": "\u001B[2;36m                   \u001B[0m\u001B[2;36m \u001B[0m\u001B[32mINFO    \u001B[0m Previewed \u001B[1;33mFile\u001B[0m at: \u001B[32m'D:\\COURSES\\python\\code\\Forie\u001B[0m \u001B[2mfile_ops.py\u001B[0m\u001B[2m:193\u001B[0m\n                             \u001B[32mr_Transform\\media\\videos\\Forier_Transform\\480p15\u001B[0m                \n                             \u001B[32m\\SquareToCirclee.mp4'\u001B[0m                                           \n",
      "text/html": "<pre style=\"white-space:pre;overflow-x:auto;line-height:normal;font-family:Menlo,'DejaVu Sans Mono',consolas,'Courier New',monospace\"><span style=\"color: #7fbfbf; text-decoration-color: #7fbfbf\">                    </span><span style=\"color: #008000; text-decoration-color: #008000\">INFO    </span> Previewed <span style=\"color: #808000; text-decoration-color: #808000; font-weight: bold\">File</span> at: <span style=\"color: #008000; text-decoration-color: #008000\">'D:\\COURSES\\python\\code\\Forie</span> <span style=\"color: #7f7f7f; text-decoration-color: #7f7f7f\">file_ops.py:193</span>\n                             <span style=\"color: #008000; text-decoration-color: #008000\">r_Transform\\media\\videos\\Forier_Transform\\480p15</span>                \n                             <span style=\"color: #008000; text-decoration-color: #008000\">\\SquareToCirclee.mp4'</span>                                           \n</pre>\n"
     },
     "metadata": {},
     "output_type": "display_data"
    },
    {
     "data": {
      "text/plain": "<IPython.core.display.Video object>",
      "text/html": "<video src=\"media\\jupyter\\SquareToCirclee@2021-07-27@00-44-50.mp4\" controls autoplay loop style=\"max-width: 25vw;\"  >\n      Your browser does not support the <code>video</code> element.\n    </video>"
     },
     "metadata": {},
     "output_type": "display_data"
    }
   ],
   "source": [
    "% % manim -pql SquareToCirclee\n",
    "\n",
    "class SquareToCirclee(Scene):\n",
    "    def construct(self):\n",
    "        circle = Circle()  # create a circle\n",
    "        circle.set_fill(PINK, opacity=0.5)  # set color and transparency\n",
    "\n",
    "        square = Square()  # create a square\n",
    "\n",
    "        square.rotate(PI / 4)  # rotate a certain amount\n",
    "\n",
    "        self.play(Create(square))  # animate the creation of the square\n",
    "        self.play(Transform(square, circle))  # interpolate the square into the circle\n",
    "        self.play(FadeOut(square))  # fade out animation"
   ],
   "metadata": {
    "collapsed": false,
    "pycharm": {
     "name": "#%%\n"
    }
   }
  },
  {
   "cell_type": "code",
   "execution_count": 6,
   "outputs": [
    {
     "data": {
      "text/plain": "\u001B[2;36m[07/27/21 18:50:29]\u001B[0m\u001B[2;36m \u001B[0m\u001B[32mINFO    \u001B[0m Animation \u001B[32m0\u001B[0m : Using cached data \u001B[1m(\u001B[0mhash :    \u001B[2mcairo_renderer.py\u001B[0m\u001B[2m:100\u001B[0m\n                             3163782288_686439721_1596992628\u001B[1m)\u001B[0m                                \n",
      "text/html": "<pre style=\"white-space:pre;overflow-x:auto;line-height:normal;font-family:Menlo,'DejaVu Sans Mono',consolas,'Courier New',monospace\"><span style=\"color: #7fbfbf; text-decoration-color: #7fbfbf\">[07/27/21 18:50:29] </span><span style=\"color: #008000; text-decoration-color: #008000\">INFO    </span> Animation <span style=\"color: #008000; text-decoration-color: #008000\">0</span> : Using cached data <span style=\"font-weight: bold\">(</span>hash :    <span style=\"color: #7f7f7f; text-decoration-color: #7f7f7f\">cairo_renderer.py:100</span>\n                             3163782288_686439721_1596992628<span style=\"font-weight: bold\">)</span>                                \n</pre>\n"
     },
     "metadata": {},
     "output_type": "display_data"
    },
    {
     "data": {
      "text/plain": "\u001B[2;36m                   \u001B[0m\u001B[2;36m \u001B[0m\u001B[32mINFO    \u001B[0m                                         \u001B[2mscene_file_writer.py\u001B[0m\u001B[2m:597\u001B[0m\n                             \u001B[1;33mFile\u001B[0m ready at \u001B[32m'D:\\COURSES\\python\\code\\F\u001B[0m                         \n                             \u001B[32morier_Transform\\media\\videos\\Forier_Tra\u001B[0m                         \n                             \u001B[32mnsform\\480p15\\Shapes.mp4'\u001B[0m                                       \n                                                                                             \n",
      "text/html": "<pre style=\"white-space:pre;overflow-x:auto;line-height:normal;font-family:Menlo,'DejaVu Sans Mono',consolas,'Courier New',monospace\"><span style=\"color: #7fbfbf; text-decoration-color: #7fbfbf\">                    </span><span style=\"color: #008000; text-decoration-color: #008000\">INFO    </span>                                         <span style=\"color: #7f7f7f; text-decoration-color: #7f7f7f\">scene_file_writer.py:597</span>\n                             <span style=\"color: #808000; text-decoration-color: #808000; font-weight: bold\">File</span> ready at <span style=\"color: #008000; text-decoration-color: #008000\">'D:\\COURSES\\python\\code\\F</span>                         \n                             <span style=\"color: #008000; text-decoration-color: #008000\">orier_Transform\\media\\videos\\Forier_Tra</span>                         \n                             <span style=\"color: #008000; text-decoration-color: #008000\">nsform\\480p15\\Shapes.mp4'</span>                                       \n                                                                                             \n</pre>\n"
     },
     "metadata": {},
     "output_type": "display_data"
    },
    {
     "data": {
      "text/plain": "\u001B[2;36m                   \u001B[0m\u001B[2;36m \u001B[0m\u001B[32mINFO    \u001B[0m \u001B[1;33mRendered\u001B[0m Shapes                                     \u001B[2mscene.py\u001B[0m\u001B[2m:228\u001B[0m\n                             \u001B[1;33mPlayed\u001B[0m \u001B[32m1\u001B[0m \u001B[1;33manimations\u001B[0m                                             \n",
      "text/html": "<pre style=\"white-space:pre;overflow-x:auto;line-height:normal;font-family:Menlo,'DejaVu Sans Mono',consolas,'Courier New',monospace\"><span style=\"color: #7fbfbf; text-decoration-color: #7fbfbf\">                    </span><span style=\"color: #008000; text-decoration-color: #008000\">INFO    </span> <span style=\"color: #808000; text-decoration-color: #808000; font-weight: bold\">Rendered</span> Shapes                                     <span style=\"color: #7f7f7f; text-decoration-color: #7f7f7f\">scene.py:228</span>\n                             <span style=\"color: #808000; text-decoration-color: #808000; font-weight: bold\">Played</span> <span style=\"color: #008000; text-decoration-color: #008000\">1</span> <span style=\"color: #808000; text-decoration-color: #808000; font-weight: bold\">animations</span>                                             \n</pre>\n"
     },
     "metadata": {},
     "output_type": "display_data"
    },
    {
     "data": {
      "text/plain": "\u001B[2;36m                   \u001B[0m\u001B[2;36m \u001B[0m\u001B[32mINFO    \u001B[0m Previewed \u001B[1;33mFile\u001B[0m at: \u001B[32m'D:\\COURSES\\python\\code\\Forie\u001B[0m \u001B[2mfile_ops.py\u001B[0m\u001B[2m:193\u001B[0m\n                             \u001B[32mr_Transform\\media\\videos\\Forier_Transform\\480p15\u001B[0m                \n                             \u001B[32m\\Shapes.mp4'\u001B[0m                                                    \n",
      "text/html": "<pre style=\"white-space:pre;overflow-x:auto;line-height:normal;font-family:Menlo,'DejaVu Sans Mono',consolas,'Courier New',monospace\"><span style=\"color: #7fbfbf; text-decoration-color: #7fbfbf\">                    </span><span style=\"color: #008000; text-decoration-color: #008000\">INFO    </span> Previewed <span style=\"color: #808000; text-decoration-color: #808000; font-weight: bold\">File</span> at: <span style=\"color: #008000; text-decoration-color: #008000\">'D:\\COURSES\\python\\code\\Forie</span> <span style=\"color: #7f7f7f; text-decoration-color: #7f7f7f\">file_ops.py:193</span>\n                             <span style=\"color: #008000; text-decoration-color: #008000\">r_Transform\\media\\videos\\Forier_Transform\\480p15</span>                \n                             <span style=\"color: #008000; text-decoration-color: #008000\">\\Shapes.mp4'</span>                                                    \n</pre>\n"
     },
     "metadata": {},
     "output_type": "display_data"
    },
    {
     "data": {
      "text/plain": "<IPython.core.display.Video object>",
      "text/html": "<video src=\"media\\jupyter\\Shapes@2021-07-27@18-50-29.mp4\" controls autoplay loop style=\"max-width: 25vw;\"  >\n      Your browser does not support the <code>video</code> element.\n    </video>"
     },
     "metadata": {},
     "output_type": "display_data"
    }
   ],
   "source": [
    "% % manim -pql Shapes\n",
    "\n",
    "class Shapes(Scene):\n",
    "    def construct(self):\n",
    "        circle = Circle()\n",
    "        square = Square()\n",
    "        triangle = Triangle()\n",
    "\n",
    "        circle.shift(LEFT)\n",
    "        square.shift(UP)\n",
    "        triangle.shift(RIGHT)\n",
    "\n",
    "        self.add(circle, square, triangle)\n",
    "        self.wait(1)\n"
   ],
   "metadata": {
    "collapsed": false,
    "pycharm": {
     "name": "#%%\n"
    }
   }
  },
  {
   "cell_type": "code",
   "execution_count": 21,
   "outputs": [
    {
     "data": {
      "text/plain": "\u001B[2;36m[07/27/21 18:57:51]\u001B[0m\u001B[2;36m \u001B[0m\u001B[32mINFO    \u001B[0m Animation \u001B[32m0\u001B[0m : Using cached data \u001B[1m(\u001B[0mhash :    \u001B[2mcairo_renderer.py\u001B[0m\u001B[2m:100\u001B[0m\n                             3163782288_2046567024_3726539729\u001B[1m)\u001B[0m                               \n",
      "text/html": "<pre style=\"white-space:pre;overflow-x:auto;line-height:normal;font-family:Menlo,'DejaVu Sans Mono',consolas,'Courier New',monospace\"><span style=\"color: #7fbfbf; text-decoration-color: #7fbfbf\">[07/27/21 18:57:51] </span><span style=\"color: #008000; text-decoration-color: #008000\">INFO    </span> Animation <span style=\"color: #008000; text-decoration-color: #008000\">0</span> : Using cached data <span style=\"font-weight: bold\">(</span>hash :    <span style=\"color: #7f7f7f; text-decoration-color: #7f7f7f\">cairo_renderer.py:100</span>\n                             3163782288_2046567024_3726539729<span style=\"font-weight: bold\">)</span>                               \n</pre>\n"
     },
     "metadata": {},
     "output_type": "display_data"
    },
    {
     "name": "stderr",
     "output_type": "stream",
     "text": [
      "                                                                        \r"
     ]
    },
    {
     "data": {
      "text/plain": "\u001B[2;36m                   \u001B[0m\u001B[2;36m \u001B[0m\u001B[32mINFO    \u001B[0m Animation \u001B[32m1\u001B[0m : Partial movie file        \u001B[2mscene_file_writer.py\u001B[0m\u001B[2m:413\u001B[0m\n                             written in \u001B[32m'D:\\COURSES\\python\\code\\Fori\u001B[0m                         \n                             \u001B[32mer_Transform\\media\\videos\\Forier_Transf\u001B[0m                         \n                             \u001B[32morm\\480p15\\partial_movie_files\\MobjectP\u001B[0m                         \n                             \u001B[32mlacement\\607903841_1835889716_690914439\u001B[0m                         \n                             \u001B[32m.mp4'\u001B[0m                                                           \n",
      "text/html": "<pre style=\"white-space:pre;overflow-x:auto;line-height:normal;font-family:Menlo,'DejaVu Sans Mono',consolas,'Courier New',monospace\"><span style=\"color: #7fbfbf; text-decoration-color: #7fbfbf\">                    </span><span style=\"color: #008000; text-decoration-color: #008000\">INFO    </span> Animation <span style=\"color: #008000; text-decoration-color: #008000\">1</span> : Partial movie file        <span style=\"color: #7f7f7f; text-decoration-color: #7f7f7f\">scene_file_writer.py:413</span>\n                             written in <span style=\"color: #008000; text-decoration-color: #008000\">'D:\\COURSES\\python\\code\\Fori</span>                         \n                             <span style=\"color: #008000; text-decoration-color: #008000\">er_Transform\\media\\videos\\Forier_Transf</span>                         \n                             <span style=\"color: #008000; text-decoration-color: #008000\">orm\\480p15\\partial_movie_files\\MobjectP</span>                         \n                             <span style=\"color: #008000; text-decoration-color: #008000\">lacement\\607903841_1835889716_690914439</span>                         \n                             <span style=\"color: #008000; text-decoration-color: #008000\">.mp4'</span>                                                           \n</pre>\n"
     },
     "metadata": {},
     "output_type": "display_data"
    },
    {
     "data": {
      "text/plain": "\u001B[2;36m                   \u001B[0m\u001B[2;36m \u001B[0m\u001B[32mINFO    \u001B[0m Animation \u001B[32m2\u001B[0m : Partial movie file        \u001B[2mscene_file_writer.py\u001B[0m\u001B[2m:413\u001B[0m\n                             written in \u001B[32m'D:\\COURSES\\python\\code\\Fori\u001B[0m                         \n                             \u001B[32mer_Transform\\media\\videos\\Forier_Transf\u001B[0m                         \n                             \u001B[32morm\\480p15\\partial_movie_files\\MobjectP\u001B[0m                         \n                             \u001B[32mlacement\\607903841_1879514168_145164682\u001B[0m                         \n                             \u001B[32m3.mp4'\u001B[0m                                                          \n",
      "text/html": "<pre style=\"white-space:pre;overflow-x:auto;line-height:normal;font-family:Menlo,'DejaVu Sans Mono',consolas,'Courier New',monospace\"><span style=\"color: #7fbfbf; text-decoration-color: #7fbfbf\">                    </span><span style=\"color: #008000; text-decoration-color: #008000\">INFO    </span> Animation <span style=\"color: #008000; text-decoration-color: #008000\">2</span> : Partial movie file        <span style=\"color: #7f7f7f; text-decoration-color: #7f7f7f\">scene_file_writer.py:413</span>\n                             written in <span style=\"color: #008000; text-decoration-color: #008000\">'D:\\COURSES\\python\\code\\Fori</span>                         \n                             <span style=\"color: #008000; text-decoration-color: #008000\">er_Transform\\media\\videos\\Forier_Transf</span>                         \n                             <span style=\"color: #008000; text-decoration-color: #008000\">orm\\480p15\\partial_movie_files\\MobjectP</span>                         \n                             <span style=\"color: #008000; text-decoration-color: #008000\">lacement\\607903841_1879514168_145164682</span>                         \n                             <span style=\"color: #008000; text-decoration-color: #008000\">3.mp4'</span>                                                          \n</pre>\n"
     },
     "metadata": {},
     "output_type": "display_data"
    },
    {
     "data": {
      "text/plain": "\u001B[2;36m[07/27/21 18:57:52]\u001B[0m\u001B[2;36m \u001B[0m\u001B[32mINFO    \u001B[0m                                         \u001B[2mscene_file_writer.py\u001B[0m\u001B[2m:597\u001B[0m\n                             \u001B[1;33mFile\u001B[0m ready at \u001B[32m'D:\\COURSES\\python\\code\\F\u001B[0m                         \n                             \u001B[32morier_Transform\\media\\videos\\Forier_Tra\u001B[0m                         \n                             \u001B[32mnsform\\480p15\\MobjectPlacement.mp4'\u001B[0m                             \n                                                                                             \n",
      "text/html": "<pre style=\"white-space:pre;overflow-x:auto;line-height:normal;font-family:Menlo,'DejaVu Sans Mono',consolas,'Courier New',monospace\"><span style=\"color: #7fbfbf; text-decoration-color: #7fbfbf\">[07/27/21 18:57:52] </span><span style=\"color: #008000; text-decoration-color: #008000\">INFO    </span>                                         <span style=\"color: #7f7f7f; text-decoration-color: #7f7f7f\">scene_file_writer.py:597</span>\n                             <span style=\"color: #808000; text-decoration-color: #808000; font-weight: bold\">File</span> ready at <span style=\"color: #008000; text-decoration-color: #008000\">'D:\\COURSES\\python\\code\\F</span>                         \n                             <span style=\"color: #008000; text-decoration-color: #008000\">orier_Transform\\media\\videos\\Forier_Tra</span>                         \n                             <span style=\"color: #008000; text-decoration-color: #008000\">nsform\\480p15\\MobjectPlacement.mp4'</span>                             \n                                                                                             \n</pre>\n"
     },
     "metadata": {},
     "output_type": "display_data"
    },
    {
     "data": {
      "text/plain": "\u001B[2;36m                   \u001B[0m\u001B[2;36m \u001B[0m\u001B[32mINFO    \u001B[0m \u001B[1;33mRendered\u001B[0m MobjectPlacement                           \u001B[2mscene.py\u001B[0m\u001B[2m:228\u001B[0m\n                             \u001B[1;33mPlayed\u001B[0m \u001B[32m3\u001B[0m \u001B[1;33manimations\u001B[0m                                             \n",
      "text/html": "<pre style=\"white-space:pre;overflow-x:auto;line-height:normal;font-family:Menlo,'DejaVu Sans Mono',consolas,'Courier New',monospace\"><span style=\"color: #7fbfbf; text-decoration-color: #7fbfbf\">                    </span><span style=\"color: #008000; text-decoration-color: #008000\">INFO    </span> <span style=\"color: #808000; text-decoration-color: #808000; font-weight: bold\">Rendered</span> MobjectPlacement                           <span style=\"color: #7f7f7f; text-decoration-color: #7f7f7f\">scene.py:228</span>\n                             <span style=\"color: #808000; text-decoration-color: #808000; font-weight: bold\">Played</span> <span style=\"color: #008000; text-decoration-color: #008000\">3</span> <span style=\"color: #808000; text-decoration-color: #808000; font-weight: bold\">animations</span>                                             \n</pre>\n"
     },
     "metadata": {},
     "output_type": "display_data"
    },
    {
     "data": {
      "text/plain": "\u001B[2;36m                   \u001B[0m\u001B[2;36m \u001B[0m\u001B[32mINFO    \u001B[0m Previewed \u001B[1;33mFile\u001B[0m at: \u001B[32m'D:\\COURSES\\python\\code\\Forie\u001B[0m \u001B[2mfile_ops.py\u001B[0m\u001B[2m:193\u001B[0m\n                             \u001B[32mr_Transform\\media\\videos\\Forier_Transform\\480p15\u001B[0m                \n                             \u001B[32m\\MobjectPlacement.mp4'\u001B[0m                                          \n",
      "text/html": "<pre style=\"white-space:pre;overflow-x:auto;line-height:normal;font-family:Menlo,'DejaVu Sans Mono',consolas,'Courier New',monospace\"><span style=\"color: #7fbfbf; text-decoration-color: #7fbfbf\">                    </span><span style=\"color: #008000; text-decoration-color: #008000\">INFO    </span> Previewed <span style=\"color: #808000; text-decoration-color: #808000; font-weight: bold\">File</span> at: <span style=\"color: #008000; text-decoration-color: #008000\">'D:\\COURSES\\python\\code\\Forie</span> <span style=\"color: #7f7f7f; text-decoration-color: #7f7f7f\">file_ops.py:193</span>\n                             <span style=\"color: #008000; text-decoration-color: #008000\">r_Transform\\media\\videos\\Forier_Transform\\480p15</span>                \n                             <span style=\"color: #008000; text-decoration-color: #008000\">\\MobjectPlacement.mp4'</span>                                          \n</pre>\n"
     },
     "metadata": {},
     "output_type": "display_data"
    },
    {
     "data": {
      "text/plain": "<IPython.core.display.Video object>",
      "text/html": "<video src=\"media\\jupyter\\MobjectPlacement@2021-07-27@18-57-52.mp4\" controls autoplay loop style=\"max-width: 25vw;\"  >\n      Your browser does not support the <code>video</code> element.\n    </video>"
     },
     "metadata": {},
     "output_type": "display_data"
    }
   ],
   "source": [
    "% % manim -pql MobjectPlacement\n",
    "\n",
    "class MobjectPlacement(Scene):\n",
    "    def construct(self):\n",
    "        circle = Circle()\n",
    "        square = Square()\n",
    "        triangle = Triangle()\n",
    "        self.add(circle, square, triangle)\n",
    "\n",
    "        triangle.rotate(PI / 6)\n",
    "\n",
    "        # place the circle two units left from the origin\n",
    "        circle.move_to(LEFT * 2)\n",
    "        # place the square to the left of the circle\n",
    "        square.next_to(circle, LEFT)\n",
    "        # align the left border of the triangle to the left border of the circle\n",
    "        triangle.align_to(circle, LEFT)\n",
    "        self.play(Create(triangle))\n",
    "        self.play(Transform(triangle, circle))\n",
    "        self.wait(3)"
   ],
   "metadata": {
    "collapsed": false,
    "pycharm": {
     "name": "#%%\n"
    }
   }
  },
  {
   "cell_type": "markdown",
   "source": [
    "## Animations"
   ],
   "metadata": {
    "collapsed": false
   }
  },
  {
   "cell_type": "code",
   "execution_count": 25,
   "outputs": [
    {
     "data": {
      "text/plain": "\u001B[2;36m[07/27/21 19:07:05]\u001B[0m\u001B[2;36m \u001B[0m\u001B[32mINFO    \u001B[0m Animation \u001B[32m0\u001B[0m : Using cached data \u001B[1m(\u001B[0mhash :    \u001B[2mcairo_renderer.py\u001B[0m\u001B[2m:100\u001B[0m\n                             3163782288_4052646927_3689423530\u001B[1m)\u001B[0m                               \n",
      "text/html": "<pre style=\"white-space:pre;overflow-x:auto;line-height:normal;font-family:Menlo,'DejaVu Sans Mono',consolas,'Courier New',monospace\"><span style=\"color: #7fbfbf; text-decoration-color: #7fbfbf\">[07/27/21 19:07:05] </span><span style=\"color: #008000; text-decoration-color: #008000\">INFO    </span> Animation <span style=\"color: #008000; text-decoration-color: #008000\">0</span> : Using cached data <span style=\"font-weight: bold\">(</span>hash :    <span style=\"color: #7f7f7f; text-decoration-color: #7f7f7f\">cairo_renderer.py:100</span>\n                             3163782288_4052646927_3689423530<span style=\"font-weight: bold\">)</span>                               \n</pre>\n"
     },
     "metadata": {},
     "output_type": "display_data"
    },
    {
     "name": "stderr",
     "output_type": "stream",
     "text": [
      "                                                                  \r"
     ]
    },
    {
     "data": {
      "text/plain": "\u001B[2;36m                   \u001B[0m\u001B[2;36m \u001B[0m\u001B[32mINFO    \u001B[0m Animation \u001B[32m1\u001B[0m : Using cached data \u001B[1m(\u001B[0mhash :    \u001B[2mcairo_renderer.py\u001B[0m\u001B[2m:100\u001B[0m\n                             607903841_1696239792_3689423530\u001B[1m)\u001B[0m                                \n",
      "text/html": "<pre style=\"white-space:pre;overflow-x:auto;line-height:normal;font-family:Menlo,'DejaVu Sans Mono',consolas,'Courier New',monospace\"><span style=\"color: #7fbfbf; text-decoration-color: #7fbfbf\">                    </span><span style=\"color: #008000; text-decoration-color: #008000\">INFO    </span> Animation <span style=\"color: #008000; text-decoration-color: #008000\">1</span> : Using cached data <span style=\"font-weight: bold\">(</span>hash :    <span style=\"color: #7f7f7f; text-decoration-color: #7f7f7f\">cairo_renderer.py:100</span>\n                             607903841_1696239792_3689423530<span style=\"font-weight: bold\">)</span>                                \n</pre>\n"
     },
     "metadata": {},
     "output_type": "display_data"
    },
    {
     "name": "stderr",
     "output_type": "stream",
     "text": [
      "                                                                  \r"
     ]
    },
    {
     "data": {
      "text/plain": "\u001B[2;36m                   \u001B[0m\u001B[2;36m \u001B[0m\u001B[32mINFO    \u001B[0m Animation \u001B[32m2\u001B[0m : Using cached data \u001B[1m(\u001B[0mhash :    \u001B[2mcairo_renderer.py\u001B[0m\u001B[2m:100\u001B[0m\n                             607903841_3740560559_3689423530\u001B[1m)\u001B[0m                                \n",
      "text/html": "<pre style=\"white-space:pre;overflow-x:auto;line-height:normal;font-family:Menlo,'DejaVu Sans Mono',consolas,'Courier New',monospace\"><span style=\"color: #7fbfbf; text-decoration-color: #7fbfbf\">                    </span><span style=\"color: #008000; text-decoration-color: #008000\">INFO    </span> Animation <span style=\"color: #008000; text-decoration-color: #008000\">2</span> : Using cached data <span style=\"font-weight: bold\">(</span>hash :    <span style=\"color: #7f7f7f; text-decoration-color: #7f7f7f\">cairo_renderer.py:100</span>\n                             607903841_3740560559_3689423530<span style=\"font-weight: bold\">)</span>                                \n</pre>\n"
     },
     "metadata": {},
     "output_type": "display_data"
    },
    {
     "name": "stderr",
     "output_type": "stream",
     "text": [
      "                                                                   \r"
     ]
    },
    {
     "data": {
      "text/plain": "\u001B[2;36m                   \u001B[0m\u001B[2;36m \u001B[0m\u001B[32mINFO    \u001B[0m Animation \u001B[32m3\u001B[0m : Using cached data \u001B[1m(\u001B[0mhash :    \u001B[2mcairo_renderer.py\u001B[0m\u001B[2m:100\u001B[0m\n                             607903841_259801942_2135977735\u001B[1m)\u001B[0m                                 \n",
      "text/html": "<pre style=\"white-space:pre;overflow-x:auto;line-height:normal;font-family:Menlo,'DejaVu Sans Mono',consolas,'Courier New',monospace\"><span style=\"color: #7fbfbf; text-decoration-color: #7fbfbf\">                    </span><span style=\"color: #008000; text-decoration-color: #008000\">INFO    </span> Animation <span style=\"color: #008000; text-decoration-color: #008000\">3</span> : Using cached data <span style=\"font-weight: bold\">(</span>hash :    <span style=\"color: #7f7f7f; text-decoration-color: #7f7f7f\">cairo_renderer.py:100</span>\n                             607903841_259801942_2135977735<span style=\"font-weight: bold\">)</span>                                 \n</pre>\n"
     },
     "metadata": {},
     "output_type": "display_data"
    },
    {
     "data": {
      "text/plain": "\u001B[2;36m                   \u001B[0m\u001B[2;36m \u001B[0m\u001B[32mINFO    \u001B[0m                                         \u001B[2mscene_file_writer.py\u001B[0m\u001B[2m:597\u001B[0m\n                             \u001B[1;33mFile\u001B[0m ready at \u001B[32m'D:\\COURSES\\python\\code\\F\u001B[0m                         \n                             \u001B[32morier_Transform\\media\\videos\\Forier_Tra\u001B[0m                         \n                             \u001B[32mnsform\\480p15\\SomeAnimations.mp4'\u001B[0m                               \n                                                                                             \n",
      "text/html": "<pre style=\"white-space:pre;overflow-x:auto;line-height:normal;font-family:Menlo,'DejaVu Sans Mono',consolas,'Courier New',monospace\"><span style=\"color: #7fbfbf; text-decoration-color: #7fbfbf\">                    </span><span style=\"color: #008000; text-decoration-color: #008000\">INFO    </span>                                         <span style=\"color: #7f7f7f; text-decoration-color: #7f7f7f\">scene_file_writer.py:597</span>\n                             <span style=\"color: #808000; text-decoration-color: #808000; font-weight: bold\">File</span> ready at <span style=\"color: #008000; text-decoration-color: #008000\">'D:\\COURSES\\python\\code\\F</span>                         \n                             <span style=\"color: #008000; text-decoration-color: #008000\">orier_Transform\\media\\videos\\Forier_Tra</span>                         \n                             <span style=\"color: #008000; text-decoration-color: #008000\">nsform\\480p15\\SomeAnimations.mp4'</span>                               \n                                                                                             \n</pre>\n"
     },
     "metadata": {},
     "output_type": "display_data"
    },
    {
     "data": {
      "text/plain": "\u001B[2;36m                   \u001B[0m\u001B[2;36m \u001B[0m\u001B[32mINFO    \u001B[0m \u001B[1;33mRendered\u001B[0m SomeAnimations                             \u001B[2mscene.py\u001B[0m\u001B[2m:228\u001B[0m\n                             \u001B[1;33mPlayed\u001B[0m \u001B[32m4\u001B[0m \u001B[1;33manimations\u001B[0m                                             \n",
      "text/html": "<pre style=\"white-space:pre;overflow-x:auto;line-height:normal;font-family:Menlo,'DejaVu Sans Mono',consolas,'Courier New',monospace\"><span style=\"color: #7fbfbf; text-decoration-color: #7fbfbf\">                    </span><span style=\"color: #008000; text-decoration-color: #008000\">INFO    </span> <span style=\"color: #808000; text-decoration-color: #808000; font-weight: bold\">Rendered</span> SomeAnimations                             <span style=\"color: #7f7f7f; text-decoration-color: #7f7f7f\">scene.py:228</span>\n                             <span style=\"color: #808000; text-decoration-color: #808000; font-weight: bold\">Played</span> <span style=\"color: #008000; text-decoration-color: #008000\">4</span> <span style=\"color: #808000; text-decoration-color: #808000; font-weight: bold\">animations</span>                                             \n</pre>\n"
     },
     "metadata": {},
     "output_type": "display_data"
    },
    {
     "data": {
      "text/plain": "\u001B[2;36m                   \u001B[0m\u001B[2;36m \u001B[0m\u001B[32mINFO    \u001B[0m Previewed \u001B[1;33mFile\u001B[0m at: \u001B[32m'D:\\COURSES\\python\\code\\Forie\u001B[0m \u001B[2mfile_ops.py\u001B[0m\u001B[2m:193\u001B[0m\n                             \u001B[32mr_Transform\\media\\videos\\Forier_Transform\\480p15\u001B[0m                \n                             \u001B[32m\\SomeAnimations.mp4'\u001B[0m                                            \n",
      "text/html": "<pre style=\"white-space:pre;overflow-x:auto;line-height:normal;font-family:Menlo,'DejaVu Sans Mono',consolas,'Courier New',monospace\"><span style=\"color: #7fbfbf; text-decoration-color: #7fbfbf\">                    </span><span style=\"color: #008000; text-decoration-color: #008000\">INFO    </span> Previewed <span style=\"color: #808000; text-decoration-color: #808000; font-weight: bold\">File</span> at: <span style=\"color: #008000; text-decoration-color: #008000\">'D:\\COURSES\\python\\code\\Forie</span> <span style=\"color: #7f7f7f; text-decoration-color: #7f7f7f\">file_ops.py:193</span>\n                             <span style=\"color: #008000; text-decoration-color: #008000\">r_Transform\\media\\videos\\Forier_Transform\\480p15</span>                \n                             <span style=\"color: #008000; text-decoration-color: #008000\">\\SomeAnimations.mp4'</span>                                            \n</pre>\n"
     },
     "metadata": {},
     "output_type": "display_data"
    },
    {
     "data": {
      "text/plain": "<IPython.core.display.Video object>",
      "text/html": "<video src=\"media\\jupyter\\SomeAnimations@2021-07-27@19-07-05.mp4\" controls autoplay loop style=\"max-width: 25vw;\"  >\n      Your browser does not support the <code>video</code> element.\n    </video>"
     },
     "metadata": {},
     "output_type": "display_data"
    }
   ],
   "source": [
    "% % manim -pql SomeAnimations\n",
    "\n",
    "class SomeAnimations(Scene):\n",
    "    def construct(self):\n",
    "        square = Square()\n",
    "        self.add(square)\n",
    "\n",
    "        # some animations display mobjects, ...\n",
    "        self.play(FadeIn(square))\n",
    "\n",
    "        # ... some move or rotate mobjects around...\n",
    "        self.play(Rotate(square, PI / 4))\n",
    "\n",
    "        # some animations remove mobjects from the screen\n",
    "        self.play(FadeOut(square), time=3)\n",
    "\n",
    "        self.wait(2)"
   ],
   "metadata": {
    "collapsed": false,
    "pycharm": {
     "name": "#%%\n"
    }
   }
  },
  {
   "cell_type": "code",
   "execution_count": 28,
   "outputs": [
    {
     "name": "stderr",
     "output_type": "stream",
     "text": [
      "                                                                                  \r"
     ]
    },
    {
     "data": {
      "text/plain": "\u001B[2;36m[07/27/21 19:16:12]\u001B[0m\u001B[2;36m \u001B[0m\u001B[32mINFO    \u001B[0m Animation \u001B[32m0\u001B[0m : Partial movie file        \u001B[2mscene_file_writer.py\u001B[0m\u001B[2m:413\u001B[0m\n                             written in \u001B[32m'D:\\COURSES\\python\\code\\Fori\u001B[0m                         \n                             \u001B[32mer_Transform\\media\\videos\\Forier_Transf\u001B[0m                         \n                             \u001B[32morm\\480p15\\partial_movie_files\\ApplyMet\u001B[0m                         \n                             \u001B[32mhodExample\\3163782288_1425898715_372656\u001B[0m                         \n                             \u001B[32m0688.mp4'\u001B[0m                                                       \n",
      "text/html": "<pre style=\"white-space:pre;overflow-x:auto;line-height:normal;font-family:Menlo,'DejaVu Sans Mono',consolas,'Courier New',monospace\"><span style=\"color: #7fbfbf; text-decoration-color: #7fbfbf\">[07/27/21 19:16:12] </span><span style=\"color: #008000; text-decoration-color: #008000\">INFO    </span> Animation <span style=\"color: #008000; text-decoration-color: #008000\">0</span> : Partial movie file        <span style=\"color: #7f7f7f; text-decoration-color: #7f7f7f\">scene_file_writer.py:413</span>\n                             written in <span style=\"color: #008000; text-decoration-color: #008000\">'D:\\COURSES\\python\\code\\Fori</span>                         \n                             <span style=\"color: #008000; text-decoration-color: #008000\">er_Transform\\media\\videos\\Forier_Transf</span>                         \n                             <span style=\"color: #008000; text-decoration-color: #008000\">orm\\480p15\\partial_movie_files\\ApplyMet</span>                         \n                             <span style=\"color: #008000; text-decoration-color: #008000\">hodExample\\3163782288_1425898715_372656</span>                         \n                             <span style=\"color: #008000; text-decoration-color: #008000\">0688.mp4'</span>                                                       \n</pre>\n"
     },
     "metadata": {},
     "output_type": "display_data"
    },
    {
     "data": {
      "text/plain": "\u001B[2;36m                   \u001B[0m\u001B[2;36m \u001B[0m\u001B[32mINFO    \u001B[0m Animation \u001B[32m1\u001B[0m : Using cached data \u001B[1m(\u001B[0mhash :    \u001B[2mcairo_renderer.py\u001B[0m\u001B[2m:100\u001B[0m\n                             607903841_2398200548_1998035248\u001B[1m)\u001B[0m                                \n",
      "text/html": "<pre style=\"white-space:pre;overflow-x:auto;line-height:normal;font-family:Menlo,'DejaVu Sans Mono',consolas,'Courier New',monospace\"><span style=\"color: #7fbfbf; text-decoration-color: #7fbfbf\">                    </span><span style=\"color: #008000; text-decoration-color: #008000\">INFO    </span> Animation <span style=\"color: #008000; text-decoration-color: #008000\">1</span> : Using cached data <span style=\"font-weight: bold\">(</span>hash :    <span style=\"color: #7f7f7f; text-decoration-color: #7f7f7f\">cairo_renderer.py:100</span>\n                             607903841_2398200548_1998035248<span style=\"font-weight: bold\">)</span>                                \n</pre>\n"
     },
     "metadata": {},
     "output_type": "display_data"
    },
    {
     "data": {
      "text/plain": "\u001B[2;36m                   \u001B[0m\u001B[2;36m \u001B[0m\u001B[32mINFO    \u001B[0m Animation \u001B[32m2\u001B[0m : Using cached data \u001B[1m(\u001B[0mhash :    \u001B[2mcairo_renderer.py\u001B[0m\u001B[2m:100\u001B[0m\n                             607903841_2398728343_925640170\u001B[1m)\u001B[0m                                 \n",
      "text/html": "<pre style=\"white-space:pre;overflow-x:auto;line-height:normal;font-family:Menlo,'DejaVu Sans Mono',consolas,'Courier New',monospace\"><span style=\"color: #7fbfbf; text-decoration-color: #7fbfbf\">                    </span><span style=\"color: #008000; text-decoration-color: #008000\">INFO    </span> Animation <span style=\"color: #008000; text-decoration-color: #008000\">2</span> : Using cached data <span style=\"font-weight: bold\">(</span>hash :    <span style=\"color: #7f7f7f; text-decoration-color: #7f7f7f\">cairo_renderer.py:100</span>\n                             607903841_2398728343_925640170<span style=\"font-weight: bold\">)</span>                                 \n</pre>\n"
     },
     "metadata": {},
     "output_type": "display_data"
    },
    {
     "name": "stderr",
     "output_type": "stream",
     "text": [
      "                                                                       \r"
     ]
    },
    {
     "data": {
      "text/plain": "\u001B[2;36m                   \u001B[0m\u001B[2;36m \u001B[0m\u001B[32mINFO    \u001B[0m Animation \u001B[32m3\u001B[0m : Using cached data \u001B[1m(\u001B[0mhash :    \u001B[2mcairo_renderer.py\u001B[0m\u001B[2m:100\u001B[0m\n                             607903841_2398200548_1714481100\u001B[1m)\u001B[0m                                \n",
      "text/html": "<pre style=\"white-space:pre;overflow-x:auto;line-height:normal;font-family:Menlo,'DejaVu Sans Mono',consolas,'Courier New',monospace\"><span style=\"color: #7fbfbf; text-decoration-color: #7fbfbf\">                    </span><span style=\"color: #008000; text-decoration-color: #008000\">INFO    </span> Animation <span style=\"color: #008000; text-decoration-color: #008000\">3</span> : Using cached data <span style=\"font-weight: bold\">(</span>hash :    <span style=\"color: #7f7f7f; text-decoration-color: #7f7f7f\">cairo_renderer.py:100</span>\n                             607903841_2398200548_1714481100<span style=\"font-weight: bold\">)</span>                                \n</pre>\n"
     },
     "metadata": {},
     "output_type": "display_data"
    },
    {
     "data": {
      "text/plain": "\u001B[2;36m                   \u001B[0m\u001B[2;36m \u001B[0m\u001B[32mINFO    \u001B[0m                                         \u001B[2mscene_file_writer.py\u001B[0m\u001B[2m:597\u001B[0m\n                             \u001B[1;33mFile\u001B[0m ready at \u001B[32m'D:\\COURSES\\python\\code\\F\u001B[0m                         \n                             \u001B[32morier_Transform\\media\\videos\\Forier_Tra\u001B[0m                         \n                             \u001B[32mnsform\\480p15\\ApplyMethodExample.mp4'\u001B[0m                           \n                                                                                             \n",
      "text/html": "<pre style=\"white-space:pre;overflow-x:auto;line-height:normal;font-family:Menlo,'DejaVu Sans Mono',consolas,'Courier New',monospace\"><span style=\"color: #7fbfbf; text-decoration-color: #7fbfbf\">                    </span><span style=\"color: #008000; text-decoration-color: #008000\">INFO    </span>                                         <span style=\"color: #7f7f7f; text-decoration-color: #7f7f7f\">scene_file_writer.py:597</span>\n                             <span style=\"color: #808000; text-decoration-color: #808000; font-weight: bold\">File</span> ready at <span style=\"color: #008000; text-decoration-color: #008000\">'D:\\COURSES\\python\\code\\F</span>                         \n                             <span style=\"color: #008000; text-decoration-color: #008000\">orier_Transform\\media\\videos\\Forier_Tra</span>                         \n                             <span style=\"color: #008000; text-decoration-color: #008000\">nsform\\480p15\\ApplyMethodExample.mp4'</span>                           \n                                                                                             \n</pre>\n"
     },
     "metadata": {},
     "output_type": "display_data"
    },
    {
     "data": {
      "text/plain": "\u001B[2;36m                   \u001B[0m\u001B[2;36m \u001B[0m\u001B[32mINFO    \u001B[0m \u001B[1;33mRendered\u001B[0m ApplyMethodExample                         \u001B[2mscene.py\u001B[0m\u001B[2m:228\u001B[0m\n                             \u001B[1;33mPlayed\u001B[0m \u001B[32m4\u001B[0m \u001B[1;33manimations\u001B[0m                                             \n",
      "text/html": "<pre style=\"white-space:pre;overflow-x:auto;line-height:normal;font-family:Menlo,'DejaVu Sans Mono',consolas,'Courier New',monospace\"><span style=\"color: #7fbfbf; text-decoration-color: #7fbfbf\">                    </span><span style=\"color: #008000; text-decoration-color: #008000\">INFO    </span> <span style=\"color: #808000; text-decoration-color: #808000; font-weight: bold\">Rendered</span> ApplyMethodExample                         <span style=\"color: #7f7f7f; text-decoration-color: #7f7f7f\">scene.py:228</span>\n                             <span style=\"color: #808000; text-decoration-color: #808000; font-weight: bold\">Played</span> <span style=\"color: #008000; text-decoration-color: #008000\">4</span> <span style=\"color: #808000; text-decoration-color: #808000; font-weight: bold\">animations</span>                                             \n</pre>\n"
     },
     "metadata": {},
     "output_type": "display_data"
    },
    {
     "data": {
      "text/plain": "\u001B[2;36m                   \u001B[0m\u001B[2;36m \u001B[0m\u001B[32mINFO    \u001B[0m Previewed \u001B[1;33mFile\u001B[0m at: \u001B[32m'D:\\COURSES\\python\\code\\Forie\u001B[0m \u001B[2mfile_ops.py\u001B[0m\u001B[2m:193\u001B[0m\n                             \u001B[32mr_Transform\\media\\videos\\Forier_Transform\\480p15\u001B[0m                \n                             \u001B[32m\\ApplyMethodExample.mp4'\u001B[0m                                        \n",
      "text/html": "<pre style=\"white-space:pre;overflow-x:auto;line-height:normal;font-family:Menlo,'DejaVu Sans Mono',consolas,'Courier New',monospace\"><span style=\"color: #7fbfbf; text-decoration-color: #7fbfbf\">                    </span><span style=\"color: #008000; text-decoration-color: #008000\">INFO    </span> Previewed <span style=\"color: #808000; text-decoration-color: #808000; font-weight: bold\">File</span> at: <span style=\"color: #008000; text-decoration-color: #008000\">'D:\\COURSES\\python\\code\\Forie</span> <span style=\"color: #7f7f7f; text-decoration-color: #7f7f7f\">file_ops.py:193</span>\n                             <span style=\"color: #008000; text-decoration-color: #008000\">r_Transform\\media\\videos\\Forier_Transform\\480p15</span>                \n                             <span style=\"color: #008000; text-decoration-color: #008000\">\\ApplyMethodExample.mp4'</span>                                        \n</pre>\n"
     },
     "metadata": {},
     "output_type": "display_data"
    },
    {
     "data": {
      "text/plain": "<IPython.core.display.Video object>",
      "text/html": "<video src=\"media\\jupyter\\ApplyMethodExample@2021-07-27@19-16-12.mp4\" controls autoplay loop style=\"max-width: 25vw;\"  >\n      Your browser does not support the <code>video</code> element.\n    </video>"
     },
     "metadata": {},
     "output_type": "display_data"
    }
   ],
   "source": [
    "% % manim -pql ApplyMethodExample\n",
    "\n",
    "# Any property of a mobject that can be changed can be animated.\n",
    "# In fact, any method that changes\n",
    "# a mobject’s property can be used as an animation,\n",
    "# through the use of ApplyMethod\n",
    "class ApplyMethodExample(Scene):\n",
    "    def construct(self):\n",
    "        square = Square().set_fill(RED, opacity=1.0)\n",
    "        self.add(square)\n",
    "\n",
    "        # animate the change of color\n",
    "        self.play(ApplyMethod(square.set_fill, WHITE), run_time=3)\n",
    "        self.wait(1)\n",
    "\n",
    "        # animate the change of position\n",
    "        self.play(ApplyMethod(square.shift, UP))\n",
    "        self.wait(1)"
   ],
   "metadata": {
    "collapsed": false,
    "pycharm": {
     "name": "#%%\n"
    }
   }
  },
  {
   "cell_type": "code",
   "execution_count": 35,
   "outputs": [
    {
     "data": {
      "text/plain": "\u001B[2;36m[07/27/21 19:24:13]\u001B[0m\u001B[2;36m \u001B[0m\u001B[32mINFO    \u001B[0m                                         \u001B[2mscene_file_writer.py\u001B[0m\u001B[2m:597\u001B[0m\n                             \u001B[1;33mFile\u001B[0m ready at \u001B[32m'D:\\COURSES\\python\\code\\F\u001B[0m                         \n                             \u001B[32morier_Transform\\media\\images\\Forier_Tra\u001B[0m                         \n                             \u001B[32mnsform\\MobjectExample_ManimCE_v0.8.0.pn\u001B[0m                         \n                             \u001B[32mg'\u001B[0m                                                              \n                                                                                             \n",
      "text/html": "<pre style=\"white-space:pre;overflow-x:auto;line-height:normal;font-family:Menlo,'DejaVu Sans Mono',consolas,'Courier New',monospace\"><span style=\"color: #7fbfbf; text-decoration-color: #7fbfbf\">[07/27/21 19:24:13] </span><span style=\"color: #008000; text-decoration-color: #008000\">INFO    </span>                                         <span style=\"color: #7f7f7f; text-decoration-color: #7f7f7f\">scene_file_writer.py:597</span>\n                             <span style=\"color: #808000; text-decoration-color: #808000; font-weight: bold\">File</span> ready at <span style=\"color: #008000; text-decoration-color: #008000\">'D:\\COURSES\\python\\code\\F</span>                         \n                             <span style=\"color: #008000; text-decoration-color: #008000\">orier_Transform\\media\\images\\Forier_Tra</span>                         \n                             <span style=\"color: #008000; text-decoration-color: #008000\">nsform\\MobjectExample_ManimCE_v0.8.0.pn</span>                         \n                             <span style=\"color: #008000; text-decoration-color: #008000\">g'</span>                                                              \n                                                                                             \n</pre>\n"
     },
     "metadata": {},
     "output_type": "display_data"
    },
    {
     "data": {
      "text/plain": "\u001B[2;36m                   \u001B[0m\u001B[2;36m \u001B[0m\u001B[32mINFO    \u001B[0m \u001B[1;33mRendered\u001B[0m MobjectExample                             \u001B[2mscene.py\u001B[0m\u001B[2m:228\u001B[0m\n                             \u001B[1;33mPlayed\u001B[0m \u001B[32m0\u001B[0m \u001B[1;33manimations\u001B[0m                                             \n",
      "text/html": "<pre style=\"white-space:pre;overflow-x:auto;line-height:normal;font-family:Menlo,'DejaVu Sans Mono',consolas,'Courier New',monospace\"><span style=\"color: #7fbfbf; text-decoration-color: #7fbfbf\">                    </span><span style=\"color: #008000; text-decoration-color: #008000\">INFO    </span> <span style=\"color: #808000; text-decoration-color: #808000; font-weight: bold\">Rendered</span> MobjectExample                             <span style=\"color: #7f7f7f; text-decoration-color: #7f7f7f\">scene.py:228</span>\n                             <span style=\"color: #808000; text-decoration-color: #808000; font-weight: bold\">Played</span> <span style=\"color: #008000; text-decoration-color: #008000\">0</span> <span style=\"color: #808000; text-decoration-color: #808000; font-weight: bold\">animations</span>                                             \n</pre>\n"
     },
     "metadata": {},
     "output_type": "display_data"
    },
    {
     "data": {
      "text/plain": "\u001B[2;36m[07/27/21 19:24:14]\u001B[0m\u001B[2;36m \u001B[0m\u001B[32mINFO    \u001B[0m Previewed \u001B[1;33mFile\u001B[0m at: \u001B[32m'D:\\COURSES\\python\\code\\Forie\u001B[0m \u001B[2mfile_ops.py\u001B[0m\u001B[2m:193\u001B[0m\n                             \u001B[32mr_Transform\\media\\images\\Forier_Transform\\Mobjec\u001B[0m                \n                             \u001B[32mtExample_ManimCE_v0.8.0.png'\u001B[0m                                    \n",
      "text/html": "<pre style=\"white-space:pre;overflow-x:auto;line-height:normal;font-family:Menlo,'DejaVu Sans Mono',consolas,'Courier New',monospace\"><span style=\"color: #7fbfbf; text-decoration-color: #7fbfbf\">[07/27/21 19:24:14] </span><span style=\"color: #008000; text-decoration-color: #008000\">INFO    </span> Previewed <span style=\"color: #808000; text-decoration-color: #808000; font-weight: bold\">File</span> at: <span style=\"color: #008000; text-decoration-color: #008000\">'D:\\COURSES\\python\\code\\Forie</span> <span style=\"color: #7f7f7f; text-decoration-color: #7f7f7f\">file_ops.py:193</span>\n                             <span style=\"color: #008000; text-decoration-color: #008000\">r_Transform\\media\\images\\Forier_Transform\\Mobjec</span>                \n                             <span style=\"color: #008000; text-decoration-color: #008000\">tExample_ManimCE_v0.8.0.png'</span>                                    \n</pre>\n"
     },
     "metadata": {},
     "output_type": "display_data"
    },
    {
     "data": {
      "image/png": "[encoded data removed]",
      "text/plain": "<IPython.core.display.Image object>"
     },
     "metadata": {},
     "output_type": "display_data"
    }
   ],
   "source": [
    "% % manim -pql MobjectExample\n",
    "\n",
    "class MobjectExample(Scene):\n",
    "    def construct(self):\n",
    "        p1 = [-1, -1, 0]\n",
    "        p2 = [1, -1, 0]\n",
    "        p3 = [1, 1, 0]\n",
    "        p4 = [-1, 1, 0]\n",
    "        # a is the whole Path\n",
    "        a = Line(p1, p2).append_points(Line(p2, p3).get_points()).append_points(Line(p3, p4).get_points())\n",
    "        point_start = a.get_start()\n",
    "        point_end = a.get_end()\n",
    "        point_center = a.get_center()\n",
    "        self.add(Text(f\"a.get_start() = {np.round(point_start, 2).tolist()}\").scale(0.5).to_edge(UR).set_color(YELLOW))\n",
    "        self.add(Text(f\"a.get_end() = {np.round(point_end, 2).tolist()}\").scale(0.5).next_to(self.mobjects[-1],\n",
    "                                                                                             DOWN).set_color(RED))\n",
    "        self.add(Text(f\"a.get_center() = {np.round(point_center, 2).tolist()}\").scale(0.5).next_to(self.mobjects[-1],\n",
    "                                                                                                   DOWN).set_color(\n",
    "            BLUE))\n",
    "\n",
    "        self.add(Dot(a.get_start()).set_color(YELLOW).scale(2))\n",
    "        self.add(Dot(a.get_end()).set_color(RED).scale(2))\n",
    "        self.add(Dot(a.get_top()).set_color(GREEN_A).scale(2))\n",
    "        self.add(Dot(a.get_bottom()).set_color(GREEN_D).scale(2))\n",
    "        self.add(Dot(a.get_center()).set_color(BLUE).scale(2))\n",
    "        self.add(Dot(a.point_from_proportion(0.5)).set_color(ORANGE).scale(2))\n",
    "        self.add(*[Dot(x) for x in a.get_points()])\n",
    "        self.add(a)\n"
   ],
   "metadata": {
    "collapsed": false,
    "pycharm": {
     "name": "#%%\n"
    }
   }
  },
  {
   "cell_type": "code",
   "execution_count": 37,
   "outputs": [
    {
     "name": "stderr",
     "output_type": "stream",
     "text": [
      "                                                                      \r"
     ]
    },
    {
     "data": {
      "text/plain": "\u001B[2;36m[07/27/21 19:24:41]\u001B[0m\u001B[2;36m \u001B[0m\u001B[32mINFO    \u001B[0m Animation \u001B[32m0\u001B[0m : Partial movie file        \u001B[2mscene_file_writer.py\u001B[0m\u001B[2m:413\u001B[0m\n                             written in \u001B[32m'D:\\COURSES\\python\\code\\Fori\u001B[0m                         \n                             \u001B[32mer_Transform\\media\\videos\\Forier_Transf\u001B[0m                         \n                             \u001B[32morm\\480p15\\partial_movie_files\\ExampleT\u001B[0m                         \n                             \u001B[32mransform\\3163782288_3370438078_26719342\u001B[0m                         \n                             \u001B[32m43.mp4'\u001B[0m                                                         \n",
      "text/html": "<pre style=\"white-space:pre;overflow-x:auto;line-height:normal;font-family:Menlo,'DejaVu Sans Mono',consolas,'Courier New',monospace\"><span style=\"color: #7fbfbf; text-decoration-color: #7fbfbf\">[07/27/21 19:24:41] </span><span style=\"color: #008000; text-decoration-color: #008000\">INFO    </span> Animation <span style=\"color: #008000; text-decoration-color: #008000\">0</span> : Partial movie file        <span style=\"color: #7f7f7f; text-decoration-color: #7f7f7f\">scene_file_writer.py:413</span>\n                             written in <span style=\"color: #008000; text-decoration-color: #008000\">'D:\\COURSES\\python\\code\\Fori</span>                         \n                             <span style=\"color: #008000; text-decoration-color: #008000\">er_Transform\\media\\videos\\Forier_Transf</span>                         \n                             <span style=\"color: #008000; text-decoration-color: #008000\">orm\\480p15\\partial_movie_files\\ExampleT</span>                         \n                             <span style=\"color: #008000; text-decoration-color: #008000\">ransform\\3163782288_3370438078_26719342</span>                         \n                             <span style=\"color: #008000; text-decoration-color: #008000\">43.mp4'</span>                                                         \n</pre>\n"
     },
     "metadata": {},
     "output_type": "display_data"
    },
    {
     "data": {
      "text/plain": "\u001B[2;36m                   \u001B[0m\u001B[2;36m \u001B[0m\u001B[32mINFO    \u001B[0m                                         \u001B[2mscene_file_writer.py\u001B[0m\u001B[2m:597\u001B[0m\n                             \u001B[1;33mFile\u001B[0m ready at \u001B[32m'D:\\COURSES\\python\\code\\F\u001B[0m                         \n                             \u001B[32morier_Transform\\media\\videos\\Forier_Tra\u001B[0m                         \n                             \u001B[32mnsform\\480p15\\ExampleTransform.mp4'\u001B[0m                             \n                                                                                             \n",
      "text/html": "<pre style=\"white-space:pre;overflow-x:auto;line-height:normal;font-family:Menlo,'DejaVu Sans Mono',consolas,'Courier New',monospace\"><span style=\"color: #7fbfbf; text-decoration-color: #7fbfbf\">                    </span><span style=\"color: #008000; text-decoration-color: #008000\">INFO    </span>                                         <span style=\"color: #7f7f7f; text-decoration-color: #7f7f7f\">scene_file_writer.py:597</span>\n                             <span style=\"color: #808000; text-decoration-color: #808000; font-weight: bold\">File</span> ready at <span style=\"color: #008000; text-decoration-color: #008000\">'D:\\COURSES\\python\\code\\F</span>                         \n                             <span style=\"color: #008000; text-decoration-color: #008000\">orier_Transform\\media\\videos\\Forier_Tra</span>                         \n                             <span style=\"color: #008000; text-decoration-color: #008000\">nsform\\480p15\\ExampleTransform.mp4'</span>                             \n                                                                                             \n</pre>\n"
     },
     "metadata": {},
     "output_type": "display_data"
    },
    {
     "data": {
      "text/plain": "\u001B[2;36m                   \u001B[0m\u001B[2;36m \u001B[0m\u001B[32mINFO    \u001B[0m \u001B[1;33mRendered\u001B[0m ExampleTransform                           \u001B[2mscene.py\u001B[0m\u001B[2m:228\u001B[0m\n                             \u001B[1;33mPlayed\u001B[0m \u001B[32m1\u001B[0m \u001B[1;33manimations\u001B[0m                                             \n",
      "text/html": "<pre style=\"white-space:pre;overflow-x:auto;line-height:normal;font-family:Menlo,'DejaVu Sans Mono',consolas,'Courier New',monospace\"><span style=\"color: #7fbfbf; text-decoration-color: #7fbfbf\">                    </span><span style=\"color: #008000; text-decoration-color: #008000\">INFO    </span> <span style=\"color: #808000; text-decoration-color: #808000; font-weight: bold\">Rendered</span> ExampleTransform                           <span style=\"color: #7f7f7f; text-decoration-color: #7f7f7f\">scene.py:228</span>\n                             <span style=\"color: #808000; text-decoration-color: #808000; font-weight: bold\">Played</span> <span style=\"color: #008000; text-decoration-color: #008000\">1</span> <span style=\"color: #808000; text-decoration-color: #808000; font-weight: bold\">animations</span>                                             \n</pre>\n"
     },
     "metadata": {},
     "output_type": "display_data"
    },
    {
     "data": {
      "text/plain": "\u001B[2;36m                   \u001B[0m\u001B[2;36m \u001B[0m\u001B[32mINFO    \u001B[0m Previewed \u001B[1;33mFile\u001B[0m at: \u001B[32m'D:\\COURSES\\python\\code\\Forie\u001B[0m \u001B[2mfile_ops.py\u001B[0m\u001B[2m:193\u001B[0m\n                             \u001B[32mr_Transform\\media\\videos\\Forier_Transform\\480p15\u001B[0m                \n                             \u001B[32m\\ExampleTransform.mp4'\u001B[0m                                          \n",
      "text/html": "<pre style=\"white-space:pre;overflow-x:auto;line-height:normal;font-family:Menlo,'DejaVu Sans Mono',consolas,'Courier New',monospace\"><span style=\"color: #7fbfbf; text-decoration-color: #7fbfbf\">                    </span><span style=\"color: #008000; text-decoration-color: #008000\">INFO    </span> Previewed <span style=\"color: #808000; text-decoration-color: #808000; font-weight: bold\">File</span> at: <span style=\"color: #008000; text-decoration-color: #008000\">'D:\\COURSES\\python\\code\\Forie</span> <span style=\"color: #7f7f7f; text-decoration-color: #7f7f7f\">file_ops.py:193</span>\n                             <span style=\"color: #008000; text-decoration-color: #008000\">r_Transform\\media\\videos\\Forier_Transform\\480p15</span>                \n                             <span style=\"color: #008000; text-decoration-color: #008000\">\\ExampleTransform.mp4'</span>                                          \n</pre>\n"
     },
     "metadata": {},
     "output_type": "display_data"
    },
    {
     "data": {
      "text/plain": "<IPython.core.display.Video object>",
      "text/html": "<video src=\"media\\jupyter\\ExampleTransform@2021-07-27@19-24-41.mp4\" controls autoplay loop style=\"max-width: 25vw;\"  >\n      Your browser does not support the <code>video</code> element.\n    </video>"
     },
     "metadata": {},
     "output_type": "display_data"
    }
   ],
   "source": [
    "% % manim -pql ExampleTransform\n",
    "\n",
    "class ExampleTransform(Scene):\n",
    "    def construct(self):\n",
    "        # self.camera.background_color = WHITE\n",
    "        m1 = Square().set_color(RED)\n",
    "        m2 = Rectangle().set_color(RED).rotate(0.2)\n",
    "        self.play(Transform(m1, m2))"
   ],
   "metadata": {
    "collapsed": false,
    "pycharm": {
     "name": "#%%\n"
    }
   }
  },
  {
   "cell_type": "code",
   "execution_count": 47,
   "outputs": [
    {
     "name": "stderr",
     "output_type": "stream",
     "text": [
      "                                                                            \r"
     ]
    },
    {
     "data": {
      "text/plain": "\u001B[2;36m[07/27/21 19:34:17]\u001B[0m\u001B[2;36m \u001B[0m\u001B[32mINFO    \u001B[0m Animation \u001B[32m0\u001B[0m : Partial movie file        \u001B[2mscene_file_writer.py\u001B[0m\u001B[2m:413\u001B[0m\n                             written in \u001B[32m'D:\\COURSES\\python\\code\\Fori\u001B[0m                         \n                             \u001B[32mer_Transform\\media\\videos\\Forier_Transf\u001B[0m                         \n                             \u001B[32morm\\480p15\\partial_movie_files\\ExampleR\u001B[0m                         \n                             \u001B[32motation\\3163782288_1993864679_424171572\u001B[0m                         \n                             \u001B[32m4.mp4'\u001B[0m                                                          \n",
      "text/html": "<pre style=\"white-space:pre;overflow-x:auto;line-height:normal;font-family:Menlo,'DejaVu Sans Mono',consolas,'Courier New',monospace\"><span style=\"color: #7fbfbf; text-decoration-color: #7fbfbf\">[07/27/21 19:34:17] </span><span style=\"color: #008000; text-decoration-color: #008000\">INFO    </span> Animation <span style=\"color: #008000; text-decoration-color: #008000\">0</span> : Partial movie file        <span style=\"color: #7f7f7f; text-decoration-color: #7f7f7f\">scene_file_writer.py:413</span>\n                             written in <span style=\"color: #008000; text-decoration-color: #008000\">'D:\\COURSES\\python\\code\\Fori</span>                         \n                             <span style=\"color: #008000; text-decoration-color: #008000\">er_Transform\\media\\videos\\Forier_Transf</span>                         \n                             <span style=\"color: #008000; text-decoration-color: #008000\">orm\\480p15\\partial_movie_files\\ExampleR</span>                         \n                             <span style=\"color: #008000; text-decoration-color: #008000\">otation\\3163782288_1993864679_424171572</span>                         \n                             <span style=\"color: #008000; text-decoration-color: #008000\">4.mp4'</span>                                                          \n</pre>\n"
     },
     "metadata": {},
     "output_type": "display_data"
    },
    {
     "data": {
      "text/plain": "\u001B[2;36m                   \u001B[0m\u001B[2;36m \u001B[0m\u001B[32mINFO    \u001B[0m                                         \u001B[2mscene_file_writer.py\u001B[0m\u001B[2m:597\u001B[0m\n                             \u001B[1;33mFile\u001B[0m ready at \u001B[32m'D:\\COURSES\\python\\code\\F\u001B[0m                         \n                             \u001B[32morier_Transform\\media\\videos\\Forier_Tra\u001B[0m                         \n                             \u001B[32mnsform\\480p15\\ExampleRotation.mp4'\u001B[0m                              \n                                                                                             \n",
      "text/html": "<pre style=\"white-space:pre;overflow-x:auto;line-height:normal;font-family:Menlo,'DejaVu Sans Mono',consolas,'Courier New',monospace\"><span style=\"color: #7fbfbf; text-decoration-color: #7fbfbf\">                    </span><span style=\"color: #008000; text-decoration-color: #008000\">INFO    </span>                                         <span style=\"color: #7f7f7f; text-decoration-color: #7f7f7f\">scene_file_writer.py:597</span>\n                             <span style=\"color: #808000; text-decoration-color: #808000; font-weight: bold\">File</span> ready at <span style=\"color: #008000; text-decoration-color: #008000\">'D:\\COURSES\\python\\code\\F</span>                         \n                             <span style=\"color: #008000; text-decoration-color: #008000\">orier_Transform\\media\\videos\\Forier_Tra</span>                         \n                             <span style=\"color: #008000; text-decoration-color: #008000\">nsform\\480p15\\ExampleRotation.mp4'</span>                              \n                                                                                             \n</pre>\n"
     },
     "metadata": {},
     "output_type": "display_data"
    },
    {
     "data": {
      "text/plain": "\u001B[2;36m                   \u001B[0m\u001B[2;36m \u001B[0m\u001B[32mINFO    \u001B[0m \u001B[1;33mRendered\u001B[0m ExampleRotation                            \u001B[2mscene.py\u001B[0m\u001B[2m:228\u001B[0m\n                             \u001B[1;33mPlayed\u001B[0m \u001B[32m1\u001B[0m \u001B[1;33manimations\u001B[0m                                             \n",
      "text/html": "<pre style=\"white-space:pre;overflow-x:auto;line-height:normal;font-family:Menlo,'DejaVu Sans Mono',consolas,'Courier New',monospace\"><span style=\"color: #7fbfbf; text-decoration-color: #7fbfbf\">                    </span><span style=\"color: #008000; text-decoration-color: #008000\">INFO    </span> <span style=\"color: #808000; text-decoration-color: #808000; font-weight: bold\">Rendered</span> ExampleRotation                            <span style=\"color: #7f7f7f; text-decoration-color: #7f7f7f\">scene.py:228</span>\n                             <span style=\"color: #808000; text-decoration-color: #808000; font-weight: bold\">Played</span> <span style=\"color: #008000; text-decoration-color: #008000\">1</span> <span style=\"color: #808000; text-decoration-color: #808000; font-weight: bold\">animations</span>                                             \n</pre>\n"
     },
     "metadata": {},
     "output_type": "display_data"
    },
    {
     "data": {
      "text/plain": "\u001B[2;36m                   \u001B[0m\u001B[2;36m \u001B[0m\u001B[32mINFO    \u001B[0m Previewed \u001B[1;33mFile\u001B[0m at: \u001B[32m'D:\\COURSES\\python\\code\\Forie\u001B[0m \u001B[2mfile_ops.py\u001B[0m\u001B[2m:193\u001B[0m\n                             \u001B[32mr_Transform\\media\\videos\\Forier_Transform\\480p15\u001B[0m                \n                             \u001B[32m\\ExampleRotation.mp4'\u001B[0m                                           \n",
      "text/html": "<pre style=\"white-space:pre;overflow-x:auto;line-height:normal;font-family:Menlo,'DejaVu Sans Mono',consolas,'Courier New',monospace\"><span style=\"color: #7fbfbf; text-decoration-color: #7fbfbf\">                    </span><span style=\"color: #008000; text-decoration-color: #008000\">INFO    </span> Previewed <span style=\"color: #808000; text-decoration-color: #808000; font-weight: bold\">File</span> at: <span style=\"color: #008000; text-decoration-color: #008000\">'D:\\COURSES\\python\\code\\Forie</span> <span style=\"color: #7f7f7f; text-decoration-color: #7f7f7f\">file_ops.py:193</span>\n                             <span style=\"color: #008000; text-decoration-color: #008000\">r_Transform\\media\\videos\\Forier_Transform\\480p15</span>                \n                             <span style=\"color: #008000; text-decoration-color: #008000\">\\ExampleRotation.mp4'</span>                                           \n</pre>\n"
     },
     "metadata": {},
     "output_type": "display_data"
    },
    {
     "data": {
      "text/plain": "<IPython.core.display.Video object>",
      "text/html": "<video src=\"media\\jupyter\\ExampleRotation@2021-07-27@19-34-17.mp4\" controls autoplay loop style=\"max-width: 25vw;\"  >\n      Your browser does not support the <code>video</code> element.\n    </video>"
     },
     "metadata": {},
     "output_type": "display_data"
    }
   ],
   "source": [
    "% % manim -pql ExampleRotation\n",
    "\n",
    "class ExampleRotation(Scene):\n",
    "    def construct(self):\n",
    "        # self.camera.background_color = WHITE\n",
    "        m1a = Square().set_color(RED).shift(LEFT)\n",
    "        m1b = Circle().set_color(RED).shift(LEFT)\n",
    "        m2a = Square().set_color(BLUE).shift(RIGHT)\n",
    "        m2b = Circle().set_color(BLUE).shift(RIGHT)\n",
    "\n",
    "        points = m2a.points\n",
    "        points = np.roll(points, int(len(points) / 4), axis=0)\n",
    "        m2a.points = points  # to flip the Points\n",
    "\n",
    "        self.play(Transform(m1a, m1b), Transform(m2a, m2b), run_time=1)"
   ],
   "metadata": {
    "collapsed": false,
    "pycharm": {
     "name": "#%%\n"
    }
   }
  },
  {
   "cell_type": "code",
   "execution_count": 50,
   "outputs": [
    {
     "data": {
      "text/plain": "\u001B[2;36m[07/27/21 19:41:47]\u001B[0m\u001B[2;36m \u001B[0m\u001B[32mINFO    \u001B[0m                                         \u001B[2mscene_file_writer.py\u001B[0m\u001B[2m:597\u001B[0m\n                             \u001B[1;33mFile\u001B[0m ready at \u001B[32m'D:\\COURSES\\python\\code\\F\u001B[0m                         \n                             \u001B[32morier_Transform\\media\\images\\Forier_Tra\u001B[0m                         \n                             \u001B[32mnsform\\ShowScreenResolution_ManimCE_v0.\u001B[0m                         \n                             \u001B[32m8.0.png'\u001B[0m                                                        \n                                                                                             \n",
      "text/html": "<pre style=\"white-space:pre;overflow-x:auto;line-height:normal;font-family:Menlo,'DejaVu Sans Mono',consolas,'Courier New',monospace\"><span style=\"color: #7fbfbf; text-decoration-color: #7fbfbf\">[07/27/21 19:41:47] </span><span style=\"color: #008000; text-decoration-color: #008000\">INFO    </span>                                         <span style=\"color: #7f7f7f; text-decoration-color: #7f7f7f\">scene_file_writer.py:597</span>\n                             <span style=\"color: #808000; text-decoration-color: #808000; font-weight: bold\">File</span> ready at <span style=\"color: #008000; text-decoration-color: #008000\">'D:\\COURSES\\python\\code\\F</span>                         \n                             <span style=\"color: #008000; text-decoration-color: #008000\">orier_Transform\\media\\images\\Forier_Tra</span>                         \n                             <span style=\"color: #008000; text-decoration-color: #008000\">nsform\\ShowScreenResolution_ManimCE_v0.</span>                         \n                             <span style=\"color: #008000; text-decoration-color: #008000\">8.0.png'</span>                                                        \n                                                                                             \n</pre>\n"
     },
     "metadata": {},
     "output_type": "display_data"
    },
    {
     "data": {
      "text/plain": "\u001B[2;36m                   \u001B[0m\u001B[2;36m \u001B[0m\u001B[32mINFO    \u001B[0m \u001B[1;33mRendered\u001B[0m ShowScreenResolution                       \u001B[2mscene.py\u001B[0m\u001B[2m:228\u001B[0m\n                             \u001B[1;33mPlayed\u001B[0m \u001B[32m0\u001B[0m \u001B[1;33manimations\u001B[0m                                             \n",
      "text/html": "<pre style=\"white-space:pre;overflow-x:auto;line-height:normal;font-family:Menlo,'DejaVu Sans Mono',consolas,'Courier New',monospace\"><span style=\"color: #7fbfbf; text-decoration-color: #7fbfbf\">                    </span><span style=\"color: #008000; text-decoration-color: #008000\">INFO    </span> <span style=\"color: #808000; text-decoration-color: #808000; font-weight: bold\">Rendered</span> ShowScreenResolution                       <span style=\"color: #7f7f7f; text-decoration-color: #7f7f7f\">scene.py:228</span>\n                             <span style=\"color: #808000; text-decoration-color: #808000; font-weight: bold\">Played</span> <span style=\"color: #008000; text-decoration-color: #008000\">0</span> <span style=\"color: #808000; text-decoration-color: #808000; font-weight: bold\">animations</span>                                             \n</pre>\n"
     },
     "metadata": {},
     "output_type": "display_data"
    },
    {
     "data": {
      "text/plain": "\u001B[2;36m                   \u001B[0m\u001B[2;36m \u001B[0m\u001B[32mINFO    \u001B[0m Previewed \u001B[1;33mFile\u001B[0m at: \u001B[32m'D:\\COURSES\\python\\code\\Forie\u001B[0m \u001B[2mfile_ops.py\u001B[0m\u001B[2m:193\u001B[0m\n                             \u001B[32mr_Transform\\media\\images\\Forier_Transform\\ShowSc\u001B[0m                \n                             \u001B[32mreenResolution_ManimCE_v0.8.0.png'\u001B[0m                              \n",
      "text/html": "<pre style=\"white-space:pre;overflow-x:auto;line-height:normal;font-family:Menlo,'DejaVu Sans Mono',consolas,'Courier New',monospace\"><span style=\"color: #7fbfbf; text-decoration-color: #7fbfbf\">                    </span><span style=\"color: #008000; text-decoration-color: #008000\">INFO    </span> Previewed <span style=\"color: #808000; text-decoration-color: #808000; font-weight: bold\">File</span> at: <span style=\"color: #008000; text-decoration-color: #008000\">'D:\\COURSES\\python\\code\\Forie</span> <span style=\"color: #7f7f7f; text-decoration-color: #7f7f7f\">file_ops.py:193</span>\n                             <span style=\"color: #008000; text-decoration-color: #008000\">r_Transform\\media\\images\\Forier_Transform\\ShowSc</span>                \n                             <span style=\"color: #008000; text-decoration-color: #008000\">reenResolution_ManimCE_v0.8.0.png'</span>                              \n</pre>\n"
     },
     "metadata": {},
     "output_type": "display_data"
    },
    {
     "data": {
      "image/png": "[encoded data removed]",
      "text/plain": "<IPython.core.display.Image object>"
     },
     "metadata": {},
     "output_type": "display_data"
    }
   ],
   "source": [
    "% % manim -pql ShowScreenResolution\n",
    "\n",
    "class ShowScreenResolution(Scene):\n",
    "    def construct(self):\n",
    "        pixel_height = config[\"pixel_height\"]  #  1080 is default\n",
    "        pixel_width = config[\"pixel_width\"]  # 1920 is default\n",
    "        frame_width = config[\"frame_width\"]\n",
    "        frame_height = config[\"frame_height\"]\n",
    "        self.add(Dot())\n",
    "        d1 = Line(frame_width * LEFT / 2, frame_width * RIGHT / 2).to_edge(DOWN)\n",
    "        self.add(d1)\n",
    "        self.add(Text(str(pixel_width)).next_to(d1, UP))\n",
    "        d2 = Line(frame_height * UP / 2, frame_height * DOWN / 2).to_edge(LEFT)\n",
    "        self.add(d2)\n",
    "        self.add(Text(str(pixel_height)).next_to(d2, RIGHT))\n"
   ],
   "metadata": {
    "collapsed": false,
    "pycharm": {
     "name": "#%%\n"
    }
   }
  },
  {
   "cell_type": "code",
   "execution_count": 53,
   "outputs": [
    {
     "ename": "RuntimeError",
     "evalue": "latex failed but did not produce a log file. Check your LaTeX installation.",
     "output_type": "error",
     "traceback": [
      "\u001B[1;31m---------------------------------------------------------------------------\u001B[0m",
      "\u001B[1;31mRuntimeError\u001B[0m                              Traceback (most recent call last)",
      "\u001B[1;32mC:\\Users\\AHMEDA~1\\AppData\\Local\\Temp/ipykernel_10408/106374099.py\u001B[0m in \u001B[0;36m<module>\u001B[1;34m\u001B[0m\n\u001B[1;32m----> 1\u001B[1;33m \u001B[0mget_ipython\u001B[0m\u001B[1;33m(\u001B[0m\u001B[1;33m)\u001B[0m\u001B[1;33m.\u001B[0m\u001B[0mrun_cell_magic\u001B[0m\u001B[1;33m(\u001B[0m\u001B[1;34m'manim'\u001B[0m\u001B[1;33m,\u001B[0m \u001B[1;34m'-pql ArgMinExample'\u001B[0m\u001B[1;33m,\u001B[0m \u001B[1;34m'\\nclass ArgMinExample(Scene):\\n    def construct(self):\\n        ax = Axes(\\n            x_range=[0, 10], y_range=[0, 100, 10], axis_config={\"include_tip\": False}\\n        )\\n        labels = ax.get_axis_labels(x_label=\"x\", y_label=\"f(x)\")\\n\\n        t = ValueTracker(0)\\n\\n        def func(x):\\n            return 2 * (x - 5) ** 2\\n        graph = ax.get_graph(func, color=MAROON)\\n\\n        initial_point = [ax.coords_to_point(t.get_value(), func(t.get_value()))]\\n        dot = Dot(point=initial_point)\\n\\n        dot.add_updater(lambda x: x.move_to(ax.c2p(t.get_value(), func(t.get_value()))))\\n        x_space = np.linspace(*ax.x_range[:2],200)\\n        minimum_index = func(x_space).argmin()\\n\\n        self.add(ax, labels, graph, dot)\\n        self.play(t.animate.set_value(x_space[minimum_index]))\\n        self.wait()\\n'\u001B[0m\u001B[1;33m)\u001B[0m\u001B[1;33m\u001B[0m\u001B[1;33m\u001B[0m\u001B[0m\n\u001B[0m",
      "\u001B[1;32mc:\\users\\ahmed ata\\appdata\\local\\programs\\python\\python39\\lib\\site-packages\\IPython\\core\\interactiveshell.py\u001B[0m in \u001B[0;36mrun_cell_magic\u001B[1;34m(self, magic_name, line, cell)\u001B[0m\n\u001B[0;32m   2401\u001B[0m             \u001B[1;32mwith\u001B[0m \u001B[0mself\u001B[0m\u001B[1;33m.\u001B[0m\u001B[0mbuiltin_trap\u001B[0m\u001B[1;33m:\u001B[0m\u001B[1;33m\u001B[0m\u001B[1;33m\u001B[0m\u001B[0m\n\u001B[0;32m   2402\u001B[0m                 \u001B[0margs\u001B[0m \u001B[1;33m=\u001B[0m \u001B[1;33m(\u001B[0m\u001B[0mmagic_arg_s\u001B[0m\u001B[1;33m,\u001B[0m \u001B[0mcell\u001B[0m\u001B[1;33m)\u001B[0m\u001B[1;33m\u001B[0m\u001B[1;33m\u001B[0m\u001B[0m\n\u001B[1;32m-> 2403\u001B[1;33m                 \u001B[0mresult\u001B[0m \u001B[1;33m=\u001B[0m \u001B[0mfn\u001B[0m\u001B[1;33m(\u001B[0m\u001B[1;33m*\u001B[0m\u001B[0margs\u001B[0m\u001B[1;33m,\u001B[0m \u001B[1;33m**\u001B[0m\u001B[0mkwargs\u001B[0m\u001B[1;33m)\u001B[0m\u001B[1;33m\u001B[0m\u001B[1;33m\u001B[0m\u001B[0m\n\u001B[0m\u001B[0;32m   2404\u001B[0m             \u001B[1;32mreturn\u001B[0m \u001B[0mresult\u001B[0m\u001B[1;33m\u001B[0m\u001B[1;33m\u001B[0m\u001B[0m\n\u001B[0;32m   2405\u001B[0m \u001B[1;33m\u001B[0m\u001B[0m\n",
      "\u001B[1;32mc:\\users\\ahmed ata\\appdata\\local\\programs\\python\\python39\\lib\\site-packages\\decorator.py\u001B[0m in \u001B[0;36mfun\u001B[1;34m(*args, **kw)\u001B[0m\n\u001B[0;32m    230\u001B[0m             \u001B[1;32mif\u001B[0m \u001B[1;32mnot\u001B[0m \u001B[0mkwsyntax\u001B[0m\u001B[1;33m:\u001B[0m\u001B[1;33m\u001B[0m\u001B[1;33m\u001B[0m\u001B[0m\n\u001B[0;32m    231\u001B[0m                 \u001B[0margs\u001B[0m\u001B[1;33m,\u001B[0m \u001B[0mkw\u001B[0m \u001B[1;33m=\u001B[0m \u001B[0mfix\u001B[0m\u001B[1;33m(\u001B[0m\u001B[0margs\u001B[0m\u001B[1;33m,\u001B[0m \u001B[0mkw\u001B[0m\u001B[1;33m,\u001B[0m \u001B[0msig\u001B[0m\u001B[1;33m)\u001B[0m\u001B[1;33m\u001B[0m\u001B[1;33m\u001B[0m\u001B[0m\n\u001B[1;32m--> 232\u001B[1;33m             \u001B[1;32mreturn\u001B[0m \u001B[0mcaller\u001B[0m\u001B[1;33m(\u001B[0m\u001B[0mfunc\u001B[0m\u001B[1;33m,\u001B[0m \u001B[1;33m*\u001B[0m\u001B[1;33m(\u001B[0m\u001B[0mextras\u001B[0m \u001B[1;33m+\u001B[0m \u001B[0margs\u001B[0m\u001B[1;33m)\u001B[0m\u001B[1;33m,\u001B[0m \u001B[1;33m**\u001B[0m\u001B[0mkw\u001B[0m\u001B[1;33m)\u001B[0m\u001B[1;33m\u001B[0m\u001B[1;33m\u001B[0m\u001B[0m\n\u001B[0m\u001B[0;32m    233\u001B[0m     \u001B[0mfun\u001B[0m\u001B[1;33m.\u001B[0m\u001B[0m__name__\u001B[0m \u001B[1;33m=\u001B[0m \u001B[0mfunc\u001B[0m\u001B[1;33m.\u001B[0m\u001B[0m__name__\u001B[0m\u001B[1;33m\u001B[0m\u001B[1;33m\u001B[0m\u001B[0m\n\u001B[0;32m    234\u001B[0m     \u001B[0mfun\u001B[0m\u001B[1;33m.\u001B[0m\u001B[0m__doc__\u001B[0m \u001B[1;33m=\u001B[0m \u001B[0mfunc\u001B[0m\u001B[1;33m.\u001B[0m\u001B[0m__doc__\u001B[0m\u001B[1;33m\u001B[0m\u001B[1;33m\u001B[0m\u001B[0m\n",
      "\u001B[1;32mc:\\users\\ahmed ata\\appdata\\local\\programs\\python\\python39\\lib\\site-packages\\IPython\\core\\magic.py\u001B[0m in \u001B[0;36m<lambda>\u001B[1;34m(f, *a, **k)\u001B[0m\n\u001B[0;32m    185\u001B[0m     \u001B[1;31m# but it's overkill for just that one bit of state.\u001B[0m\u001B[1;33m\u001B[0m\u001B[1;33m\u001B[0m\u001B[1;33m\u001B[0m\u001B[0m\n\u001B[0;32m    186\u001B[0m     \u001B[1;32mdef\u001B[0m \u001B[0mmagic_deco\u001B[0m\u001B[1;33m(\u001B[0m\u001B[0marg\u001B[0m\u001B[1;33m)\u001B[0m\u001B[1;33m:\u001B[0m\u001B[1;33m\u001B[0m\u001B[1;33m\u001B[0m\u001B[0m\n\u001B[1;32m--> 187\u001B[1;33m         \u001B[0mcall\u001B[0m \u001B[1;33m=\u001B[0m \u001B[1;32mlambda\u001B[0m \u001B[0mf\u001B[0m\u001B[1;33m,\u001B[0m \u001B[1;33m*\u001B[0m\u001B[0ma\u001B[0m\u001B[1;33m,\u001B[0m \u001B[1;33m**\u001B[0m\u001B[0mk\u001B[0m\u001B[1;33m:\u001B[0m \u001B[0mf\u001B[0m\u001B[1;33m(\u001B[0m\u001B[1;33m*\u001B[0m\u001B[0ma\u001B[0m\u001B[1;33m,\u001B[0m \u001B[1;33m**\u001B[0m\u001B[0mk\u001B[0m\u001B[1;33m)\u001B[0m\u001B[1;33m\u001B[0m\u001B[1;33m\u001B[0m\u001B[0m\n\u001B[0m\u001B[0;32m    188\u001B[0m \u001B[1;33m\u001B[0m\u001B[0m\n\u001B[0;32m    189\u001B[0m         \u001B[1;32mif\u001B[0m \u001B[0mcallable\u001B[0m\u001B[1;33m(\u001B[0m\u001B[0marg\u001B[0m\u001B[1;33m)\u001B[0m\u001B[1;33m:\u001B[0m\u001B[1;33m\u001B[0m\u001B[1;33m\u001B[0m\u001B[0m\n",
      "\u001B[1;32mc:\\users\\ahmed ata\\appdata\\local\\programs\\python\\python39\\lib\\site-packages\\manim\\utils\\ipython_magic.py\u001B[0m in \u001B[0;36mmanim\u001B[1;34m(self, line, cell, local_ns)\u001B[0m\n\u001B[0;32m    107\u001B[0m             \u001B[1;32mwith\u001B[0m \u001B[0mtempconfig\u001B[0m\u001B[1;33m(\u001B[0m\u001B[0mlocal_ns\u001B[0m\u001B[1;33m.\u001B[0m\u001B[0mget\u001B[0m\u001B[1;33m(\u001B[0m\u001B[1;34m\"config\"\u001B[0m\u001B[1;33m,\u001B[0m \u001B[1;33m{\u001B[0m\u001B[1;33m}\u001B[0m\u001B[1;33m)\u001B[0m\u001B[1;33m)\u001B[0m\u001B[1;33m:\u001B[0m\u001B[1;33m\u001B[0m\u001B[1;33m\u001B[0m\u001B[0m\n\u001B[0;32m    108\u001B[0m                 \u001B[0mconfig\u001B[0m\u001B[1;33m.\u001B[0m\u001B[0mdigest_args\u001B[0m\u001B[1;33m(\u001B[0m\u001B[0margs\u001B[0m\u001B[1;33m)\u001B[0m\u001B[1;33m\u001B[0m\u001B[1;33m\u001B[0m\u001B[0m\n\u001B[1;32m--> 109\u001B[1;33m                 \u001B[0mexec\u001B[0m\u001B[1;33m(\u001B[0m\u001B[1;34mf\"{config['scene_names'][0]}().render()\"\u001B[0m\u001B[1;33m,\u001B[0m \u001B[0mlocal_ns\u001B[0m\u001B[1;33m)\u001B[0m\u001B[1;33m\u001B[0m\u001B[1;33m\u001B[0m\u001B[0m\n\u001B[0m\u001B[0;32m    110\u001B[0m                 \u001B[0mlocal_path\u001B[0m \u001B[1;33m=\u001B[0m \u001B[0mPath\u001B[0m\u001B[1;33m(\u001B[0m\u001B[0mconfig\u001B[0m\u001B[1;33m[\u001B[0m\u001B[1;34m\"output_file\"\u001B[0m\u001B[1;33m]\u001B[0m\u001B[1;33m)\u001B[0m\u001B[1;33m.\u001B[0m\u001B[0mrelative_to\u001B[0m\u001B[1;33m(\u001B[0m\u001B[0mPath\u001B[0m\u001B[1;33m.\u001B[0m\u001B[0mcwd\u001B[0m\u001B[1;33m(\u001B[0m\u001B[1;33m)\u001B[0m\u001B[1;33m)\u001B[0m\u001B[1;33m\u001B[0m\u001B[1;33m\u001B[0m\u001B[0m\n\u001B[0;32m    111\u001B[0m                 tmpfile = (\n",
      "\u001B[1;32m<string>\u001B[0m in \u001B[0;36m<module>\u001B[1;34m\u001B[0m\n",
      "\u001B[1;32mc:\\users\\ahmed ata\\appdata\\local\\programs\\python\\python39\\lib\\site-packages\\manim\\scene\\scene.py\u001B[0m in \u001B[0;36mrender\u001B[1;34m(self, preview)\u001B[0m\n\u001B[0;32m    208\u001B[0m         \u001B[0mself\u001B[0m\u001B[1;33m.\u001B[0m\u001B[0msetup\u001B[0m\u001B[1;33m(\u001B[0m\u001B[1;33m)\u001B[0m\u001B[1;33m\u001B[0m\u001B[1;33m\u001B[0m\u001B[0m\n\u001B[0;32m    209\u001B[0m         \u001B[1;32mtry\u001B[0m\u001B[1;33m:\u001B[0m\u001B[1;33m\u001B[0m\u001B[1;33m\u001B[0m\u001B[0m\n\u001B[1;32m--> 210\u001B[1;33m             \u001B[0mself\u001B[0m\u001B[1;33m.\u001B[0m\u001B[0mconstruct\u001B[0m\u001B[1;33m(\u001B[0m\u001B[1;33m)\u001B[0m\u001B[1;33m\u001B[0m\u001B[1;33m\u001B[0m\u001B[0m\n\u001B[0m\u001B[0;32m    211\u001B[0m         \u001B[1;32mexcept\u001B[0m \u001B[0mEndSceneEarlyException\u001B[0m\u001B[1;33m:\u001B[0m\u001B[1;33m\u001B[0m\u001B[1;33m\u001B[0m\u001B[0m\n\u001B[0;32m    212\u001B[0m             \u001B[1;32mpass\u001B[0m\u001B[1;33m\u001B[0m\u001B[1;33m\u001B[0m\u001B[0m\n",
      "\u001B[1;32m<string>\u001B[0m in \u001B[0;36mconstruct\u001B[1;34m(self)\u001B[0m\n",
      "\u001B[1;32mc:\\users\\ahmed ata\\appdata\\local\\programs\\python\\python39\\lib\\site-packages\\manim\\mobject\\coordinate_systems.py\u001B[0m in \u001B[0;36mget_axis_labels\u001B[1;34m(self, x_label, y_label)\u001B[0m\n\u001B[0;32m    271\u001B[0m \u001B[1;33m\u001B[0m\u001B[0m\n\u001B[0;32m    272\u001B[0m         self.axis_labels = VGroup(\n\u001B[1;32m--> 273\u001B[1;33m             \u001B[0mself\u001B[0m\u001B[1;33m.\u001B[0m\u001B[0mget_x_axis_label\u001B[0m\u001B[1;33m(\u001B[0m\u001B[0mx_label\u001B[0m\u001B[1;33m)\u001B[0m\u001B[1;33m,\u001B[0m\u001B[1;33m\u001B[0m\u001B[1;33m\u001B[0m\u001B[0m\n\u001B[0m\u001B[0;32m    274\u001B[0m             \u001B[0mself\u001B[0m\u001B[1;33m.\u001B[0m\u001B[0mget_y_axis_label\u001B[0m\u001B[1;33m(\u001B[0m\u001B[0my_label\u001B[0m\u001B[1;33m)\u001B[0m\u001B[1;33m,\u001B[0m\u001B[1;33m\u001B[0m\u001B[1;33m\u001B[0m\u001B[0m\n\u001B[0;32m    275\u001B[0m         )\n",
      "\u001B[1;32mc:\\users\\ahmed ata\\appdata\\local\\programs\\python\\python39\\lib\\site-packages\\manim\\mobject\\coordinate_systems.py\u001B[0m in \u001B[0;36mget_x_axis_label\u001B[1;34m(self, label_tex, edge, direction, **kwargs)\u001B[0m\n\u001B[0;32m    177\u001B[0m \u001B[1;33m\u001B[0m\u001B[0m\n\u001B[0;32m    178\u001B[0m     \u001B[1;32mdef\u001B[0m \u001B[0mget_x_axis_label\u001B[0m\u001B[1;33m(\u001B[0m\u001B[0mself\u001B[0m\u001B[1;33m,\u001B[0m \u001B[0mlabel_tex\u001B[0m\u001B[1;33m,\u001B[0m \u001B[0medge\u001B[0m\u001B[1;33m=\u001B[0m\u001B[0mUR\u001B[0m\u001B[1;33m,\u001B[0m \u001B[0mdirection\u001B[0m\u001B[1;33m=\u001B[0m\u001B[0mUR\u001B[0m\u001B[1;33m,\u001B[0m \u001B[1;33m**\u001B[0m\u001B[0mkwargs\u001B[0m\u001B[1;33m)\u001B[0m\u001B[1;33m:\u001B[0m\u001B[1;33m\u001B[0m\u001B[1;33m\u001B[0m\u001B[0m\n\u001B[1;32m--> 179\u001B[1;33m         return self.get_axis_label(\n\u001B[0m\u001B[0;32m    180\u001B[0m             \u001B[0mlabel_tex\u001B[0m\u001B[1;33m,\u001B[0m \u001B[0mself\u001B[0m\u001B[1;33m.\u001B[0m\u001B[0mget_x_axis\u001B[0m\u001B[1;33m(\u001B[0m\u001B[1;33m)\u001B[0m\u001B[1;33m,\u001B[0m \u001B[0medge\u001B[0m\u001B[1;33m,\u001B[0m \u001B[0mdirection\u001B[0m\u001B[1;33m,\u001B[0m \u001B[1;33m**\u001B[0m\u001B[0mkwargs\u001B[0m\u001B[1;33m\u001B[0m\u001B[1;33m\u001B[0m\u001B[0m\n\u001B[0;32m    181\u001B[0m         )\n",
      "\u001B[1;32mc:\\users\\ahmed ata\\appdata\\local\\programs\\python\\python39\\lib\\site-packages\\manim\\mobject\\coordinate_systems.py\u001B[0m in \u001B[0;36mget_axis_label\u001B[1;34m(self, label, axis, edge, direction, buff)\u001B[0m\n\u001B[0;32m    240\u001B[0m         \"\"\"\n\u001B[0;32m    241\u001B[0m \u001B[1;33m\u001B[0m\u001B[0m\n\u001B[1;32m--> 242\u001B[1;33m         \u001B[0mlabel\u001B[0m \u001B[1;33m=\u001B[0m \u001B[0mself\u001B[0m\u001B[1;33m.\u001B[0m\u001B[0mcreate_label_tex\u001B[0m\u001B[1;33m(\u001B[0m\u001B[0mlabel\u001B[0m\u001B[1;33m)\u001B[0m\u001B[1;33m\u001B[0m\u001B[1;33m\u001B[0m\u001B[0m\n\u001B[0m\u001B[0;32m    243\u001B[0m         \u001B[0mlabel\u001B[0m\u001B[1;33m.\u001B[0m\u001B[0mnext_to\u001B[0m\u001B[1;33m(\u001B[0m\u001B[0maxis\u001B[0m\u001B[1;33m.\u001B[0m\u001B[0mget_edge_center\u001B[0m\u001B[1;33m(\u001B[0m\u001B[0medge\u001B[0m\u001B[1;33m)\u001B[0m\u001B[1;33m,\u001B[0m \u001B[0mdirection\u001B[0m\u001B[1;33m,\u001B[0m \u001B[0mbuff\u001B[0m\u001B[1;33m=\u001B[0m\u001B[0mbuff\u001B[0m\u001B[1;33m)\u001B[0m\u001B[1;33m\u001B[0m\u001B[1;33m\u001B[0m\u001B[0m\n\u001B[0;32m    244\u001B[0m         \u001B[0mlabel\u001B[0m\u001B[1;33m.\u001B[0m\u001B[0mshift_onto_screen\u001B[0m\u001B[1;33m(\u001B[0m\u001B[0mbuff\u001B[0m\u001B[1;33m=\u001B[0m\u001B[0mMED_SMALL_BUFF\u001B[0m\u001B[1;33m)\u001B[0m\u001B[1;33m\u001B[0m\u001B[1;33m\u001B[0m\u001B[0m\n",
      "\u001B[1;32mc:\\users\\ahmed ata\\appdata\\local\\programs\\python\\python39\\lib\\site-packages\\manim\\mobject\\coordinate_systems.py\u001B[0m in \u001B[0;36mcreate_label_tex\u001B[1;34m(label_tex)\u001B[0m\n\u001B[0;32m    208\u001B[0m             \u001B[1;32mor\u001B[0m \u001B[0misinstance\u001B[0m\u001B[1;33m(\u001B[0m\u001B[0mlabel_tex\u001B[0m\u001B[1;33m,\u001B[0m \u001B[0mstr\u001B[0m\u001B[1;33m)\u001B[0m\u001B[1;33m\u001B[0m\u001B[1;33m\u001B[0m\u001B[0m\n\u001B[0;32m    209\u001B[0m         ):\n\u001B[1;32m--> 210\u001B[1;33m             \u001B[0mlabel_tex\u001B[0m \u001B[1;33m=\u001B[0m \u001B[0mMathTex\u001B[0m\u001B[1;33m(\u001B[0m\u001B[0mlabel_tex\u001B[0m\u001B[1;33m)\u001B[0m\u001B[1;33m\u001B[0m\u001B[1;33m\u001B[0m\u001B[0m\n\u001B[0m\u001B[0;32m    211\u001B[0m         \u001B[1;32mreturn\u001B[0m \u001B[0mlabel_tex\u001B[0m\u001B[1;33m\u001B[0m\u001B[1;33m\u001B[0m\u001B[0m\n\u001B[0;32m    212\u001B[0m \u001B[1;33m\u001B[0m\u001B[0m\n",
      "\u001B[1;32mc:\\users\\ahmed ata\\appdata\\local\\programs\\python\\python39\\lib\\site-packages\\manim\\mobject\\svg\\tex_mobject.py\u001B[0m in \u001B[0;36m__init__\u001B[1;34m(self, arg_separator, substrings_to_isolate, tex_to_color_map, tex_environment, *tex_strings, **kwargs)\u001B[0m\n\u001B[0;32m    257\u001B[0m         \u001B[0mself\u001B[0m\u001B[1;33m.\u001B[0m\u001B[0mtex_strings\u001B[0m \u001B[1;33m=\u001B[0m \u001B[0mtex_strings\u001B[0m\u001B[1;33m\u001B[0m\u001B[1;33m\u001B[0m\u001B[0m\n\u001B[0;32m    258\u001B[0m         \u001B[1;32mtry\u001B[0m\u001B[1;33m:\u001B[0m\u001B[1;33m\u001B[0m\u001B[1;33m\u001B[0m\u001B[0m\n\u001B[1;32m--> 259\u001B[1;33m             SingleStringMathTex.__init__(\n\u001B[0m\u001B[0;32m    260\u001B[0m                 \u001B[0mself\u001B[0m\u001B[1;33m,\u001B[0m\u001B[1;33m\u001B[0m\u001B[1;33m\u001B[0m\u001B[0m\n\u001B[0;32m    261\u001B[0m                 \u001B[0mself\u001B[0m\u001B[1;33m.\u001B[0m\u001B[0marg_separator\u001B[0m\u001B[1;33m.\u001B[0m\u001B[0mjoin\u001B[0m\u001B[1;33m(\u001B[0m\u001B[0mtex_strings\u001B[0m\u001B[1;33m)\u001B[0m\u001B[1;33m,\u001B[0m\u001B[1;33m\u001B[0m\u001B[1;33m\u001B[0m\u001B[0m\n",
      "\u001B[1;32mc:\\users\\ahmed ata\\appdata\\local\\programs\\python\\python39\\lib\\site-packages\\manim\\mobject\\svg\\tex_mobject.py\u001B[0m in \u001B[0;36m__init__\u001B[1;34m(self, tex_string, stroke_width, fill_opacity, background_stroke_width, background_stroke_color, should_center, height, organize_left_to_right, tex_environment, tex_template, color, **kwargs)\u001B[0m\n\u001B[0;32m     83\u001B[0m         \u001B[1;32massert\u001B[0m \u001B[0misinstance\u001B[0m\u001B[1;33m(\u001B[0m\u001B[0mtex_string\u001B[0m\u001B[1;33m,\u001B[0m \u001B[0mstr\u001B[0m\u001B[1;33m)\u001B[0m\u001B[1;33m\u001B[0m\u001B[1;33m\u001B[0m\u001B[0m\n\u001B[0;32m     84\u001B[0m         \u001B[0mself\u001B[0m\u001B[1;33m.\u001B[0m\u001B[0mtex_string\u001B[0m \u001B[1;33m=\u001B[0m \u001B[0mtex_string\u001B[0m\u001B[1;33m\u001B[0m\u001B[1;33m\u001B[0m\u001B[0m\n\u001B[1;32m---> 85\u001B[1;33m         file_name = tex_to_svg_file(\n\u001B[0m\u001B[0;32m     86\u001B[0m             \u001B[0mself\u001B[0m\u001B[1;33m.\u001B[0m\u001B[0mget_modified_expression\u001B[0m\u001B[1;33m(\u001B[0m\u001B[0mtex_string\u001B[0m\u001B[1;33m)\u001B[0m\u001B[1;33m,\u001B[0m\u001B[1;33m\u001B[0m\u001B[1;33m\u001B[0m\u001B[0m\n\u001B[0;32m     87\u001B[0m             \u001B[0menvironment\u001B[0m\u001B[1;33m=\u001B[0m\u001B[0mself\u001B[0m\u001B[1;33m.\u001B[0m\u001B[0mtex_environment\u001B[0m\u001B[1;33m,\u001B[0m\u001B[1;33m\u001B[0m\u001B[1;33m\u001B[0m\u001B[0m\n",
      "\u001B[1;32mc:\\users\\ahmed ata\\appdata\\local\\programs\\python\\python39\\lib\\site-packages\\manim\\utils\\tex_file_writing.py\u001B[0m in \u001B[0;36mtex_to_svg_file\u001B[1;34m(expression, environment, tex_template)\u001B[0m\n\u001B[0;32m     44\u001B[0m         \u001B[0mtex_template\u001B[0m \u001B[1;33m=\u001B[0m \u001B[0mconfig\u001B[0m\u001B[1;33m[\u001B[0m\u001B[1;34m\"tex_template\"\u001B[0m\u001B[1;33m]\u001B[0m\u001B[1;33m\u001B[0m\u001B[1;33m\u001B[0m\u001B[0m\n\u001B[0;32m     45\u001B[0m     \u001B[0mtex_file\u001B[0m \u001B[1;33m=\u001B[0m \u001B[0mgenerate_tex_file\u001B[0m\u001B[1;33m(\u001B[0m\u001B[0mexpression\u001B[0m\u001B[1;33m,\u001B[0m \u001B[0menvironment\u001B[0m\u001B[1;33m,\u001B[0m \u001B[0mtex_template\u001B[0m\u001B[1;33m)\u001B[0m\u001B[1;33m\u001B[0m\u001B[1;33m\u001B[0m\u001B[0m\n\u001B[1;32m---> 46\u001B[1;33m     dvi_file = compile_tex(\n\u001B[0m\u001B[0;32m     47\u001B[0m         \u001B[0mtex_file\u001B[0m\u001B[1;33m,\u001B[0m \u001B[0mtex_template\u001B[0m\u001B[1;33m.\u001B[0m\u001B[0mtex_compiler\u001B[0m\u001B[1;33m,\u001B[0m \u001B[0mtex_template\u001B[0m\u001B[1;33m.\u001B[0m\u001B[0moutput_format\u001B[0m\u001B[1;33m\u001B[0m\u001B[1;33m\u001B[0m\u001B[0m\n\u001B[0;32m     48\u001B[0m     )\n",
      "\u001B[1;32mc:\\users\\ahmed ata\\appdata\\local\\programs\\python\\python39\\lib\\site-packages\\manim\\utils\\tex_file_writing.py\u001B[0m in \u001B[0;36mcompile_tex\u001B[1;34m(tex_file, tex_compiler, output_format)\u001B[0m\n\u001B[0;32m    184\u001B[0m             \u001B[0mlog_file\u001B[0m \u001B[1;33m=\u001B[0m \u001B[0mtex_file\u001B[0m\u001B[1;33m.\u001B[0m\u001B[0mreplace\u001B[0m\u001B[1;33m(\u001B[0m\u001B[1;34m\".tex\"\u001B[0m\u001B[1;33m,\u001B[0m \u001B[1;34m\".log\"\u001B[0m\u001B[1;33m)\u001B[0m\u001B[1;33m\u001B[0m\u001B[1;33m\u001B[0m\u001B[0m\n\u001B[0;32m    185\u001B[0m             \u001B[1;32mif\u001B[0m \u001B[1;32mnot\u001B[0m \u001B[0mPath\u001B[0m\u001B[1;33m(\u001B[0m\u001B[0mlog_file\u001B[0m\u001B[1;33m)\u001B[0m\u001B[1;33m.\u001B[0m\u001B[0mexists\u001B[0m\u001B[1;33m(\u001B[0m\u001B[1;33m)\u001B[0m\u001B[1;33m:\u001B[0m\u001B[1;33m\u001B[0m\u001B[1;33m\u001B[0m\u001B[0m\n\u001B[1;32m--> 186\u001B[1;33m                 raise RuntimeError(\n\u001B[0m\u001B[0;32m    187\u001B[0m                     \u001B[1;34mf\"{tex_compiler} failed but did not produce a log file. \"\u001B[0m\u001B[1;33m\u001B[0m\u001B[1;33m\u001B[0m\u001B[0m\n\u001B[0;32m    188\u001B[0m                     \u001B[1;34m\"Check your LaTeX installation.\"\u001B[0m\u001B[1;33m\u001B[0m\u001B[1;33m\u001B[0m\u001B[0m\n",
      "\u001B[1;31mRuntimeError\u001B[0m: latex failed but did not produce a log file. Check your LaTeX installation."
     ]
    }
   ],
   "source": [
    "% % manim -pql ArgMinExample\n",
    "\n",
    "class ArgMinExample(Scene):\n",
    "    def construct(self):\n",
    "        ax = Axes(\n",
    "            x_range=[0, 10], y_range=[0, 100, 10], axis_config={\"include_tip\": False}\n",
    "        )\n",
    "        labels = ax.get_axis_labels(x_label=\"x\", y_label=\"f(x)\")\n",
    "\n",
    "        t = ValueTracker(0)\n",
    "\n",
    "        def func(x):\n",
    "            return 2 * (x - 5) ** 2\n",
    "\n",
    "        graph = ax.get_graph(func, color=MAROON)\n",
    "\n",
    "        initial_point = [ax.coords_to_point(t.get_value(), func(t.get_value()))]\n",
    "        dot = Dot(point=initial_point)\n",
    "\n",
    "        dot.add_updater(lambda x: x.move_to(ax.c2p(t.get_value(), func(t.get_value()))))\n",
    "        x_space = np.linspace(*ax.x_range[:2], 200)\n",
    "        minimum_index = func(x_space).argmin()\n",
    "\n",
    "        self.add(ax, labels, graph, dot)\n",
    "        self.play(t.animate.set_value(x_space[minimum_index]))\n",
    "        self.wait()"
   ],
   "metadata": {
    "collapsed": false,
    "pycharm": {
     "name": "#%%\n"
    }
   }
  },
  {
   "cell_type": "code",
   "execution_count": 44,
   "outputs": [
    {
     "name": "stderr",
     "output_type": "stream",
     "text": [
      "UsageError: Line magic function `%%manim` not found.\n"
     ]
    }
   ],
   "source": [
    "% % manim -pql SineCurveUnitCircle\n",
    "\n",
    "# In Manim CE Example codes\n",
    "class SineCurveUnitCircle(Scene):\n",
    "    # contributed by heejin_park, https://infograph.tistory.com/230\n",
    "    def construct(self):\n",
    "        self.show_axis()\n",
    "        self.show_circle()\n",
    "        self.move_dot_and_draw_curve()\n",
    "        #self.wait()\n",
    "\n",
    "    def show_axis(self):\n",
    "        x_start = np.array([-6, 0, 0])\n",
    "        x_end = np.array([6, 0, 0])\n",
    "\n",
    "        y_start = np.array([-4, -2, 0])\n",
    "        y_end = np.array([-4, 2, 0])\n",
    "\n",
    "        x_axis = Line(x_start, x_end)\n",
    "        y_axis = Line(y_start, y_end)\n",
    "\n",
    "        self.add(x_axis, y_axis)\n",
    "        self.add_x_labels()\n",
    "\n",
    "        self.origin_point = np.array([-4, 0, 0])\n",
    "        self.curve_start = np.array([-3, 0, 0])\n",
    "\n",
    "    def add_x_labels(self):\n",
    "        x_labels = [\n",
    "            MathTex(\"\\pi\"), MathTex(\"2 \\pi\"),\n",
    "            MathTex(\"3 \\pi\"), MathTex(\"4 \\pi\"),\n",
    "        ]\n",
    "\n",
    "        for i in range(len(x_labels)):\n",
    "            x_labels[i].next_to(np.array([-1 + 2 * i, 0, 0]), DOWN)  # print a pi every 2 units\n",
    "            self.add(x_labels[i])\n",
    "\n",
    "    def show_circle(self):\n",
    "        circle = Circle(radius=1)\n",
    "        circle.move_to(self.origin_point)\n",
    "        self.add(circle)\n",
    "        self.circle = circle\n",
    "\n",
    "    def move_dot_and_draw_curve(self):\n",
    "        orbit = self.circle\n",
    "        origin_point = self.origin_point\n",
    "\n",
    "        dot = Dot(radius=0.08, color=YELLOW)\n",
    "        dot.move_to(orbit.point_from_proportion(0))\n",
    "        self.t_offset = 0  # On the X_AXIS\n",
    "        rate = 0.25  # rotation/sec\n",
    "\n",
    "        def go_around_circle(mob, dt):  # mob-> the point\n",
    "            self.t_offset += (dt * rate)  # move the amount that 'dt' tells it to\n",
    "            # print(self.t_offset)\n",
    "            mob.move_to(orbit.point_from_proportion(self.t_offset % 1))  # 0-> 1 # all points on object\n",
    "\n",
    "        def get_line_to_circle():\n",
    "            return Line(origin_point, dot.get_center(), color=BLUE)\n",
    "\n",
    "        def get_line_to_curve():\n",
    "            x = self.curve_start[0] + self.t_offset * 4  # of the siny going point\n",
    "            y = dot.get_center()[1]  # same y as the Dot on circle\n",
    "            return Line(dot.get_center(), np.array([x, y, 0]), color=BLUE, stroke_width=2)\n",
    "\n",
    "        self.curve = VGroup()  # the sinusoidal Curve is a group of lines\n",
    "        self.curve.add(Dot(self.curve_start, self.curve_start))\n",
    "\n",
    "        def get_curve():\n",
    "            last_line = self.curve[-1]\n",
    "            x = self.curve_start[0] + self.t_offset * 4\n",
    "            y = dot.get_center()[1]\n",
    "            new_line = Line(last_line.get_end(), np.array([x, y, 0]), color=YELLOW_D)\n",
    "            self.curve.add(Dot().move_to([x, y, 0]).scale(.2))\n",
    "\n",
    "            return self.curve\n",
    "\n",
    "        dot.add_updater(go_around_circle)\n",
    "\n",
    "        origin_to_circle_line = always_redraw(get_line_to_circle)\n",
    "        dot_to_curve_line = always_redraw(get_line_to_curve)\n",
    "        sine_curve_line = always_redraw(get_curve)\n",
    "\n",
    "        self.add(dot)\n",
    "        self.add(orbit, origin_to_circle_line, dot_to_curve_line, sine_curve_line)\n",
    "        self.wait(8.5)\n",
    "\n",
    "        dot.remove_updater(go_around_circle)"
   ],
   "metadata": {
    "collapsed": false,
    "pycharm": {
     "name": "#%%\n"
    }
   }
  },
  {
   "cell_type": "code",
   "execution_count": 3,
   "outputs": [
    {
     "data": {
      "text/plain": "\u001B[2;36m[07/27/21 20:07:13]\u001B[0m\u001B[2;36m \u001B[0m\u001B[32mINFO    \u001B[0m                                         \u001B[2mscene_file_writer.py\u001B[0m\u001B[2m:597\u001B[0m\n                             \u001B[1;33mFile\u001B[0m ready at \u001B[32m'D:\\COURSES\\python\\code\\F\u001B[0m                         \n                             \u001B[32morier_Transform\\media\\images\\Forier_Tra\u001B[0m                         \n                             \u001B[32mnsform\\HelloLaTeX_ManimCE_v0.8.0.png'\u001B[0m                           \n                                                                                             \n",
      "text/html": "<pre style=\"white-space:pre;overflow-x:auto;line-height:normal;font-family:Menlo,'DejaVu Sans Mono',consolas,'Courier New',monospace\"><span style=\"color: #7fbfbf; text-decoration-color: #7fbfbf\">[07/27/21 20:07:13] </span><span style=\"color: #008000; text-decoration-color: #008000\">INFO    </span>                                         <span style=\"color: #7f7f7f; text-decoration-color: #7f7f7f\">scene_file_writer.py:597</span>\n                             <span style=\"color: #808000; text-decoration-color: #808000; font-weight: bold\">File</span> ready at <span style=\"color: #008000; text-decoration-color: #008000\">'D:\\COURSES\\python\\code\\F</span>                         \n                             <span style=\"color: #008000; text-decoration-color: #008000\">orier_Transform\\media\\images\\Forier_Tra</span>                         \n                             <span style=\"color: #008000; text-decoration-color: #008000\">nsform\\HelloLaTeX_ManimCE_v0.8.0.png'</span>                           \n                                                                                             \n</pre>\n"
     },
     "metadata": {},
     "output_type": "display_data"
    },
    {
     "data": {
      "text/plain": "\u001B[2;36m                   \u001B[0m\u001B[2;36m \u001B[0m\u001B[32mINFO    \u001B[0m \u001B[1;33mRendered\u001B[0m HelloLaTeX                                 \u001B[2mscene.py\u001B[0m\u001B[2m:228\u001B[0m\n                             \u001B[1;33mPlayed\u001B[0m \u001B[32m0\u001B[0m \u001B[1;33manimations\u001B[0m                                             \n",
      "text/html": "<pre style=\"white-space:pre;overflow-x:auto;line-height:normal;font-family:Menlo,'DejaVu Sans Mono',consolas,'Courier New',monospace\"><span style=\"color: #7fbfbf; text-decoration-color: #7fbfbf\">                    </span><span style=\"color: #008000; text-decoration-color: #008000\">INFO    </span> <span style=\"color: #808000; text-decoration-color: #808000; font-weight: bold\">Rendered</span> HelloLaTeX                                 <span style=\"color: #7f7f7f; text-decoration-color: #7f7f7f\">scene.py:228</span>\n                             <span style=\"color: #808000; text-decoration-color: #808000; font-weight: bold\">Played</span> <span style=\"color: #008000; text-decoration-color: #008000\">0</span> <span style=\"color: #808000; text-decoration-color: #808000; font-weight: bold\">animations</span>                                             \n</pre>\n"
     },
     "metadata": {},
     "output_type": "display_data"
    },
    {
     "data": {
      "text/plain": "\u001B[2;36m                   \u001B[0m\u001B[2;36m \u001B[0m\u001B[32mINFO    \u001B[0m Previewed \u001B[1;33mFile\u001B[0m at: \u001B[32m'D:\\COURSES\\python\\code\\Forie\u001B[0m \u001B[2mfile_ops.py\u001B[0m\u001B[2m:193\u001B[0m\n                             \u001B[32mr_Transform\\media\\images\\Forier_Transform\\HelloL\u001B[0m                \n                             \u001B[32maTeX_ManimCE_v0.8.0.png'\u001B[0m                                        \n",
      "text/html": "<pre style=\"white-space:pre;overflow-x:auto;line-height:normal;font-family:Menlo,'DejaVu Sans Mono',consolas,'Courier New',monospace\"><span style=\"color: #7fbfbf; text-decoration-color: #7fbfbf\">                    </span><span style=\"color: #008000; text-decoration-color: #008000\">INFO    </span> Previewed <span style=\"color: #808000; text-decoration-color: #808000; font-weight: bold\">File</span> at: <span style=\"color: #008000; text-decoration-color: #008000\">'D:\\COURSES\\python\\code\\Forie</span> <span style=\"color: #7f7f7f; text-decoration-color: #7f7f7f\">file_ops.py:193</span>\n                             <span style=\"color: #008000; text-decoration-color: #008000\">r_Transform\\media\\images\\Forier_Transform\\HelloL</span>                \n                             <span style=\"color: #008000; text-decoration-color: #008000\">aTeX_ManimCE_v0.8.0.png'</span>                                        \n</pre>\n"
     },
     "metadata": {},
     "output_type": "display_data"
    },
    {
     "data": {
      "image/png": "[encoded data removed]",
      "text/plain": "<IPython.core.display.Image object>"
     },
     "metadata": {},
     "output_type": "display_data"
    },
    {
     "data": {
      "text/plain": "\u001B[2;36m[07/27/21 20:07:14]\u001B[0m\u001B[2;36m \u001B[0m\u001B[32mINFO    \u001B[0m                                         \u001B[2mscene_file_writer.py\u001B[0m\u001B[2m:597\u001B[0m\n                             \u001B[1;33mFile\u001B[0m ready at \u001B[32m'D:\\COURSES\\python\\code\\F\u001B[0m                         \n                             \u001B[32morier_Transform\\media\\images\\Forier_Tra\u001B[0m                         \n                             \u001B[32mnsform\\HelloLaTeX_ManimCE_v0.8.0.png'\u001B[0m                           \n                                                                                             \n",
      "text/html": "<pre style=\"white-space:pre;overflow-x:auto;line-height:normal;font-family:Menlo,'DejaVu Sans Mono',consolas,'Courier New',monospace\"><span style=\"color: #7fbfbf; text-decoration-color: #7fbfbf\">[07/27/21 20:07:14] </span><span style=\"color: #008000; text-decoration-color: #008000\">INFO    </span>                                         <span style=\"color: #7f7f7f; text-decoration-color: #7f7f7f\">scene_file_writer.py:597</span>\n                             <span style=\"color: #808000; text-decoration-color: #808000; font-weight: bold\">File</span> ready at <span style=\"color: #008000; text-decoration-color: #008000\">'D:\\COURSES\\python\\code\\F</span>                         \n                             <span style=\"color: #008000; text-decoration-color: #008000\">orier_Transform\\media\\images\\Forier_Tra</span>                         \n                             <span style=\"color: #008000; text-decoration-color: #008000\">nsform\\HelloLaTeX_ManimCE_v0.8.0.png'</span>                           \n                                                                                             \n</pre>\n"
     },
     "metadata": {},
     "output_type": "display_data"
    },
    {
     "data": {
      "text/plain": "\u001B[2;36m                   \u001B[0m\u001B[2;36m \u001B[0m\u001B[32mINFO    \u001B[0m \u001B[1;33mRendered\u001B[0m HelloLaTeX                                 \u001B[2mscene.py\u001B[0m\u001B[2m:228\u001B[0m\n                             \u001B[1;33mPlayed\u001B[0m \u001B[32m0\u001B[0m \u001B[1;33manimations\u001B[0m                                             \n",
      "text/html": "<pre style=\"white-space:pre;overflow-x:auto;line-height:normal;font-family:Menlo,'DejaVu Sans Mono',consolas,'Courier New',monospace\"><span style=\"color: #7fbfbf; text-decoration-color: #7fbfbf\">                    </span><span style=\"color: #008000; text-decoration-color: #008000\">INFO    </span> <span style=\"color: #808000; text-decoration-color: #808000; font-weight: bold\">Rendered</span> HelloLaTeX                                 <span style=\"color: #7f7f7f; text-decoration-color: #7f7f7f\">scene.py:228</span>\n                             <span style=\"color: #808000; text-decoration-color: #808000; font-weight: bold\">Played</span> <span style=\"color: #008000; text-decoration-color: #008000\">0</span> <span style=\"color: #808000; text-decoration-color: #808000; font-weight: bold\">animations</span>                                             \n</pre>\n"
     },
     "metadata": {},
     "output_type": "display_data"
    },
    {
     "data": {
      "text/plain": "\u001B[2;36m                   \u001B[0m\u001B[2;36m \u001B[0m\u001B[32mINFO    \u001B[0m Previewed \u001B[1;33mFile\u001B[0m at: \u001B[32m'D:\\COURSES\\python\\code\\Forie\u001B[0m \u001B[2mfile_ops.py\u001B[0m\u001B[2m:193\u001B[0m\n                             \u001B[32mr_Transform\\media\\images\\Forier_Transform\\HelloL\u001B[0m                \n                             \u001B[32maTeX_ManimCE_v0.8.0.png'\u001B[0m                                        \n",
      "text/html": "<pre style=\"white-space:pre;overflow-x:auto;line-height:normal;font-family:Menlo,'DejaVu Sans Mono',consolas,'Courier New',monospace\"><span style=\"color: #7fbfbf; text-decoration-color: #7fbfbf\">                    </span><span style=\"color: #008000; text-decoration-color: #008000\">INFO    </span> Previewed <span style=\"color: #808000; text-decoration-color: #808000; font-weight: bold\">File</span> at: <span style=\"color: #008000; text-decoration-color: #008000\">'D:\\COURSES\\python\\code\\Forie</span> <span style=\"color: #7f7f7f; text-decoration-color: #7f7f7f\">file_ops.py:193</span>\n                             <span style=\"color: #008000; text-decoration-color: #008000\">r_Transform\\media\\images\\Forier_Transform\\HelloL</span>                \n                             <span style=\"color: #008000; text-decoration-color: #008000\">aTeX_ManimCE_v0.8.0.png'</span>                                        \n</pre>\n"
     },
     "metadata": {},
     "output_type": "display_data"
    },
    {
     "data": {
      "image/png": "[encoded data removed]",
      "text/plain": "<IPython.core.display.Image object>"
     },
     "metadata": {},
     "output_type": "display_data"
    }
   ],
   "source": [
    "% % manim -pql HelloLaTeX\n",
    "\n",
    "class HelloLaTeX(Scene):\n",
    "    def construct(self):\n",
    "        tex = Tex(r\"\\LaTeX\").scale(3)\n",
    "        self.add(tex)"
   ],
   "metadata": {
    "collapsed": false,
    "pycharm": {
     "name": "#%%\n"
    }
   }
  },
  {
   "cell_type": "code",
   "execution_count": 19,
   "outputs": [
    {
     "data": {
      "text/plain": "\u001B[2;36m[07/27/21 22:06:25]\u001B[0m\u001B[2;36m \u001B[0m\u001B[32mINFO    \u001B[0m Animation \u001B[32m0\u001B[0m : Using cached data \u001B[1m(\u001B[0mhash :    \u001B[2mcairo_renderer.py\u001B[0m\u001B[2m:100\u001B[0m\n                             3163782288_3439888448_2777821804\u001B[1m)\u001B[0m                               \n",
      "text/html": "<pre style=\"white-space:pre;overflow-x:auto;line-height:normal;font-family:Menlo,'DejaVu Sans Mono',consolas,'Courier New',monospace\"><span style=\"color: #7fbfbf; text-decoration-color: #7fbfbf\">[07/27/21 22:06:25] </span><span style=\"color: #008000; text-decoration-color: #008000\">INFO    </span> Animation <span style=\"color: #008000; text-decoration-color: #008000\">0</span> : Using cached data <span style=\"font-weight: bold\">(</span>hash :    <span style=\"color: #7f7f7f; text-decoration-color: #7f7f7f\">cairo_renderer.py:100</span>\n                             3163782288_3439888448_2777821804<span style=\"font-weight: bold\">)</span>                               \n</pre>\n"
     },
     "metadata": {},
     "output_type": "display_data"
    },
    {
     "name": "stderr",
     "output_type": "stream",
     "text": [
      "                                                                          \r"
     ]
    },
    {
     "data": {
      "text/plain": "\u001B[2;36m                   \u001B[0m\u001B[2;36m \u001B[0m\u001B[32mINFO    \u001B[0m Animation \u001B[32m1\u001B[0m : Using cached data \u001B[1m(\u001B[0mhash :    \u001B[2mcairo_renderer.py\u001B[0m\u001B[2m:100\u001B[0m\n                             607903841_4165915157_2929077191\u001B[1m)\u001B[0m                                \n",
      "text/html": "<pre style=\"white-space:pre;overflow-x:auto;line-height:normal;font-family:Menlo,'DejaVu Sans Mono',consolas,'Courier New',monospace\"><span style=\"color: #7fbfbf; text-decoration-color: #7fbfbf\">                    </span><span style=\"color: #008000; text-decoration-color: #008000\">INFO    </span> Animation <span style=\"color: #008000; text-decoration-color: #008000\">1</span> : Using cached data <span style=\"font-weight: bold\">(</span>hash :    <span style=\"color: #7f7f7f; text-decoration-color: #7f7f7f\">cairo_renderer.py:100</span>\n                             607903841_4165915157_2929077191<span style=\"font-weight: bold\">)</span>                                \n</pre>\n"
     },
     "metadata": {},
     "output_type": "display_data"
    },
    {
     "name": "stderr",
     "output_type": "stream",
     "text": [
      "                                                                  \r"
     ]
    },
    {
     "data": {
      "text/plain": "\u001B[2;36m                   \u001B[0m\u001B[2;36m \u001B[0m\u001B[32mINFO    \u001B[0m Animation \u001B[32m2\u001B[0m : Using cached data \u001B[1m(\u001B[0mhash :    \u001B[2mcairo_renderer.py\u001B[0m\u001B[2m:100\u001B[0m\n                             607903841_773080071_2957270253\u001B[1m)\u001B[0m                                 \n",
      "text/html": "<pre style=\"white-space:pre;overflow-x:auto;line-height:normal;font-family:Menlo,'DejaVu Sans Mono',consolas,'Courier New',monospace\"><span style=\"color: #7fbfbf; text-decoration-color: #7fbfbf\">                    </span><span style=\"color: #008000; text-decoration-color: #008000\">INFO    </span> Animation <span style=\"color: #008000; text-decoration-color: #008000\">2</span> : Using cached data <span style=\"font-weight: bold\">(</span>hash :    <span style=\"color: #7f7f7f; text-decoration-color: #7f7f7f\">cairo_renderer.py:100</span>\n                             607903841_773080071_2957270253<span style=\"font-weight: bold\">)</span>                                 \n</pre>\n"
     },
     "metadata": {},
     "output_type": "display_data"
    },
    {
     "name": "stderr",
     "output_type": "stream",
     "text": [
      "                                                                            \r"
     ]
    },
    {
     "data": {
      "text/plain": "\u001B[2;36m                   \u001B[0m\u001B[2;36m \u001B[0m\u001B[32mINFO    \u001B[0m Animation \u001B[32m3\u001B[0m : Partial movie file        \u001B[2mscene_file_writer.py\u001B[0m\u001B[2m:413\u001B[0m\n                             written in \u001B[32m'D:\\COURSES\\python\\code\\Fori\u001B[0m                         \n                             \u001B[32mer_Transform\\media\\videos\\Forier_Transf\u001B[0m                         \n                             \u001B[32morm\\480p15\\partial_movie_files\\PointMov\u001B[0m                         \n                             \u001B[32mingOnShapes\\607903841_2067970060_292907\u001B[0m                         \n                             \u001B[32m7191.mp4'\u001B[0m                                                       \n",
      "text/html": "<pre style=\"white-space:pre;overflow-x:auto;line-height:normal;font-family:Menlo,'DejaVu Sans Mono',consolas,'Courier New',monospace\"><span style=\"color: #7fbfbf; text-decoration-color: #7fbfbf\">                    </span><span style=\"color: #008000; text-decoration-color: #008000\">INFO    </span> Animation <span style=\"color: #008000; text-decoration-color: #008000\">3</span> : Partial movie file        <span style=\"color: #7f7f7f; text-decoration-color: #7f7f7f\">scene_file_writer.py:413</span>\n                             written in <span style=\"color: #008000; text-decoration-color: #008000\">'D:\\COURSES\\python\\code\\Fori</span>                         \n                             <span style=\"color: #008000; text-decoration-color: #008000\">er_Transform\\media\\videos\\Forier_Transf</span>                         \n                             <span style=\"color: #008000; text-decoration-color: #008000\">orm\\480p15\\partial_movie_files\\PointMov</span>                         \n                             <span style=\"color: #008000; text-decoration-color: #008000\">ingOnShapes\\607903841_2067970060_292907</span>                         \n                             <span style=\"color: #008000; text-decoration-color: #008000\">7191.mp4'</span>                                                       \n</pre>\n"
     },
     "metadata": {},
     "output_type": "display_data"
    },
    {
     "data": {
      "text/plain": "\u001B[2;36m[07/27/21 22:06:26]\u001B[0m\u001B[2;36m \u001B[0m\u001B[32mINFO    \u001B[0m Animation \u001B[32m4\u001B[0m : Partial movie file        \u001B[2mscene_file_writer.py\u001B[0m\u001B[2m:413\u001B[0m\n                             written in \u001B[32m'D:\\COURSES\\python\\code\\Fori\u001B[0m                         \n                             \u001B[32mer_Transform\\media\\videos\\Forier_Transf\u001B[0m                         \n                             \u001B[32morm\\480p15\\partial_movie_files\\PointMov\u001B[0m                         \n                             \u001B[32mingOnShapes\\607903841_1415574386_604542\u001B[0m                         \n                             \u001B[32m013.mp4'\u001B[0m                                                        \n",
      "text/html": "<pre style=\"white-space:pre;overflow-x:auto;line-height:normal;font-family:Menlo,'DejaVu Sans Mono',consolas,'Courier New',monospace\"><span style=\"color: #7fbfbf; text-decoration-color: #7fbfbf\">[07/27/21 22:06:26] </span><span style=\"color: #008000; text-decoration-color: #008000\">INFO    </span> Animation <span style=\"color: #008000; text-decoration-color: #008000\">4</span> : Partial movie file        <span style=\"color: #7f7f7f; text-decoration-color: #7f7f7f\">scene_file_writer.py:413</span>\n                             written in <span style=\"color: #008000; text-decoration-color: #008000\">'D:\\COURSES\\python\\code\\Fori</span>                         \n                             <span style=\"color: #008000; text-decoration-color: #008000\">er_Transform\\media\\videos\\Forier_Transf</span>                         \n                             <span style=\"color: #008000; text-decoration-color: #008000\">orm\\480p15\\partial_movie_files\\PointMov</span>                         \n                             <span style=\"color: #008000; text-decoration-color: #008000\">ingOnShapes\\607903841_1415574386_604542</span>                         \n                             <span style=\"color: #008000; text-decoration-color: #008000\">013.mp4'</span>                                                        \n</pre>\n"
     },
     "metadata": {},
     "output_type": "display_data"
    },
    {
     "data": {
      "text/plain": "\u001B[2;36m                   \u001B[0m\u001B[2;36m \u001B[0m\u001B[32mINFO    \u001B[0m                                         \u001B[2mscene_file_writer.py\u001B[0m\u001B[2m:597\u001B[0m\n                             \u001B[1;33mFile\u001B[0m ready at \u001B[32m'D:\\COURSES\\python\\code\\F\u001B[0m                         \n                             \u001B[32morier_Transform\\media\\videos\\Forier_Tra\u001B[0m                         \n                             \u001B[32mnsform\\480p15\\PointMovingOnShapes.mp4'\u001B[0m                          \n                                                                                             \n",
      "text/html": "<pre style=\"white-space:pre;overflow-x:auto;line-height:normal;font-family:Menlo,'DejaVu Sans Mono',consolas,'Courier New',monospace\"><span style=\"color: #7fbfbf; text-decoration-color: #7fbfbf\">                    </span><span style=\"color: #008000; text-decoration-color: #008000\">INFO    </span>                                         <span style=\"color: #7f7f7f; text-decoration-color: #7f7f7f\">scene_file_writer.py:597</span>\n                             <span style=\"color: #808000; text-decoration-color: #808000; font-weight: bold\">File</span> ready at <span style=\"color: #008000; text-decoration-color: #008000\">'D:\\COURSES\\python\\code\\F</span>                         \n                             <span style=\"color: #008000; text-decoration-color: #008000\">orier_Transform\\media\\videos\\Forier_Tra</span>                         \n                             <span style=\"color: #008000; text-decoration-color: #008000\">nsform\\480p15\\PointMovingOnShapes.mp4'</span>                          \n                                                                                             \n</pre>\n"
     },
     "metadata": {},
     "output_type": "display_data"
    },
    {
     "data": {
      "text/plain": "\u001B[2;36m                   \u001B[0m\u001B[2;36m \u001B[0m\u001B[32mINFO    \u001B[0m \u001B[1;33mRendered\u001B[0m PointMovingOnShapes                        \u001B[2mscene.py\u001B[0m\u001B[2m:228\u001B[0m\n                             \u001B[1;33mPlayed\u001B[0m \u001B[32m5\u001B[0m \u001B[1;33manimations\u001B[0m                                             \n",
      "text/html": "<pre style=\"white-space:pre;overflow-x:auto;line-height:normal;font-family:Menlo,'DejaVu Sans Mono',consolas,'Courier New',monospace\"><span style=\"color: #7fbfbf; text-decoration-color: #7fbfbf\">                    </span><span style=\"color: #008000; text-decoration-color: #008000\">INFO    </span> <span style=\"color: #808000; text-decoration-color: #808000; font-weight: bold\">Rendered</span> PointMovingOnShapes                        <span style=\"color: #7f7f7f; text-decoration-color: #7f7f7f\">scene.py:228</span>\n                             <span style=\"color: #808000; text-decoration-color: #808000; font-weight: bold\">Played</span> <span style=\"color: #008000; text-decoration-color: #008000\">5</span> <span style=\"color: #808000; text-decoration-color: #808000; font-weight: bold\">animations</span>                                             \n</pre>\n"
     },
     "metadata": {},
     "output_type": "display_data"
    },
    {
     "data": {
      "text/plain": "\u001B[2;36m                   \u001B[0m\u001B[2;36m \u001B[0m\u001B[32mINFO    \u001B[0m Previewed \u001B[1;33mFile\u001B[0m at: \u001B[32m'D:\\COURSES\\python\\code\\Forie\u001B[0m \u001B[2mfile_ops.py\u001B[0m\u001B[2m:193\u001B[0m\n                             \u001B[32mr_Transform\\media\\videos\\Forier_Transform\\480p15\u001B[0m                \n                             \u001B[32m\\PointMovingOnShapes.mp4'\u001B[0m                                       \n",
      "text/html": "<pre style=\"white-space:pre;overflow-x:auto;line-height:normal;font-family:Menlo,'DejaVu Sans Mono',consolas,'Courier New',monospace\"><span style=\"color: #7fbfbf; text-decoration-color: #7fbfbf\">                    </span><span style=\"color: #008000; text-decoration-color: #008000\">INFO    </span> Previewed <span style=\"color: #808000; text-decoration-color: #808000; font-weight: bold\">File</span> at: <span style=\"color: #008000; text-decoration-color: #008000\">'D:\\COURSES\\python\\code\\Forie</span> <span style=\"color: #7f7f7f; text-decoration-color: #7f7f7f\">file_ops.py:193</span>\n                             <span style=\"color: #008000; text-decoration-color: #008000\">r_Transform\\media\\videos\\Forier_Transform\\480p15</span>                \n                             <span style=\"color: #008000; text-decoration-color: #008000\">\\PointMovingOnShapes.mp4'</span>                                       \n</pre>\n"
     },
     "metadata": {},
     "output_type": "display_data"
    },
    {
     "data": {
      "text/plain": "<IPython.core.display.Video object>",
      "text/html": "<video src=\"media\\jupyter\\PointMovingOnShapes@2021-07-27@22-06-26.mp4\" controls autoplay loop style=\"max-width: 25vw;\"  >\n      Your browser does not support the <code>video</code> element.\n    </video>"
     },
     "metadata": {},
     "output_type": "display_data"
    }
   ],
   "source": [
    "% % manim -pql PointMovingOnShapes\n",
    "\n",
    "class PointMovingOnShapes(Scene):\n",
    "    def construct(self):\n",
    "        circle = Circle(radius=1, color=BLUE)\n",
    "        dot = Dot()\n",
    "        dot2 = dot.copy().shift(RIGHT)\n",
    "        self.add(dot)\n",
    "\n",
    "        line = Line([3, 0, 0], [5, 0, 0])\n",
    "        self.add(line)\n",
    "\n",
    "        self.play(GrowFromCenter(circle))\n",
    "        self.play(Transform(dot, dot2))\n",
    "        self.play(MoveAlongPath(dot, circle), run_time=2, rate_func=linear)\n",
    "        self.play(Rotating(dot, about_point=np.Array([2, 0, 0])), run_time=1.5)\n",
    "        self.wait()"
   ],
   "metadata": {
    "collapsed": false,
    "pycharm": {
     "name": "#%%\n"
    }
   }
  },
  {
   "cell_type": "code",
   "execution_count": 17,
   "outputs": [
    {
     "name": "stderr",
     "output_type": "stream",
     "text": [
      "                                                                                                \r"
     ]
    },
    {
     "data": {
      "text/plain": "\u001B[2;36m[07/27/21 21:06:47]\u001B[0m\u001B[2;36m \u001B[0m\u001B[32mINFO    \u001B[0m Animation \u001B[32m0\u001B[0m : Partial movie file        \u001B[2mscene_file_writer.py\u001B[0m\u001B[2m:413\u001B[0m\n                             written in \u001B[32m'D:\\COURSES\\python\\code\\Fori\u001B[0m                         \n                             \u001B[32mer_Transform\\media\\videos\\Forier_Transf\u001B[0m                         \n                             \u001B[32morm\\480p15\\partial_movie_files\\Followin\u001B[0m                         \n                             \u001B[32mgGraphCamera\\427027924_3331075351_37018\u001B[0m                         \n                             \u001B[32m232.mp4'\u001B[0m                                                        \n",
      "text/html": "<pre style=\"white-space:pre;overflow-x:auto;line-height:normal;font-family:Menlo,'DejaVu Sans Mono',consolas,'Courier New',monospace\"><span style=\"color: #7fbfbf; text-decoration-color: #7fbfbf\">[07/27/21 21:06:47] </span><span style=\"color: #008000; text-decoration-color: #008000\">INFO    </span> Animation <span style=\"color: #008000; text-decoration-color: #008000\">0</span> : Partial movie file        <span style=\"color: #7f7f7f; text-decoration-color: #7f7f7f\">scene_file_writer.py:413</span>\n                             written in <span style=\"color: #008000; text-decoration-color: #008000\">'D:\\COURSES\\python\\code\\Fori</span>                         \n                             <span style=\"color: #008000; text-decoration-color: #008000\">er_Transform\\media\\videos\\Forier_Transf</span>                         \n                             <span style=\"color: #008000; text-decoration-color: #008000\">orm\\480p15\\partial_movie_files\\Followin</span>                         \n                             <span style=\"color: #008000; text-decoration-color: #008000\">gGraphCamera\\427027924_3331075351_37018</span>                         \n                             <span style=\"color: #008000; text-decoration-color: #008000\">232.mp4'</span>                                                        \n</pre>\n"
     },
     "metadata": {},
     "output_type": "display_data"
    },
    {
     "name": "stderr",
     "output_type": "stream",
     "text": [
      "                                                                                \r"
     ]
    },
    {
     "data": {
      "text/plain": "\u001B[2;36m[07/27/21 21:06:48]\u001B[0m\u001B[2;36m \u001B[0m\u001B[32mINFO    \u001B[0m Animation \u001B[32m1\u001B[0m : Partial movie file        \u001B[2mscene_file_writer.py\u001B[0m\u001B[2m:413\u001B[0m\n                             written in \u001B[32m'D:\\COURSES\\python\\code\\Fori\u001B[0m                         \n                             \u001B[32mer_Transform\\media\\videos\\Forier_Transf\u001B[0m                         \n                             \u001B[32morm\\480p15\\partial_movie_files\\Followin\u001B[0m                         \n                             \u001B[32mgGraphCamera\\1440501294_3690016044_2421\u001B[0m                         \n                             \u001B[32m828278.mp4'\u001B[0m                                                     \n",
      "text/html": "<pre style=\"white-space:pre;overflow-x:auto;line-height:normal;font-family:Menlo,'DejaVu Sans Mono',consolas,'Courier New',monospace\"><span style=\"color: #7fbfbf; text-decoration-color: #7fbfbf\">[07/27/21 21:06:48] </span><span style=\"color: #008000; text-decoration-color: #008000\">INFO    </span> Animation <span style=\"color: #008000; text-decoration-color: #008000\">1</span> : Partial movie file        <span style=\"color: #7f7f7f; text-decoration-color: #7f7f7f\">scene_file_writer.py:413</span>\n                             written in <span style=\"color: #008000; text-decoration-color: #008000\">'D:\\COURSES\\python\\code\\Fori</span>                         \n                             <span style=\"color: #008000; text-decoration-color: #008000\">er_Transform\\media\\videos\\Forier_Transf</span>                         \n                             <span style=\"color: #008000; text-decoration-color: #008000\">orm\\480p15\\partial_movie_files\\Followin</span>                         \n                             <span style=\"color: #008000; text-decoration-color: #008000\">gGraphCamera\\1440501294_3690016044_2421</span>                         \n                             <span style=\"color: #008000; text-decoration-color: #008000\">828278.mp4'</span>                                                     \n</pre>\n"
     },
     "metadata": {},
     "output_type": "display_data"
    },
    {
     "name": "stderr",
     "output_type": "stream",
     "text": [
      "                                                                                       \r"
     ]
    },
    {
     "data": {
      "text/plain": "\u001B[2;36m                   \u001B[0m\u001B[2;36m \u001B[0m\u001B[32mINFO    \u001B[0m Animation \u001B[32m2\u001B[0m : Partial movie file        \u001B[2mscene_file_writer.py\u001B[0m\u001B[2m:413\u001B[0m\n                             written in \u001B[32m'D:\\COURSES\\python\\code\\Fori\u001B[0m                         \n                             \u001B[32mer_Transform\\media\\videos\\Forier_Transf\u001B[0m                         \n                             \u001B[32morm\\480p15\\partial_movie_files\\Followin\u001B[0m                         \n                             \u001B[32mgGraphCamera\\71356249_4198001544_461084\u001B[0m                         \n                             \u001B[32m554.mp4'\u001B[0m                                                        \n",
      "text/html": "<pre style=\"white-space:pre;overflow-x:auto;line-height:normal;font-family:Menlo,'DejaVu Sans Mono',consolas,'Courier New',monospace\"><span style=\"color: #7fbfbf; text-decoration-color: #7fbfbf\">                    </span><span style=\"color: #008000; text-decoration-color: #008000\">INFO    </span> Animation <span style=\"color: #008000; text-decoration-color: #008000\">2</span> : Partial movie file        <span style=\"color: #7f7f7f; text-decoration-color: #7f7f7f\">scene_file_writer.py:413</span>\n                             written in <span style=\"color: #008000; text-decoration-color: #008000\">'D:\\COURSES\\python\\code\\Fori</span>                         \n                             <span style=\"color: #008000; text-decoration-color: #008000\">er_Transform\\media\\videos\\Forier_Transf</span>                         \n                             <span style=\"color: #008000; text-decoration-color: #008000\">orm\\480p15\\partial_movie_files\\Followin</span>                         \n                             <span style=\"color: #008000; text-decoration-color: #008000\">gGraphCamera\\71356249_4198001544_461084</span>                         \n                             <span style=\"color: #008000; text-decoration-color: #008000\">554.mp4'</span>                                                        \n</pre>\n"
     },
     "metadata": {},
     "output_type": "display_data"
    },
    {
     "data": {
      "text/plain": "\u001B[2;36m                   \u001B[0m\u001B[2;36m \u001B[0m\u001B[32mINFO    \u001B[0m                                         \u001B[2mscene_file_writer.py\u001B[0m\u001B[2m:597\u001B[0m\n                             \u001B[1;33mFile\u001B[0m ready at \u001B[32m'D:\\COURSES\\python\\code\\F\u001B[0m                         \n                             \u001B[32morier_Transform\\media\\videos\\Forier_Tra\u001B[0m                         \n                             \u001B[32mnsform\\480p15\\FollowingGraphCamera.mp4'\u001B[0m                         \n                                                                                             \n",
      "text/html": "<pre style=\"white-space:pre;overflow-x:auto;line-height:normal;font-family:Menlo,'DejaVu Sans Mono',consolas,'Courier New',monospace\"><span style=\"color: #7fbfbf; text-decoration-color: #7fbfbf\">                    </span><span style=\"color: #008000; text-decoration-color: #008000\">INFO    </span>                                         <span style=\"color: #7f7f7f; text-decoration-color: #7f7f7f\">scene_file_writer.py:597</span>\n                             <span style=\"color: #808000; text-decoration-color: #808000; font-weight: bold\">File</span> ready at <span style=\"color: #008000; text-decoration-color: #008000\">'D:\\COURSES\\python\\code\\F</span>                         \n                             <span style=\"color: #008000; text-decoration-color: #008000\">orier_Transform\\media\\videos\\Forier_Tra</span>                         \n                             <span style=\"color: #008000; text-decoration-color: #008000\">nsform\\480p15\\FollowingGraphCamera.mp4'</span>                         \n                                                                                             \n</pre>\n"
     },
     "metadata": {},
     "output_type": "display_data"
    },
    {
     "data": {
      "text/plain": "\u001B[2;36m                   \u001B[0m\u001B[2;36m \u001B[0m\u001B[32mINFO    \u001B[0m \u001B[1;33mRendered\u001B[0m FollowingGraphCamera                       \u001B[2mscene.py\u001B[0m\u001B[2m:228\u001B[0m\n                             \u001B[1;33mPlayed\u001B[0m \u001B[32m3\u001B[0m \u001B[1;33manimations\u001B[0m                                             \n",
      "text/html": "<pre style=\"white-space:pre;overflow-x:auto;line-height:normal;font-family:Menlo,'DejaVu Sans Mono',consolas,'Courier New',monospace\"><span style=\"color: #7fbfbf; text-decoration-color: #7fbfbf\">                    </span><span style=\"color: #008000; text-decoration-color: #008000\">INFO    </span> <span style=\"color: #808000; text-decoration-color: #808000; font-weight: bold\">Rendered</span> FollowingGraphCamera                       <span style=\"color: #7f7f7f; text-decoration-color: #7f7f7f\">scene.py:228</span>\n                             <span style=\"color: #808000; text-decoration-color: #808000; font-weight: bold\">Played</span> <span style=\"color: #008000; text-decoration-color: #008000\">3</span> <span style=\"color: #808000; text-decoration-color: #808000; font-weight: bold\">animations</span>                                             \n</pre>\n"
     },
     "metadata": {},
     "output_type": "display_data"
    },
    {
     "data": {
      "text/plain": "\u001B[2;36m                   \u001B[0m\u001B[2;36m \u001B[0m\u001B[32mINFO    \u001B[0m Previewed \u001B[1;33mFile\u001B[0m at: \u001B[32m'D:\\COURSES\\python\\code\\Forie\u001B[0m \u001B[2mfile_ops.py\u001B[0m\u001B[2m:193\u001B[0m\n                             \u001B[32mr_Transform\\media\\videos\\Forier_Transform\\480p15\u001B[0m                \n                             \u001B[32m\\FollowingGraphCamera.mp4'\u001B[0m                                      \n",
      "text/html": "<pre style=\"white-space:pre;overflow-x:auto;line-height:normal;font-family:Menlo,'DejaVu Sans Mono',consolas,'Courier New',monospace\"><span style=\"color: #7fbfbf; text-decoration-color: #7fbfbf\">                    </span><span style=\"color: #008000; text-decoration-color: #008000\">INFO    </span> Previewed <span style=\"color: #808000; text-decoration-color: #808000; font-weight: bold\">File</span> at: <span style=\"color: #008000; text-decoration-color: #008000\">'D:\\COURSES\\python\\code\\Forie</span> <span style=\"color: #7f7f7f; text-decoration-color: #7f7f7f\">file_ops.py:193</span>\n                             <span style=\"color: #008000; text-decoration-color: #008000\">r_Transform\\media\\videos\\Forier_Transform\\480p15</span>                \n                             <span style=\"color: #008000; text-decoration-color: #008000\">\\FollowingGraphCamera.mp4'</span>                                      \n</pre>\n"
     },
     "metadata": {},
     "output_type": "display_data"
    },
    {
     "data": {
      "text/plain": "<IPython.core.display.Video object>",
      "text/html": "<video src=\"media\\jupyter\\FollowingGraphCamera@2021-07-27@21-06-48.mp4\" controls autoplay loop style=\"max-width: 25vw;\"  >\n      Your browser does not support the <code>video</code> element.\n    </video>"
     },
     "metadata": {},
     "output_type": "display_data"
    }
   ],
   "source": [
    "% % manim -pql FollowingGraphCamera\n",
    "\n",
    "class FollowingGraphCamera(MovingCameraScene):\n",
    "    def construct(self):\n",
    "        self.camera.frame.save_state()\n",
    "\n",
    "        # create the axes and the curve\n",
    "        ax = Axes(x_range=[-1, 10], y_range=[-1, 10])\n",
    "        graph = ax.get_graph(lambda x: np.sin(x), color=BLUE, x_range=[0, 3 * PI])\n",
    "\n",
    "        # create dots based on the graph\n",
    "        moving_dot = Dot(ax.i2gp(graph.t_min, graph), color=ORANGE)\n",
    "        dot_1 = Dot(ax.i2gp(graph.t_min, graph))\n",
    "        dot_2 = Dot(ax.i2gp(graph.t_max, graph))\n",
    "\n",
    "        self.add(ax, graph, dot_1, dot_2, moving_dot)\n",
    "        self.play(self.camera.frame.animate.scale(0.5).move_to(moving_dot))\n",
    "\n",
    "        def update_curve(mob):\n",
    "            mob.move_to(moving_dot.get_center())\n",
    "\n",
    "        self.camera.frame.add_updater(update_curve)\n",
    "        self.play(MoveAlongPath(moving_dot, graph, rate_func=linear))\n",
    "        self.camera.frame.remove_updater(update_curve)\n",
    "\n",
    "        self.play(Restore(self.camera.frame))"
   ],
   "metadata": {
    "collapsed": false,
    "pycharm": {
     "name": "#%%\n"
    }
   }
  },
  {
   "cell_type": "code",
   "execution_count": 53,
   "outputs": [
    {
     "data": {
      "text/plain": "\u001B[2;36m[07/27/21 23:47:18]\u001B[0m\u001B[2;36m \u001B[0m\u001B[32mINFO    \u001B[0m                                         \u001B[2mscene_file_writer.py\u001B[0m\u001B[2m:597\u001B[0m\n                             \u001B[1;33mFile\u001B[0m ready at \u001B[32m'D:\\COURSES\\python\\code\\F\u001B[0m                         \n                             \u001B[32morier_Transform\\media\\images\\Forier_Tra\u001B[0m                         \n                             \u001B[32mnsform\\GraphAreaPlot_ManimCE_v0.8.0.png\u001B[0m                         \n                             \u001B[32m'\u001B[0m                                                               \n                                                                                             \n",
      "text/html": "<pre style=\"white-space:pre;overflow-x:auto;line-height:normal;font-family:Menlo,'DejaVu Sans Mono',consolas,'Courier New',monospace\"><span style=\"color: #7fbfbf; text-decoration-color: #7fbfbf\">[07/27/21 23:47:18] </span><span style=\"color: #008000; text-decoration-color: #008000\">INFO    </span>                                         <span style=\"color: #7f7f7f; text-decoration-color: #7f7f7f\">scene_file_writer.py:597</span>\n                             <span style=\"color: #808000; text-decoration-color: #808000; font-weight: bold\">File</span> ready at <span style=\"color: #008000; text-decoration-color: #008000\">'D:\\COURSES\\python\\code\\F</span>                         \n                             <span style=\"color: #008000; text-decoration-color: #008000\">orier_Transform\\media\\images\\Forier_Tra</span>                         \n                             <span style=\"color: #008000; text-decoration-color: #008000\">nsform\\GraphAreaPlot_ManimCE_v0.8.0.png</span>                         \n                             <span style=\"color: #008000; text-decoration-color: #008000\">'</span>                                                               \n                                                                                             \n</pre>\n"
     },
     "metadata": {},
     "output_type": "display_data"
    },
    {
     "data": {
      "text/plain": "\u001B[2;36m                   \u001B[0m\u001B[2;36m \u001B[0m\u001B[32mINFO    \u001B[0m \u001B[1;33mRendered\u001B[0m GraphAreaPlot                              \u001B[2mscene.py\u001B[0m\u001B[2m:228\u001B[0m\n                             \u001B[1;33mPlayed\u001B[0m \u001B[32m0\u001B[0m \u001B[1;33manimations\u001B[0m                                             \n",
      "text/html": "<pre style=\"white-space:pre;overflow-x:auto;line-height:normal;font-family:Menlo,'DejaVu Sans Mono',consolas,'Courier New',monospace\"><span style=\"color: #7fbfbf; text-decoration-color: #7fbfbf\">                    </span><span style=\"color: #008000; text-decoration-color: #008000\">INFO    </span> <span style=\"color: #808000; text-decoration-color: #808000; font-weight: bold\">Rendered</span> GraphAreaPlot                              <span style=\"color: #7f7f7f; text-decoration-color: #7f7f7f\">scene.py:228</span>\n                             <span style=\"color: #808000; text-decoration-color: #808000; font-weight: bold\">Played</span> <span style=\"color: #008000; text-decoration-color: #008000\">0</span> <span style=\"color: #808000; text-decoration-color: #808000; font-weight: bold\">animations</span>                                             \n</pre>\n"
     },
     "metadata": {},
     "output_type": "display_data"
    },
    {
     "data": {
      "text/plain": "\u001B[2;36m[07/27/21 23:47:19]\u001B[0m\u001B[2;36m \u001B[0m\u001B[32mINFO    \u001B[0m Previewed \u001B[1;33mFile\u001B[0m at: \u001B[32m'D:\\COURSES\\python\\code\\Forie\u001B[0m \u001B[2mfile_ops.py\u001B[0m\u001B[2m:193\u001B[0m\n                             \u001B[32mr_Transform\\media\\images\\Forier_Transform\\GraphA\u001B[0m                \n                             \u001B[32mreaPlot_ManimCE_v0.8.0.png'\u001B[0m                                     \n",
      "text/html": "<pre style=\"white-space:pre;overflow-x:auto;line-height:normal;font-family:Menlo,'DejaVu Sans Mono',consolas,'Courier New',monospace\"><span style=\"color: #7fbfbf; text-decoration-color: #7fbfbf\">[07/27/21 23:47:19] </span><span style=\"color: #008000; text-decoration-color: #008000\">INFO    </span> Previewed <span style=\"color: #808000; text-decoration-color: #808000; font-weight: bold\">File</span> at: <span style=\"color: #008000; text-decoration-color: #008000\">'D:\\COURSES\\python\\code\\Forie</span> <span style=\"color: #7f7f7f; text-decoration-color: #7f7f7f\">file_ops.py:193</span>\n                             <span style=\"color: #008000; text-decoration-color: #008000\">r_Transform\\media\\images\\Forier_Transform\\GraphA</span>                \n                             <span style=\"color: #008000; text-decoration-color: #008000\">reaPlot_ManimCE_v0.8.0.png'</span>                                     \n</pre>\n"
     },
     "metadata": {},
     "output_type": "display_data"
    },
    {
     "data": {
      "image/png": "[encoded data removed]",
      "text/plain": "<IPython.core.display.Image object>"
     },
     "metadata": {},
     "output_type": "display_data"
    }
   ],
   "source": [
    "% % manim -pql GraphAreaPlot\n",
    "\n",
    "class GraphAreaPlot(Scene):\n",
    "    def construct(self):\n",
    "        ax = Axes(\n",
    "            x_range=[0, 5],\n",
    "            y_range=[0, 6],\n",
    "            x_axis_config={\"numbers_to_include\": [2, 3]},\n",
    "            tips=False,\n",
    "        )\n",
    "\n",
    "        labels = ax.get_axis_labels()\n",
    "\n",
    "        curve_1 = ax.get_graph(lambda x: 4 * x - x ** 2, x_range=[0, 4], color=BLUE_C)\n",
    "        curve_2 = ax.get_graph(\n",
    "            lambda x: 0.8 * x ** 2 - 3 * x + 4,\n",
    "            x_range=[0, 4],\n",
    "            color=GREEN_B,\n",
    "        )\n",
    "\n",
    "        line_1 = ax.get_vertical_line(ax.input_to_graph_point(2, curve_1), color=YELLOW)\n",
    "        line_2 = ax.get_vertical_line(ax.i2gp(3, curve_1), color=YELLOW)\n",
    "\n",
    "        area_1 = ax.get_area(curve_1, x_range=[0.3, 0.6], dx_scaling=40, color=BLUE)\n",
    "        #         area_2 = ax.get_area(curve_1, [2, 3], bounded=curve_2, color=GREY, opacity=0.2) #same\n",
    "        area_2 = ax.get_area(curve_2, [2, 3], bounded=curve_1, color=GREY, opacity=0.2)\n",
    "\n",
    "        self.add(ax, labels, curve_1, curve_2, line_1, line_2, area_1, area_2)"
   ],
   "metadata": {
    "collapsed": false,
    "pycharm": {
     "name": "#%%\n"
    }
   }
  },
  {
   "cell_type": "code",
   "execution_count": 59,
   "outputs": [
    {
     "name": "stderr",
     "output_type": "stream",
     "text": [
      "                                                                                    \r"
     ]
    },
    {
     "data": {
      "text/plain": "\u001B[2;36m[07/28/21 01:02:10]\u001B[0m\u001B[2;36m \u001B[0m\u001B[32mINFO    \u001B[0m Animation \u001B[32m9\u001B[0m : Using cached data \u001B[1m(\u001B[0mhash :    \u001B[2mcairo_renderer.py\u001B[0m\u001B[2m:100\u001B[0m\n                             607903841_1415574386_2779712012\u001B[1m)\u001B[0m                                \n",
      "text/html": "<pre style=\"white-space:pre;overflow-x:auto;line-height:normal;font-family:Menlo,'DejaVu Sans Mono',consolas,'Courier New',monospace\"><span style=\"color: #7fbfbf; text-decoration-color: #7fbfbf\">[07/28/21 01:02:10] </span><span style=\"color: #008000; text-decoration-color: #008000\">INFO    </span> Animation <span style=\"color: #008000; text-decoration-color: #008000\">9</span> : Using cached data <span style=\"font-weight: bold\">(</span>hash :    <span style=\"color: #7f7f7f; text-decoration-color: #7f7f7f\">cairo_renderer.py:100</span>\n                             607903841_1415574386_2779712012<span style=\"font-weight: bold\">)</span>                                \n</pre>\n"
     },
     "metadata": {},
     "output_type": "display_data"
    },
    {
     "data": {
      "text/plain": "\u001B[2;36m                   \u001B[0m\u001B[2;36m \u001B[0m\u001B[32mINFO    \u001B[0m                                         \u001B[2mscene_file_writer.py\u001B[0m\u001B[2m:597\u001B[0m\n                             \u001B[1;33mFile\u001B[0m ready at \u001B[32m'D:\\COURSES\\python\\code\\F\u001B[0m                         \n                             \u001B[32morier_Transform\\media\\videos\\Forier_Tra\u001B[0m                         \n                             \u001B[32mnsform\\480p15\\OpeningManim.mp4'\u001B[0m                                 \n                                                                                             \n",
      "text/html": "<pre style=\"white-space:pre;overflow-x:auto;line-height:normal;font-family:Menlo,'DejaVu Sans Mono',consolas,'Courier New',monospace\"><span style=\"color: #7fbfbf; text-decoration-color: #7fbfbf\">                    </span><span style=\"color: #008000; text-decoration-color: #008000\">INFO    </span>                                         <span style=\"color: #7f7f7f; text-decoration-color: #7f7f7f\">scene_file_writer.py:597</span>\n                             <span style=\"color: #808000; text-decoration-color: #808000; font-weight: bold\">File</span> ready at <span style=\"color: #008000; text-decoration-color: #008000\">'D:\\COURSES\\python\\code\\F</span>                         \n                             <span style=\"color: #008000; text-decoration-color: #008000\">orier_Transform\\media\\videos\\Forier_Tra</span>                         \n                             <span style=\"color: #008000; text-decoration-color: #008000\">nsform\\480p15\\OpeningManim.mp4'</span>                                 \n                                                                                             \n</pre>\n"
     },
     "metadata": {},
     "output_type": "display_data"
    },
    {
     "data": {
      "text/plain": "\u001B[2;36m                   \u001B[0m\u001B[2;36m \u001B[0m\u001B[32mINFO    \u001B[0m \u001B[1;33mRendered\u001B[0m OpeningManim                               \u001B[2mscene.py\u001B[0m\u001B[2m:228\u001B[0m\n                             \u001B[1;33mPlayed\u001B[0m \u001B[32m10\u001B[0m \u001B[1;33manimations\u001B[0m                                            \n",
      "text/html": "<pre style=\"white-space:pre;overflow-x:auto;line-height:normal;font-family:Menlo,'DejaVu Sans Mono',consolas,'Courier New',monospace\"><span style=\"color: #7fbfbf; text-decoration-color: #7fbfbf\">                    </span><span style=\"color: #008000; text-decoration-color: #008000\">INFO    </span> <span style=\"color: #808000; text-decoration-color: #808000; font-weight: bold\">Rendered</span> OpeningManim                               <span style=\"color: #7f7f7f; text-decoration-color: #7f7f7f\">scene.py:228</span>\n                             <span style=\"color: #808000; text-decoration-color: #808000; font-weight: bold\">Played</span> <span style=\"color: #008000; text-decoration-color: #008000\">10</span> <span style=\"color: #808000; text-decoration-color: #808000; font-weight: bold\">animations</span>                                            \n</pre>\n"
     },
     "metadata": {},
     "output_type": "display_data"
    },
    {
     "data": {
      "text/plain": "\u001B[2;36m                   \u001B[0m\u001B[2;36m \u001B[0m\u001B[32mINFO    \u001B[0m Previewed \u001B[1;33mFile\u001B[0m at: \u001B[32m'D:\\COURSES\\python\\code\\Forie\u001B[0m \u001B[2mfile_ops.py\u001B[0m\u001B[2m:193\u001B[0m\n                             \u001B[32mr_Transform\\media\\videos\\Forier_Transform\\480p15\u001B[0m                \n                             \u001B[32m\\OpeningManim.mp4'\u001B[0m                                              \n",
      "text/html": "<pre style=\"white-space:pre;overflow-x:auto;line-height:normal;font-family:Menlo,'DejaVu Sans Mono',consolas,'Courier New',monospace\"><span style=\"color: #7fbfbf; text-decoration-color: #7fbfbf\">                    </span><span style=\"color: #008000; text-decoration-color: #008000\">INFO    </span> Previewed <span style=\"color: #808000; text-decoration-color: #808000; font-weight: bold\">File</span> at: <span style=\"color: #008000; text-decoration-color: #008000\">'D:\\COURSES\\python\\code\\Forie</span> <span style=\"color: #7f7f7f; text-decoration-color: #7f7f7f\">file_ops.py:193</span>\n                             <span style=\"color: #008000; text-decoration-color: #008000\">r_Transform\\media\\videos\\Forier_Transform\\480p15</span>                \n                             <span style=\"color: #008000; text-decoration-color: #008000\">\\OpeningManim.mp4'</span>                                              \n</pre>\n"
     },
     "metadata": {},
     "output_type": "display_data"
    },
    {
     "data": {
      "text/plain": "<IPython.core.display.Video object>",
      "text/html": "<video src=\"media\\jupyter\\OpeningManim@2021-07-28@01-02-10.mp4\" controls autoplay loop style=\"max-width: 25vw;\"  >\n      Your browser does not support the <code>video</code> element.\n    </video>"
     },
     "metadata": {},
     "output_type": "display_data"
    },
    {
     "data": {
      "text/plain": "\u001B[2;36m                   \u001B[0m\u001B[2;36m \u001B[0m\u001B[32mINFO    \u001B[0m Animation \u001B[32m0\u001B[0m : Using cached data \u001B[1m(\u001B[0mhash :    \u001B[2mcairo_renderer.py\u001B[0m\u001B[2m:100\u001B[0m\n                             3163782288_3021902968_1300305427\u001B[1m)\u001B[0m                               \n",
      "text/html": "<pre style=\"white-space:pre;overflow-x:auto;line-height:normal;font-family:Menlo,'DejaVu Sans Mono',consolas,'Courier New',monospace\"><span style=\"color: #7fbfbf; text-decoration-color: #7fbfbf\">                    </span><span style=\"color: #008000; text-decoration-color: #008000\">INFO    </span> Animation <span style=\"color: #008000; text-decoration-color: #008000\">0</span> : Using cached data <span style=\"font-weight: bold\">(</span>hash :    <span style=\"color: #7f7f7f; text-decoration-color: #7f7f7f\">cairo_renderer.py:100</span>\n                             3163782288_3021902968_1300305427<span style=\"font-weight: bold\">)</span>                               \n</pre>\n"
     },
     "metadata": {},
     "output_type": "display_data"
    },
    {
     "name": "stderr",
     "output_type": "stream",
     "text": [
      "                                                                                            \r"
     ]
    },
    {
     "data": {
      "text/plain": "\u001B[2;36m[07/28/21 01:02:11]\u001B[0m\u001B[2;36m \u001B[0m\u001B[32mINFO    \u001B[0m Animation \u001B[32m1\u001B[0m : Using cached data \u001B[1m(\u001B[0mhash :    \u001B[2mcairo_renderer.py\u001B[0m\u001B[2m:100\u001B[0m\n                             607903841_1415574386_1908475862\u001B[1m)\u001B[0m                                \n",
      "text/html": "<pre style=\"white-space:pre;overflow-x:auto;line-height:normal;font-family:Menlo,'DejaVu Sans Mono',consolas,'Courier New',monospace\"><span style=\"color: #7fbfbf; text-decoration-color: #7fbfbf\">[07/28/21 01:02:11] </span><span style=\"color: #008000; text-decoration-color: #008000\">INFO    </span> Animation <span style=\"color: #008000; text-decoration-color: #008000\">1</span> : Using cached data <span style=\"font-weight: bold\">(</span>hash :    <span style=\"color: #7f7f7f; text-decoration-color: #7f7f7f\">cairo_renderer.py:100</span>\n                             607903841_1415574386_1908475862<span style=\"font-weight: bold\">)</span>                                \n</pre>\n"
     },
     "metadata": {},
     "output_type": "display_data"
    },
    {
     "data": {
      "text/plain": "\u001B[2;36m                   \u001B[0m\u001B[2;36m \u001B[0m\u001B[32mINFO    \u001B[0m Animation \u001B[32m2\u001B[0m : Using cached data \u001B[1m(\u001B[0mhash :    \u001B[2mcairo_renderer.py\u001B[0m\u001B[2m:100\u001B[0m\n                             607903841_2384032045_762074824\u001B[1m)\u001B[0m                                 \n",
      "text/html": "<pre style=\"white-space:pre;overflow-x:auto;line-height:normal;font-family:Menlo,'DejaVu Sans Mono',consolas,'Courier New',monospace\"><span style=\"color: #7fbfbf; text-decoration-color: #7fbfbf\">                    </span><span style=\"color: #008000; text-decoration-color: #008000\">INFO    </span> Animation <span style=\"color: #008000; text-decoration-color: #008000\">2</span> : Using cached data <span style=\"font-weight: bold\">(</span>hash :    <span style=\"color: #7f7f7f; text-decoration-color: #7f7f7f\">cairo_renderer.py:100</span>\n                             607903841_2384032045_762074824<span style=\"font-weight: bold\">)</span>                                 \n</pre>\n"
     },
     "metadata": {},
     "output_type": "display_data"
    },
    {
     "name": "stderr",
     "output_type": "stream",
     "text": [
      "                                                                                                \r"
     ]
    },
    {
     "data": {
      "text/plain": "\u001B[2;36m                   \u001B[0m\u001B[2;36m \u001B[0m\u001B[32mINFO    \u001B[0m Animation \u001B[32m3\u001B[0m : Using cached data \u001B[1m(\u001B[0mhash :    \u001B[2mcairo_renderer.py\u001B[0m\u001B[2m:100\u001B[0m\n                             607903841_1415574386_2300265955\u001B[1m)\u001B[0m                                \n",
      "text/html": "<pre style=\"white-space:pre;overflow-x:auto;line-height:normal;font-family:Menlo,'DejaVu Sans Mono',consolas,'Courier New',monospace\"><span style=\"color: #7fbfbf; text-decoration-color: #7fbfbf\">                    </span><span style=\"color: #008000; text-decoration-color: #008000\">INFO    </span> Animation <span style=\"color: #008000; text-decoration-color: #008000\">3</span> : Using cached data <span style=\"font-weight: bold\">(</span>hash :    <span style=\"color: #7f7f7f; text-decoration-color: #7f7f7f\">cairo_renderer.py:100</span>\n                             607903841_1415574386_2300265955<span style=\"font-weight: bold\">)</span>                                \n</pre>\n"
     },
     "metadata": {},
     "output_type": "display_data"
    },
    {
     "data": {
      "text/plain": "\u001B[2;36m                   \u001B[0m\u001B[2;36m \u001B[0m\u001B[32mINFO    \u001B[0m Animation \u001B[32m4\u001B[0m : Using cached data \u001B[1m(\u001B[0mhash :    \u001B[2mcairo_renderer.py\u001B[0m\u001B[2m:100\u001B[0m\n                             607903841_2590247119_2873054617\u001B[1m)\u001B[0m                                \n",
      "text/html": "<pre style=\"white-space:pre;overflow-x:auto;line-height:normal;font-family:Menlo,'DejaVu Sans Mono',consolas,'Courier New',monospace\"><span style=\"color: #7fbfbf; text-decoration-color: #7fbfbf\">                    </span><span style=\"color: #008000; text-decoration-color: #008000\">INFO    </span> Animation <span style=\"color: #008000; text-decoration-color: #008000\">4</span> : Using cached data <span style=\"font-weight: bold\">(</span>hash :    <span style=\"color: #7f7f7f; text-decoration-color: #7f7f7f\">cairo_renderer.py:100</span>\n                             607903841_2590247119_2873054617<span style=\"font-weight: bold\">)</span>                                \n</pre>\n"
     },
     "metadata": {},
     "output_type": "display_data"
    },
    {
     "name": "stderr",
     "output_type": "stream",
     "text": [
      "                                                                                              \r"
     ]
    },
    {
     "data": {
      "text/plain": "\u001B[2;36m[07/28/21 01:02:12]\u001B[0m\u001B[2;36m \u001B[0m\u001B[32mINFO    \u001B[0m Animation \u001B[32m5\u001B[0m : Partial movie file        \u001B[2mscene_file_writer.py\u001B[0m\u001B[2m:413\u001B[0m\n                             written in \u001B[32m'D:\\COURSES\\python\\code\\Fori\u001B[0m                         \n                             \u001B[32mer_Transform\\media\\videos\\Forier_Transf\u001B[0m                         \n                             \u001B[32morm\\480p15\\partial_movie_files\\OpeningM\u001B[0m                         \n                             \u001B[32manim\\607903841_2500646527_2646234504.mp\u001B[0m                         \n                             \u001B[32m4'\u001B[0m                                                              \n",
      "text/html": "<pre style=\"white-space:pre;overflow-x:auto;line-height:normal;font-family:Menlo,'DejaVu Sans Mono',consolas,'Courier New',monospace\"><span style=\"color: #7fbfbf; text-decoration-color: #7fbfbf\">[07/28/21 01:02:12] </span><span style=\"color: #008000; text-decoration-color: #008000\">INFO    </span> Animation <span style=\"color: #008000; text-decoration-color: #008000\">5</span> : Partial movie file        <span style=\"color: #7f7f7f; text-decoration-color: #7f7f7f\">scene_file_writer.py:413</span>\n                             written in <span style=\"color: #008000; text-decoration-color: #008000\">'D:\\COURSES\\python\\code\\Fori</span>                         \n                             <span style=\"color: #008000; text-decoration-color: #008000\">er_Transform\\media\\videos\\Forier_Transf</span>                         \n                             <span style=\"color: #008000; text-decoration-color: #008000\">orm\\480p15\\partial_movie_files\\OpeningM</span>                         \n                             <span style=\"color: #008000; text-decoration-color: #008000\">anim\\607903841_2500646527_2646234504.mp</span>                         \n                             <span style=\"color: #008000; text-decoration-color: #008000\">4'</span>                                                              \n</pre>\n"
     },
     "metadata": {},
     "output_type": "display_data"
    },
    {
     "data": {
      "text/plain": "\u001B[2;36m[07/28/21 01:02:13]\u001B[0m\u001B[2;36m \u001B[0m\u001B[32mINFO    \u001B[0m Animation \u001B[32m6\u001B[0m : Using cached data \u001B[1m(\u001B[0mhash :    \u001B[2mcairo_renderer.py\u001B[0m\u001B[2m:100\u001B[0m\n                             607903841_1913640149_1579245283\u001B[1m)\u001B[0m                                \n",
      "text/html": "<pre style=\"white-space:pre;overflow-x:auto;line-height:normal;font-family:Menlo,'DejaVu Sans Mono',consolas,'Courier New',monospace\"><span style=\"color: #7fbfbf; text-decoration-color: #7fbfbf\">[07/28/21 01:02:13] </span><span style=\"color: #008000; text-decoration-color: #008000\">INFO    </span> Animation <span style=\"color: #008000; text-decoration-color: #008000\">6</span> : Using cached data <span style=\"font-weight: bold\">(</span>hash :    <span style=\"color: #7f7f7f; text-decoration-color: #7f7f7f\">cairo_renderer.py:100</span>\n                             607903841_1913640149_1579245283<span style=\"font-weight: bold\">)</span>                                \n</pre>\n"
     },
     "metadata": {},
     "output_type": "display_data"
    },
    {
     "name": "stderr",
     "output_type": "stream",
     "text": [
      "                                                                                                  \r"
     ]
    },
    {
     "data": {
      "text/plain": "\u001B[2;36m                   \u001B[0m\u001B[2;36m \u001B[0m\u001B[32mINFO    \u001B[0m Animation \u001B[32m7\u001B[0m : Using cached data \u001B[1m(\u001B[0mhash :    \u001B[2mcairo_renderer.py\u001B[0m\u001B[2m:100\u001B[0m\n                             607903841_1415574386_1397102004\u001B[1m)\u001B[0m                                \n",
      "text/html": "<pre style=\"white-space:pre;overflow-x:auto;line-height:normal;font-family:Menlo,'DejaVu Sans Mono',consolas,'Courier New',monospace\"><span style=\"color: #7fbfbf; text-decoration-color: #7fbfbf\">                    </span><span style=\"color: #008000; text-decoration-color: #008000\">INFO    </span> Animation <span style=\"color: #008000; text-decoration-color: #008000\">7</span> : Using cached data <span style=\"font-weight: bold\">(</span>hash :    <span style=\"color: #7f7f7f; text-decoration-color: #7f7f7f\">cairo_renderer.py:100</span>\n                             607903841_1415574386_1397102004<span style=\"font-weight: bold\">)</span>                                \n</pre>\n"
     },
     "metadata": {},
     "output_type": "display_data"
    },
    {
     "data": {
      "text/plain": "\u001B[2;36m                   \u001B[0m\u001B[2;36m \u001B[0m\u001B[32mINFO    \u001B[0m Animation \u001B[32m8\u001B[0m : Using cached data \u001B[1m(\u001B[0mhash :    \u001B[2mcairo_renderer.py\u001B[0m\u001B[2m:100\u001B[0m\n                             607903841_2372239044_1359902312\u001B[1m)\u001B[0m                                \n",
      "text/html": "<pre style=\"white-space:pre;overflow-x:auto;line-height:normal;font-family:Menlo,'DejaVu Sans Mono',consolas,'Courier New',monospace\"><span style=\"color: #7fbfbf; text-decoration-color: #7fbfbf\">                    </span><span style=\"color: #008000; text-decoration-color: #008000\">INFO    </span> Animation <span style=\"color: #008000; text-decoration-color: #008000\">8</span> : Using cached data <span style=\"font-weight: bold\">(</span>hash :    <span style=\"color: #7f7f7f; text-decoration-color: #7f7f7f\">cairo_renderer.py:100</span>\n                             607903841_2372239044_1359902312<span style=\"font-weight: bold\">)</span>                                \n</pre>\n"
     },
     "metadata": {},
     "output_type": "display_data"
    },
    {
     "name": "stderr",
     "output_type": "stream",
     "text": [
      "                                                                                    \r"
     ]
    },
    {
     "data": {
      "text/plain": "\u001B[2;36m[07/28/21 01:02:14]\u001B[0m\u001B[2;36m \u001B[0m\u001B[32mINFO    \u001B[0m Animation \u001B[32m9\u001B[0m : Using cached data \u001B[1m(\u001B[0mhash :    \u001B[2mcairo_renderer.py\u001B[0m\u001B[2m:100\u001B[0m\n                             607903841_1415574386_2779712012\u001B[1m)\u001B[0m                                \n",
      "text/html": "<pre style=\"white-space:pre;overflow-x:auto;line-height:normal;font-family:Menlo,'DejaVu Sans Mono',consolas,'Courier New',monospace\"><span style=\"color: #7fbfbf; text-decoration-color: #7fbfbf\">[07/28/21 01:02:14] </span><span style=\"color: #008000; text-decoration-color: #008000\">INFO    </span> Animation <span style=\"color: #008000; text-decoration-color: #008000\">9</span> : Using cached data <span style=\"font-weight: bold\">(</span>hash :    <span style=\"color: #7f7f7f; text-decoration-color: #7f7f7f\">cairo_renderer.py:100</span>\n                             607903841_1415574386_2779712012<span style=\"font-weight: bold\">)</span>                                \n</pre>\n"
     },
     "metadata": {},
     "output_type": "display_data"
    },
    {
     "data": {
      "text/plain": "\u001B[2;36m                   \u001B[0m\u001B[2;36m \u001B[0m\u001B[32mINFO    \u001B[0m                                         \u001B[2mscene_file_writer.py\u001B[0m\u001B[2m:597\u001B[0m\n                             \u001B[1;33mFile\u001B[0m ready at \u001B[32m'D:\\COURSES\\python\\code\\F\u001B[0m                         \n                             \u001B[32morier_Transform\\media\\videos\\Forier_Tra\u001B[0m                         \n                             \u001B[32mnsform\\480p15\\OpeningManim.mp4'\u001B[0m                                 \n                                                                                             \n",
      "text/html": "<pre style=\"white-space:pre;overflow-x:auto;line-height:normal;font-family:Menlo,'DejaVu Sans Mono',consolas,'Courier New',monospace\"><span style=\"color: #7fbfbf; text-decoration-color: #7fbfbf\">                    </span><span style=\"color: #008000; text-decoration-color: #008000\">INFO    </span>                                         <span style=\"color: #7f7f7f; text-decoration-color: #7f7f7f\">scene_file_writer.py:597</span>\n                             <span style=\"color: #808000; text-decoration-color: #808000; font-weight: bold\">File</span> ready at <span style=\"color: #008000; text-decoration-color: #008000\">'D:\\COURSES\\python\\code\\F</span>                         \n                             <span style=\"color: #008000; text-decoration-color: #008000\">orier_Transform\\media\\videos\\Forier_Tra</span>                         \n                             <span style=\"color: #008000; text-decoration-color: #008000\">nsform\\480p15\\OpeningManim.mp4'</span>                                 \n                                                                                             \n</pre>\n"
     },
     "metadata": {},
     "output_type": "display_data"
    },
    {
     "data": {
      "text/plain": "\u001B[2;36m                   \u001B[0m\u001B[2;36m \u001B[0m\u001B[32mINFO    \u001B[0m \u001B[1;33mRendered\u001B[0m OpeningManim                               \u001B[2mscene.py\u001B[0m\u001B[2m:228\u001B[0m\n                             \u001B[1;33mPlayed\u001B[0m \u001B[32m10\u001B[0m \u001B[1;33manimations\u001B[0m                                            \n",
      "text/html": "<pre style=\"white-space:pre;overflow-x:auto;line-height:normal;font-family:Menlo,'DejaVu Sans Mono',consolas,'Courier New',monospace\"><span style=\"color: #7fbfbf; text-decoration-color: #7fbfbf\">                    </span><span style=\"color: #008000; text-decoration-color: #008000\">INFO    </span> <span style=\"color: #808000; text-decoration-color: #808000; font-weight: bold\">Rendered</span> OpeningManim                               <span style=\"color: #7f7f7f; text-decoration-color: #7f7f7f\">scene.py:228</span>\n                             <span style=\"color: #808000; text-decoration-color: #808000; font-weight: bold\">Played</span> <span style=\"color: #008000; text-decoration-color: #008000\">10</span> <span style=\"color: #808000; text-decoration-color: #808000; font-weight: bold\">animations</span>                                            \n</pre>\n"
     },
     "metadata": {},
     "output_type": "display_data"
    },
    {
     "data": {
      "text/plain": "\u001B[2;36m                   \u001B[0m\u001B[2;36m \u001B[0m\u001B[32mINFO    \u001B[0m Previewed \u001B[1;33mFile\u001B[0m at: \u001B[32m'D:\\COURSES\\python\\code\\Forie\u001B[0m \u001B[2mfile_ops.py\u001B[0m\u001B[2m:193\u001B[0m\n                             \u001B[32mr_Transform\\media\\videos\\Forier_Transform\\480p15\u001B[0m                \n                             \u001B[32m\\OpeningManim.mp4'\u001B[0m                                              \n",
      "text/html": "<pre style=\"white-space:pre;overflow-x:auto;line-height:normal;font-family:Menlo,'DejaVu Sans Mono',consolas,'Courier New',monospace\"><span style=\"color: #7fbfbf; text-decoration-color: #7fbfbf\">                    </span><span style=\"color: #008000; text-decoration-color: #008000\">INFO    </span> Previewed <span style=\"color: #808000; text-decoration-color: #808000; font-weight: bold\">File</span> at: <span style=\"color: #008000; text-decoration-color: #008000\">'D:\\COURSES\\python\\code\\Forie</span> <span style=\"color: #7f7f7f; text-decoration-color: #7f7f7f\">file_ops.py:193</span>\n                             <span style=\"color: #008000; text-decoration-color: #008000\">r_Transform\\media\\videos\\Forier_Transform\\480p15</span>                \n                             <span style=\"color: #008000; text-decoration-color: #008000\">\\OpeningManim.mp4'</span>                                              \n</pre>\n"
     },
     "metadata": {},
     "output_type": "display_data"
    },
    {
     "data": {
      "text/plain": "<IPython.core.display.Video object>",
      "text/html": "<video src=\"media\\jupyter\\OpeningManim@2021-07-28@01-02-14.mp4\" controls autoplay loop style=\"max-width: 25vw;\"  >\n      Your browser does not support the <code>video</code> element.\n    </video>"
     },
     "metadata": {},
     "output_type": "display_data"
    }
   ],
   "source": [
    "% % manim -pql OpeningManim\n",
    "\n",
    "class OpeningManim(Scene):\n",
    "    def construct(self):\n",
    "        title = Tex(r\"This is some \\LaTeX\")\n",
    "        basel = MathTex(r\"\\sum_{n=1}^\\infty \\frac{1}{n^2} = \\frac{\\pi^2}{6}\")\n",
    "        VGroup(title, basel).arrange(DOWN)\n",
    "        self.play(\n",
    "            Write(title),\n",
    "            FadeIn(basel, shift=DOWN),\n",
    "        )\n",
    "        self.wait()\n",
    "\n",
    "        transform_title = Tex(\"That was a transform\")\n",
    "        transform_title.to_corner(UP + LEFT)\n",
    "        self.play(\n",
    "            Transform(title, transform_title),\n",
    "            LaggedStart(*[FadeOut(obj, shift=DOWN) for obj in basel]),\n",
    "        )\n",
    "        self.wait()\n",
    "\n",
    "        grid = NumberPlane()\n",
    "        grid_title = Tex(\"This is a grid\")\n",
    "        grid_title.scale(1.5)\n",
    "        grid_title.move_to(transform_title)\n",
    "\n",
    "        self.add(grid, grid_title)  # Make sure title is on top of grid\n",
    "        self.play(\n",
    "            FadeOut(title),\n",
    "            FadeIn(grid_title, shift=UP),\n",
    "            Create(grid, run_time=3, lag_ratio=0.1),\n",
    "        )\n",
    "        self.wait()\n",
    "\n",
    "        grid_transform_title = Tex(\n",
    "            r\"That was a non-linear function \\\\ applied to the grid\"\n",
    "        )\n",
    "        grid_transform_title.move_to(grid_title, UL)\n",
    "        grid.prepare_for_nonlinear_transform()\n",
    "        self.play(\n",
    "            grid.animate.apply_function(\n",
    "                lambda p: p\n",
    "                          + np.array(\n",
    "                    [\n",
    "                        np.sin(p[1]),\n",
    "                        np.sin(p[0]),\n",
    "                        0,\n",
    "                    ]\n",
    "                )\n",
    "            ),\n",
    "            run_time=3,\n",
    "        )\n",
    "        self.wait()\n",
    "        self.play(Transform(grid_title, grid_transform_title))\n",
    "        self.wait()"
   ],
   "metadata": {
    "collapsed": false,
    "pycharm": {
     "name": "#%%\n"
    }
   }
  },
  {
   "cell_type": "code",
   "execution_count": null,
   "outputs": [],
   "source": [
    "% % manim -pql PointWithTrace\n",
    "\n",
    "class PointWithTrace(Scene):\n",
    "    def construct(self):\n",
    "        path = VMobject()\n",
    "        dot = Dot()\n",
    "        path.set_points_as_corners([dot.get_center(), dot.get_center()])\n",
    "\n",
    "        def update_path(path):\n",
    "            previous_path = path.copy()\n",
    "            previous_path.add_points_as_corners([dot.get_center()])\n",
    "            path.become(previous_path)\n",
    "\n",
    "        path.add_updater(update_path)\n",
    "        self.add(path, dot)\n",
    "        self.play(Rotating(dot, radians=PI, about_point=RIGHT, run_time=2))\n",
    "        self.wait()\n",
    "        self.play(dot.shift, UP)\n",
    "        self.play(dot.shift, LEFT)\n",
    "        self.wait()"
   ],
   "metadata": {
    "collapsed": false,
    "pycharm": {
     "name": "#%%\n"
    }
   }
  },
  {
   "cell_type": "code",
   "execution_count": 22,
   "outputs": [
    {
     "name": "stderr",
     "output_type": "stream",
     "text": [
      "                                                                            \r"
     ]
    },
    {
     "data": {
      "text/plain": "\u001B[2;36m[07/29/21 04:36:16]\u001B[0m\u001B[2;36m \u001B[0m\u001B[32mINFO    \u001B[0m Animation \u001B[32m0\u001B[0m : Partial movie file        \u001B[2mscene_file_writer.py\u001B[0m\u001B[2m:413\u001B[0m\n                             written in \u001B[32m'D:\\COURSES\\python\\code\\Fori\u001B[0m                         \n                             \u001B[32mer_Transform\\media\\videos\\Forier_Transf\u001B[0m                         \n                             \u001B[32morm\\480p15\\partial_movie_files\\manim_mo\u001B[0m                         \n                             \u001B[32mbject_arrow_001a\\3163782288_569327211_6\u001B[0m                         \n                             \u001B[32m76881083.mp4'\u001B[0m                                                   \n",
      "text/html": "<pre style=\"white-space:pre;overflow-x:auto;line-height:normal;font-family:Menlo,'DejaVu Sans Mono',consolas,'Courier New',monospace\"><span style=\"color: #7fbfbf; text-decoration-color: #7fbfbf\">[07/29/21 04:36:16] </span><span style=\"color: #008000; text-decoration-color: #008000\">INFO    </span> Animation <span style=\"color: #008000; text-decoration-color: #008000\">0</span> : Partial movie file        <span style=\"color: #7f7f7f; text-decoration-color: #7f7f7f\">scene_file_writer.py:413</span>\n                             written in <span style=\"color: #008000; text-decoration-color: #008000\">'D:\\COURSES\\python\\code\\Fori</span>                         \n                             <span style=\"color: #008000; text-decoration-color: #008000\">er_Transform\\media\\videos\\Forier_Transf</span>                         \n                             <span style=\"color: #008000; text-decoration-color: #008000\">orm\\480p15\\partial_movie_files\\manim_mo</span>                         \n                             <span style=\"color: #008000; text-decoration-color: #008000\">bject_arrow_001a\\3163782288_569327211_6</span>                         \n                             <span style=\"color: #008000; text-decoration-color: #008000\">76881083.mp4'</span>                                                   \n</pre>\n"
     },
     "metadata": {},
     "output_type": "display_data"
    },
    {
     "name": "stderr",
     "output_type": "stream",
     "text": [
      "                                                                            \r"
     ]
    },
    {
     "data": {
      "text/plain": "\u001B[2;36m                   \u001B[0m\u001B[2;36m \u001B[0m\u001B[32mINFO    \u001B[0m Animation \u001B[32m1\u001B[0m : Partial movie file        \u001B[2mscene_file_writer.py\u001B[0m\u001B[2m:413\u001B[0m\n                             written in \u001B[32m'D:\\COURSES\\python\\code\\Fori\u001B[0m                         \n                             \u001B[32mer_Transform\\media\\videos\\Forier_Transf\u001B[0m                         \n                             \u001B[32morm\\480p15\\partial_movie_files\\manim_mo\u001B[0m                         \n                             \u001B[32mbject_arrow_001a\\607903841_974432428_37\u001B[0m                         \n                             \u001B[32m80481964.mp4'\u001B[0m                                                   \n",
      "text/html": "<pre style=\"white-space:pre;overflow-x:auto;line-height:normal;font-family:Menlo,'DejaVu Sans Mono',consolas,'Courier New',monospace\"><span style=\"color: #7fbfbf; text-decoration-color: #7fbfbf\">                    </span><span style=\"color: #008000; text-decoration-color: #008000\">INFO    </span> Animation <span style=\"color: #008000; text-decoration-color: #008000\">1</span> : Partial movie file        <span style=\"color: #7f7f7f; text-decoration-color: #7f7f7f\">scene_file_writer.py:413</span>\n                             written in <span style=\"color: #008000; text-decoration-color: #008000\">'D:\\COURSES\\python\\code\\Fori</span>                         \n                             <span style=\"color: #008000; text-decoration-color: #008000\">er_Transform\\media\\videos\\Forier_Transf</span>                         \n                             <span style=\"color: #008000; text-decoration-color: #008000\">orm\\480p15\\partial_movie_files\\manim_mo</span>                         \n                             <span style=\"color: #008000; text-decoration-color: #008000\">bject_arrow_001a\\607903841_974432428_37</span>                         \n                             <span style=\"color: #008000; text-decoration-color: #008000\">80481964.mp4'</span>                                                   \n</pre>\n"
     },
     "metadata": {},
     "output_type": "display_data"
    },
    {
     "name": "stderr",
     "output_type": "stream",
     "text": [
      "                                                                            \r"
     ]
    },
    {
     "data": {
      "text/plain": "\u001B[2;36m                   \u001B[0m\u001B[2;36m \u001B[0m\u001B[32mINFO    \u001B[0m Animation \u001B[32m2\u001B[0m : Partial movie file        \u001B[2mscene_file_writer.py\u001B[0m\u001B[2m:413\u001B[0m\n                             written in \u001B[32m'D:\\COURSES\\python\\code\\Fori\u001B[0m                         \n                             \u001B[32mer_Transform\\media\\videos\\Forier_Transf\u001B[0m                         \n                             \u001B[32morm\\480p15\\partial_movie_files\\manim_mo\u001B[0m                         \n                             \u001B[32mbject_arrow_001a\\607903841_326715073_14\u001B[0m                         \n                             \u001B[32m03830885.mp4'\u001B[0m                                                   \n",
      "text/html": "<pre style=\"white-space:pre;overflow-x:auto;line-height:normal;font-family:Menlo,'DejaVu Sans Mono',consolas,'Courier New',monospace\"><span style=\"color: #7fbfbf; text-decoration-color: #7fbfbf\">                    </span><span style=\"color: #008000; text-decoration-color: #008000\">INFO    </span> Animation <span style=\"color: #008000; text-decoration-color: #008000\">2</span> : Partial movie file        <span style=\"color: #7f7f7f; text-decoration-color: #7f7f7f\">scene_file_writer.py:413</span>\n                             written in <span style=\"color: #008000; text-decoration-color: #008000\">'D:\\COURSES\\python\\code\\Fori</span>                         \n                             <span style=\"color: #008000; text-decoration-color: #008000\">er_Transform\\media\\videos\\Forier_Transf</span>                         \n                             <span style=\"color: #008000; text-decoration-color: #008000\">orm\\480p15\\partial_movie_files\\manim_mo</span>                         \n                             <span style=\"color: #008000; text-decoration-color: #008000\">bject_arrow_001a\\607903841_326715073_14</span>                         \n                             <span style=\"color: #008000; text-decoration-color: #008000\">03830885.mp4'</span>                                                   \n</pre>\n"
     },
     "metadata": {},
     "output_type": "display_data"
    },
    {
     "data": {
      "text/plain": "\u001B[2;36m                   \u001B[0m\u001B[2;36m \u001B[0m\u001B[32mINFO    \u001B[0m                                         \u001B[2mscene_file_writer.py\u001B[0m\u001B[2m:597\u001B[0m\n                             \u001B[1;33mFile\u001B[0m ready at \u001B[32m'D:\\COURSES\\python\\code\\F\u001B[0m                         \n                             \u001B[32morier_Transform\\media\\videos\\Forier_Tra\u001B[0m                         \n                             \u001B[32mnsform\\480p15\\manim_mobject_arrow_001a.\u001B[0m                         \n                             \u001B[32mmp4'\u001B[0m                                                            \n                                                                                             \n",
      "text/html": "<pre style=\"white-space:pre;overflow-x:auto;line-height:normal;font-family:Menlo,'DejaVu Sans Mono',consolas,'Courier New',monospace\"><span style=\"color: #7fbfbf; text-decoration-color: #7fbfbf\">                    </span><span style=\"color: #008000; text-decoration-color: #008000\">INFO    </span>                                         <span style=\"color: #7f7f7f; text-decoration-color: #7f7f7f\">scene_file_writer.py:597</span>\n                             <span style=\"color: #808000; text-decoration-color: #808000; font-weight: bold\">File</span> ready at <span style=\"color: #008000; text-decoration-color: #008000\">'D:\\COURSES\\python\\code\\F</span>                         \n                             <span style=\"color: #008000; text-decoration-color: #008000\">orier_Transform\\media\\videos\\Forier_Tra</span>                         \n                             <span style=\"color: #008000; text-decoration-color: #008000\">nsform\\480p15\\manim_mobject_arrow_001a.</span>                         \n                             <span style=\"color: #008000; text-decoration-color: #008000\">mp4'</span>                                                            \n                                                                                             \n</pre>\n"
     },
     "metadata": {},
     "output_type": "display_data"
    },
    {
     "data": {
      "text/plain": "\u001B[2;36m                   \u001B[0m\u001B[2;36m \u001B[0m\u001B[32mINFO    \u001B[0m \u001B[1;33mRendered\u001B[0m manim_mobject_arrow_001a                   \u001B[2mscene.py\u001B[0m\u001B[2m:228\u001B[0m\n                             \u001B[1;33mPlayed\u001B[0m \u001B[32m3\u001B[0m \u001B[1;33manimations\u001B[0m                                             \n",
      "text/html": "<pre style=\"white-space:pre;overflow-x:auto;line-height:normal;font-family:Menlo,'DejaVu Sans Mono',consolas,'Courier New',monospace\"><span style=\"color: #7fbfbf; text-decoration-color: #7fbfbf\">                    </span><span style=\"color: #008000; text-decoration-color: #008000\">INFO    </span> <span style=\"color: #808000; text-decoration-color: #808000; font-weight: bold\">Rendered</span> manim_mobject_arrow_001a                   <span style=\"color: #7f7f7f; text-decoration-color: #7f7f7f\">scene.py:228</span>\n                             <span style=\"color: #808000; text-decoration-color: #808000; font-weight: bold\">Played</span> <span style=\"color: #008000; text-decoration-color: #008000\">3</span> <span style=\"color: #808000; text-decoration-color: #808000; font-weight: bold\">animations</span>                                             \n</pre>\n"
     },
     "metadata": {},
     "output_type": "display_data"
    },
    {
     "data": {
      "text/plain": "\u001B[2;36m                   \u001B[0m\u001B[2;36m \u001B[0m\u001B[32mINFO    \u001B[0m Previewed \u001B[1;33mFile\u001B[0m at: \u001B[32m'D:\\COURSES\\python\\code\\Forie\u001B[0m \u001B[2mfile_ops.py\u001B[0m\u001B[2m:193\u001B[0m\n                             \u001B[32mr_Transform\\media\\videos\\Forier_Transform\\480p15\u001B[0m                \n                             \u001B[32m\\manim_mobject_arrow_001a.mp4'\u001B[0m                                  \n",
      "text/html": "<pre style=\"white-space:pre;overflow-x:auto;line-height:normal;font-family:Menlo,'DejaVu Sans Mono',consolas,'Courier New',monospace\"><span style=\"color: #7fbfbf; text-decoration-color: #7fbfbf\">                    </span><span style=\"color: #008000; text-decoration-color: #008000\">INFO    </span> Previewed <span style=\"color: #808000; text-decoration-color: #808000; font-weight: bold\">File</span> at: <span style=\"color: #008000; text-decoration-color: #008000\">'D:\\COURSES\\python\\code\\Forie</span> <span style=\"color: #7f7f7f; text-decoration-color: #7f7f7f\">file_ops.py:193</span>\n                             <span style=\"color: #008000; text-decoration-color: #008000\">r_Transform\\media\\videos\\Forier_Transform\\480p15</span>                \n                             <span style=\"color: #008000; text-decoration-color: #008000\">\\manim_mobject_arrow_001a.mp4'</span>                                  \n</pre>\n"
     },
     "metadata": {},
     "output_type": "display_data"
    },
    {
     "data": {
      "text/plain": "<IPython.core.display.Video object>",
      "text/html": "<video src=\"media\\jupyter\\manim_mobject_arrow_001a@2021-07-29@04-36-16.mp4\" controls autoplay loop style=\"max-width: 25vw;\"  >\n      Your browser does not support the <code>video</code> element.\n    </video>"
     },
     "metadata": {},
     "output_type": "display_data"
    }
   ],
   "source": [
    "%%manim -pql manim_mobject_arrow_001a\n",
    "\n",
    "class manim_mobject_arrow_001a(Scene):\n",
    "    def construct(self):\n",
    "        poly = Arrow((5.5, 3, 0), (1, 0, 0), stroke_width=10, color=\"#88FF00\", fill_color=\"#FFFF00\",\n",
    "                     fill_opacity=1, buff=20)\n",
    "        dd = Dot((1,0,0), radius=.01 )\n",
    "        dd2 = Dot((1, 1, 0), radius=.1 )\n",
    "\n",
    "        ar1 = Arrow((-7, 4, 0), (1, 1, 0), buff=2)\n",
    "        ar2 =Arrow(stroke_width=50)\n",
    "        self.add(ar1,poly,ar2,dd, dd2)\n",
    "        self.play(Create(poly), run_time=2)\n",
    "        self.play(Create(ar1), run_time = 2)\n",
    "        self.play(Create(ar2), run_time=2)\n"
   ],
   "metadata": {
    "collapsed": false,
    "pycharm": {
     "name": "#%%\n"
    }
   }
  }
 ],
 "metadata": {
  "kernelspec": {
   "display_name": "Python 3",
   "language": "python",
   "name": "python3"
  },
  "language_info": {
   "codemirror_mode": {
    "name": "ipython",
    "version": 2
   },
   "file_extension": ".py",
   "mimetype": "text/x-python",
   "name": "python",
   "nbconvert_exporter": "python",
   "pygments_lexer": "ipython2",
   "version": "2.7.6"
  }
 },
 "nbformat": 4,
 "nbformat_minor": 0
}